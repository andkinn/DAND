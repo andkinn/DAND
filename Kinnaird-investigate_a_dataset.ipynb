{
 "cells": [
  {
   "cell_type": "markdown",
   "metadata": {},
   "source": [
    "# Project: Investigate the Misuse of Healthcare Resources Through Missed Appointments\n",
    "\n",
    "## Table of Contents\n",
    "<ul>\n",
    "<li><a href=\"#intro\">Introduction</a></li>\n",
    "<li><a href=\"#wrangling\">Data Wrangling</a></li>\n",
    "<li><a href=\"#eda\">Exploratory Data Analysis</a></li>\n",
    "<li><a href=\"#conclusions\">Conclusions</a></li>\n",
    "</ul>"
   ]
  },
  {
   "cell_type": "markdown",
   "metadata": {},
   "source": [
    "<a id='intro'></a>\n",
    "## Introduction\n",
    "\n",
    "According to the <a href=\"https://data.worldbank.org/indicator/SH.XPD.PCAP?end=2014&start=1995&view=chart\">World Bank analysis</a> of World Health Organization Global Health Expenditure data, annual health expenditure per capita significantly increased from 1995-2014. Within this 10 year period, expenditures increased from \\$461 to \\$1,058 per person. This 130% increase outpaces growth in international GDP per capita by 30% (1995: \\$5,403, 2014: \\$10,871, <a href=\"https://data.worldbank.org/indicator/NY.GDP.PCAP.CD?view=chart\">World Bank Data</a>).\n",
    "\n",
    "As healthcare expenditures increase, healthcare resources must be strategic utilized. In order to understand the use and misuse of healthcare resources, 100,000 medical appointments in Brazil will be analyzed. The purpose of the analysis is to understand what characterstics are commonly associated with a \"no-show appointment,\" which is when an appointment is scheduled and the patient does not arrive for the appointment, and what hospitals do patients with these characteristics visit.\n",
    "\n",
    "The dependent variable considered is whether or not the patient arrives for the appointment. The independent variables to be considered are age-group (0-18, 19-44, 45-64, 65-84, and 85 and over; these age bins reflect the same bins used by the <a href=\"https://www.cms.gov/Research-Statistics-Data-and-Systems/Statistics-Trends-and-Reports/NationalHealthExpendData/Age-and-Gender.html\">Centers for Medicare and Medicaid Services \"Health Expenditures by Age and Gender\" study</a>),\"Scholarship\"(whether the patient receives federal assistance or does not receive federal assistance), and general well-being (whether the patient has hypertension, diabetes, alcoholism, or handicap or none of these conditions).\n",
    "\n",
    "Once the initial analysis is complete, the above indpendent variables will then be grouped by neighborhood, the next dependent variable to be analyzed. Grouping by neighborhood will create profiles for each neighborhood based on age-groups, scholarship, and general well-being.\n",
    "\n",
    "Combining the results from each analysis will provide initial conclusions for understanding which group(s) based on age, scholarship, and general well-being, misuse healthcare resources and in which neighborhoods these groups are concentrated.\n",
    "\n",
    "All data provided by JoniHoppen from the <a href=\"https://www.kaggle.com/joniarroba/noshowappointments\">\"Medical Appointment No Shows\" dataset</a>."
   ]
  },
  {
   "cell_type": "code",
   "execution_count": 97,
   "metadata": {
    "collapsed": true
   },
   "outputs": [],
   "source": [
    "# Import statements for all of the packages used.\n",
    "import pandas as pd\n",
    "import numpy as np\n",
    "import matplotlib.pyplot as plt\n",
    "% matplotlib inline"
   ]
  },
  {
   "cell_type": "markdown",
   "metadata": {},
   "source": [
    "<a id='wrangling'></a>\n",
    "## Data Wrangling\n",
    "\n",
    "### General Properties"
   ]
  },
  {
   "cell_type": "code",
   "execution_count": 98,
   "metadata": {},
   "outputs": [
    {
     "name": "stdout",
     "output_type": "stream",
     "text": [
      "<class 'pandas.core.frame.DataFrame'>\n",
      "RangeIndex: 110527 entries, 0 to 110526\n",
      "Data columns (total 14 columns):\n",
      "PatientId         110527 non-null float64\n",
      "AppointmentID     110527 non-null int64\n",
      "Gender            110527 non-null object\n",
      "ScheduledDay      110527 non-null object\n",
      "AppointmentDay    110527 non-null object\n",
      "Age               110527 non-null int64\n",
      "Neighbourhood     110527 non-null object\n",
      "Scholarship       110527 non-null int64\n",
      "Hipertension      110527 non-null int64\n",
      "Diabetes          110527 non-null int64\n",
      "Alcoholism        110527 non-null int64\n",
      "Handcap           110527 non-null int64\n",
      "SMS_received      110527 non-null int64\n",
      "No-show           110527 non-null object\n",
      "dtypes: float64(1), int64(8), object(5)\n",
      "memory usage: 11.8+ MB\n"
     ]
    }
   ],
   "source": [
    "# Load data\n",
    "df = pd.read_csv('noshowappointments-kagglev2-may-2016.csv')\n",
    "# Inspect data types\n",
    "df.info()"
   ]
  },
  {
   "cell_type": "code",
   "execution_count": 99,
   "metadata": {},
   "outputs": [
    {
     "data": {
      "text/html": [
       "<div>\n",
       "<style>\n",
       "    .dataframe thead tr:only-child th {\n",
       "        text-align: right;\n",
       "    }\n",
       "\n",
       "    .dataframe thead th {\n",
       "        text-align: left;\n",
       "    }\n",
       "\n",
       "    .dataframe tbody tr th {\n",
       "        vertical-align: top;\n",
       "    }\n",
       "</style>\n",
       "<table border=\"1\" class=\"dataframe\">\n",
       "  <thead>\n",
       "    <tr style=\"text-align: right;\">\n",
       "      <th></th>\n",
       "      <th>PatientId</th>\n",
       "      <th>AppointmentID</th>\n",
       "      <th>Gender</th>\n",
       "      <th>ScheduledDay</th>\n",
       "      <th>AppointmentDay</th>\n",
       "      <th>Age</th>\n",
       "      <th>Neighbourhood</th>\n",
       "      <th>Scholarship</th>\n",
       "      <th>Hipertension</th>\n",
       "      <th>Diabetes</th>\n",
       "      <th>Alcoholism</th>\n",
       "      <th>Handcap</th>\n",
       "      <th>SMS_received</th>\n",
       "      <th>No-show</th>\n",
       "    </tr>\n",
       "  </thead>\n",
       "  <tbody>\n",
       "    <tr>\n",
       "      <th>0</th>\n",
       "      <td>2.987250e+13</td>\n",
       "      <td>5642903</td>\n",
       "      <td>F</td>\n",
       "      <td>2016-04-29T18:38:08Z</td>\n",
       "      <td>2016-04-29T00:00:00Z</td>\n",
       "      <td>62</td>\n",
       "      <td>JARDIM DA PENHA</td>\n",
       "      <td>0</td>\n",
       "      <td>1</td>\n",
       "      <td>0</td>\n",
       "      <td>0</td>\n",
       "      <td>0</td>\n",
       "      <td>0</td>\n",
       "      <td>No</td>\n",
       "    </tr>\n",
       "    <tr>\n",
       "      <th>1</th>\n",
       "      <td>5.589978e+14</td>\n",
       "      <td>5642503</td>\n",
       "      <td>M</td>\n",
       "      <td>2016-04-29T16:08:27Z</td>\n",
       "      <td>2016-04-29T00:00:00Z</td>\n",
       "      <td>56</td>\n",
       "      <td>JARDIM DA PENHA</td>\n",
       "      <td>0</td>\n",
       "      <td>0</td>\n",
       "      <td>0</td>\n",
       "      <td>0</td>\n",
       "      <td>0</td>\n",
       "      <td>0</td>\n",
       "      <td>No</td>\n",
       "    </tr>\n",
       "    <tr>\n",
       "      <th>2</th>\n",
       "      <td>4.262962e+12</td>\n",
       "      <td>5642549</td>\n",
       "      <td>F</td>\n",
       "      <td>2016-04-29T16:19:04Z</td>\n",
       "      <td>2016-04-29T00:00:00Z</td>\n",
       "      <td>62</td>\n",
       "      <td>MATA DA PRAIA</td>\n",
       "      <td>0</td>\n",
       "      <td>0</td>\n",
       "      <td>0</td>\n",
       "      <td>0</td>\n",
       "      <td>0</td>\n",
       "      <td>0</td>\n",
       "      <td>No</td>\n",
       "    </tr>\n",
       "    <tr>\n",
       "      <th>3</th>\n",
       "      <td>8.679512e+11</td>\n",
       "      <td>5642828</td>\n",
       "      <td>F</td>\n",
       "      <td>2016-04-29T17:29:31Z</td>\n",
       "      <td>2016-04-29T00:00:00Z</td>\n",
       "      <td>8</td>\n",
       "      <td>PONTAL DE CAMBURI</td>\n",
       "      <td>0</td>\n",
       "      <td>0</td>\n",
       "      <td>0</td>\n",
       "      <td>0</td>\n",
       "      <td>0</td>\n",
       "      <td>0</td>\n",
       "      <td>No</td>\n",
       "    </tr>\n",
       "    <tr>\n",
       "      <th>4</th>\n",
       "      <td>8.841186e+12</td>\n",
       "      <td>5642494</td>\n",
       "      <td>F</td>\n",
       "      <td>2016-04-29T16:07:23Z</td>\n",
       "      <td>2016-04-29T00:00:00Z</td>\n",
       "      <td>56</td>\n",
       "      <td>JARDIM DA PENHA</td>\n",
       "      <td>0</td>\n",
       "      <td>1</td>\n",
       "      <td>1</td>\n",
       "      <td>0</td>\n",
       "      <td>0</td>\n",
       "      <td>0</td>\n",
       "      <td>No</td>\n",
       "    </tr>\n",
       "  </tbody>\n",
       "</table>\n",
       "</div>"
      ],
      "text/plain": [
       "      PatientId  AppointmentID Gender          ScheduledDay  \\\n",
       "0  2.987250e+13        5642903      F  2016-04-29T18:38:08Z   \n",
       "1  5.589978e+14        5642503      M  2016-04-29T16:08:27Z   \n",
       "2  4.262962e+12        5642549      F  2016-04-29T16:19:04Z   \n",
       "3  8.679512e+11        5642828      F  2016-04-29T17:29:31Z   \n",
       "4  8.841186e+12        5642494      F  2016-04-29T16:07:23Z   \n",
       "\n",
       "         AppointmentDay  Age      Neighbourhood  Scholarship  Hipertension  \\\n",
       "0  2016-04-29T00:00:00Z   62    JARDIM DA PENHA            0             1   \n",
       "1  2016-04-29T00:00:00Z   56    JARDIM DA PENHA            0             0   \n",
       "2  2016-04-29T00:00:00Z   62      MATA DA PRAIA            0             0   \n",
       "3  2016-04-29T00:00:00Z    8  PONTAL DE CAMBURI            0             0   \n",
       "4  2016-04-29T00:00:00Z   56    JARDIM DA PENHA            0             1   \n",
       "\n",
       "   Diabetes  Alcoholism  Handcap  SMS_received No-show  \n",
       "0         0           0        0             0      No  \n",
       "1         0           0        0             0      No  \n",
       "2         0           0        0             0      No  \n",
       "3         0           0        0             0      No  \n",
       "4         1           0        0             0      No  "
      ]
     },
     "execution_count": 99,
     "metadata": {},
     "output_type": "execute_result"
    }
   ],
   "source": [
    "# Visually inspect data rows\n",
    "df.head()"
   ]
  },
  {
   "cell_type": "code",
   "execution_count": 100,
   "metadata": {},
   "outputs": [
    {
     "data": {
      "text/plain": [
       "PatientId         110527\n",
       "AppointmentID     110527\n",
       "Gender            110527\n",
       "ScheduledDay      110527\n",
       "AppointmentDay    110527\n",
       "Age               110527\n",
       "Neighbourhood     110527\n",
       "Scholarship       110527\n",
       "Hipertension      110527\n",
       "Diabetes          110527\n",
       "Alcoholism        110527\n",
       "Handcap           110527\n",
       "SMS_received      110527\n",
       "No-show           110527\n",
       "dtype: int64"
      ]
     },
     "execution_count": 100,
     "metadata": {},
     "output_type": "execute_result"
    }
   ],
   "source": [
    "# Inspect data count\n",
    "df.count()"
   ]
  },
  {
   "cell_type": "code",
   "execution_count": 101,
   "metadata": {},
   "outputs": [
    {
     "data": {
      "text/plain": [
       "0"
      ]
     },
     "execution_count": 101,
     "metadata": {},
     "output_type": "execute_result"
    }
   ],
   "source": [
    "# Find duplicate rows\n",
    "df[df.duplicated(keep=False)].count()[0]"
   ]
  },
  {
   "cell_type": "markdown",
   "metadata": {},
   "source": [
    "The data inspection revealed a data frame with 14 columns (PatientId, AppointmentID, Gender, ScheduledDay, AppointmentDay, Age, Neighbourhood, Scholarship, Hipertension, Diabetes, Alcoholism, Handcap, SMS_received, No-show) and 110527 rows with no duplicates. Looking at the first 5 rows shows several of the columns to be binary values."
   ]
  },
  {
   "cell_type": "markdown",
   "metadata": {},
   "source": [
    "### Data Cleaning\n",
    "\n",
    "The data cleaning of the dataframe will require the renaming of columns to correct spelling, the deletion of columns to focus on data for this study, and further examination of the remaining columns."
   ]
  },
  {
   "cell_type": "code",
   "execution_count": 102,
   "metadata": {
    "collapsed": true
   },
   "outputs": [],
   "source": [
    "#Drop columns not to be used in this study\n",
    "df = df.drop(['PatientId','Gender','ScheduledDay','AppointmentDay','SMS_received'], axis = 1);"
   ]
  },
  {
   "cell_type": "code",
   "execution_count": 103,
   "metadata": {},
   "outputs": [
    {
     "name": "stdout",
     "output_type": "stream",
     "text": [
      "<class 'pandas.core.frame.DataFrame'>\n",
      "RangeIndex: 110527 entries, 0 to 110526\n",
      "Data columns (total 9 columns):\n",
      "AppointmentID    110527 non-null int64\n",
      "Age              110527 non-null int64\n",
      "Neighbourhood    110527 non-null object\n",
      "Scholarship      110527 non-null int64\n",
      "Hipertension     110527 non-null int64\n",
      "Diabetes         110527 non-null int64\n",
      "Alcoholism       110527 non-null int64\n",
      "Handcap          110527 non-null int64\n",
      "No-show          110527 non-null object\n",
      "dtypes: int64(7), object(2)\n",
      "memory usage: 7.6+ MB\n"
     ]
    }
   ],
   "source": [
    "# Inspect updated df\n",
    "df.info()"
   ]
  },
  {
   "cell_type": "code",
   "execution_count": 104,
   "metadata": {},
   "outputs": [
    {
     "data": {
      "text/plain": [
       "AppointmentID    110527\n",
       "Age                 104\n",
       "Neighbourhood        81\n",
       "Scholarship           2\n",
       "Hipertension          2\n",
       "Diabetes              2\n",
       "Alcoholism            2\n",
       "Handcap               5\n",
       "No-show               2\n",
       "dtype: int64"
      ]
     },
     "execution_count": 104,
     "metadata": {},
     "output_type": "execute_result"
    }
   ],
   "source": [
    "# Inspect number of unique values in each column\n",
    "df.nunique()"
   ]
  },
  {
   "cell_type": "code",
   "execution_count": 105,
   "metadata": {},
   "outputs": [
    {
     "name": "stdout",
     "output_type": "stream",
     "text": [
      "<class 'pandas.core.frame.DataFrame'>\n",
      "Index: 110527 entries, 0 to 110526\n",
      "Data columns (total 9 columns):\n",
      "appointment_id    110527 non-null int64\n",
      "Age               110527 non-null int64\n",
      "neighborhood      110527 non-null object\n",
      "Scholarship       110527 non-null int64\n",
      "hypertension      110527 non-null int64\n",
      "Diabetes          110527 non-null int64\n",
      "Alcoholism        110527 non-null int64\n",
      "handicap          110527 non-null int64\n",
      "no_show           110527 non-null object\n",
      "dtypes: int64(7), object(2)\n",
      "memory usage: 8.4+ MB\n"
     ]
    }
   ],
   "source": [
    "# Correct mispelling, change regional spelling of column names, add '_' to 'appointmentid', remove hyphen from 'No-show', and make column name's lowercase.\n",
    "df = df.rename(index=str, columns={'AppointmentID': 'appointment_id',\"Neighbourhood\": \"neighborhood\",\"Hipertension\": \"hypertension\", \"Handcap\": \"handicap\", \"No-show\": \"no_show\"});\n",
    "df.info()"
   ]
  },
  {
   "cell_type": "code",
   "execution_count": 106,
   "metadata": {
    "collapsed": true
   },
   "outputs": [],
   "source": [
    "# For consistency, convert all remaining columns to lowercase\n",
    "df.columns = map(str.lower, df.columns)"
   ]
  },
  {
   "cell_type": "code",
   "execution_count": 107,
   "metadata": {
    "collapsed": true
   },
   "outputs": [],
   "source": [
    "# For consistency, convert all values in the column 'neighboorhood' to lowercase\n",
    "df['neighborhood'] = df['neighborhood'].str.lower()"
   ]
  },
  {
   "cell_type": "code",
   "execution_count": 108,
   "metadata": {},
   "outputs": [
    {
     "data": {
      "text/html": [
       "<div>\n",
       "<style>\n",
       "    .dataframe thead tr:only-child th {\n",
       "        text-align: right;\n",
       "    }\n",
       "\n",
       "    .dataframe thead th {\n",
       "        text-align: left;\n",
       "    }\n",
       "\n",
       "    .dataframe tbody tr th {\n",
       "        vertical-align: top;\n",
       "    }\n",
       "</style>\n",
       "<table border=\"1\" class=\"dataframe\">\n",
       "  <thead>\n",
       "    <tr style=\"text-align: right;\">\n",
       "      <th></th>\n",
       "      <th>appointment_id</th>\n",
       "      <th>age</th>\n",
       "      <th>neighborhood</th>\n",
       "      <th>scholarship</th>\n",
       "      <th>hypertension</th>\n",
       "      <th>diabetes</th>\n",
       "      <th>alcoholism</th>\n",
       "      <th>handicap</th>\n",
       "      <th>no_show</th>\n",
       "    </tr>\n",
       "  </thead>\n",
       "  <tbody>\n",
       "    <tr>\n",
       "      <th>0</th>\n",
       "      <td>5642903</td>\n",
       "      <td>62</td>\n",
       "      <td>jardim da penha</td>\n",
       "      <td>0</td>\n",
       "      <td>1</td>\n",
       "      <td>0</td>\n",
       "      <td>0</td>\n",
       "      <td>0</td>\n",
       "      <td>No</td>\n",
       "    </tr>\n",
       "    <tr>\n",
       "      <th>1</th>\n",
       "      <td>5642503</td>\n",
       "      <td>56</td>\n",
       "      <td>jardim da penha</td>\n",
       "      <td>0</td>\n",
       "      <td>0</td>\n",
       "      <td>0</td>\n",
       "      <td>0</td>\n",
       "      <td>0</td>\n",
       "      <td>No</td>\n",
       "    </tr>\n",
       "    <tr>\n",
       "      <th>2</th>\n",
       "      <td>5642549</td>\n",
       "      <td>62</td>\n",
       "      <td>mata da praia</td>\n",
       "      <td>0</td>\n",
       "      <td>0</td>\n",
       "      <td>0</td>\n",
       "      <td>0</td>\n",
       "      <td>0</td>\n",
       "      <td>No</td>\n",
       "    </tr>\n",
       "    <tr>\n",
       "      <th>3</th>\n",
       "      <td>5642828</td>\n",
       "      <td>8</td>\n",
       "      <td>pontal de camburi</td>\n",
       "      <td>0</td>\n",
       "      <td>0</td>\n",
       "      <td>0</td>\n",
       "      <td>0</td>\n",
       "      <td>0</td>\n",
       "      <td>No</td>\n",
       "    </tr>\n",
       "    <tr>\n",
       "      <th>4</th>\n",
       "      <td>5642494</td>\n",
       "      <td>56</td>\n",
       "      <td>jardim da penha</td>\n",
       "      <td>0</td>\n",
       "      <td>1</td>\n",
       "      <td>1</td>\n",
       "      <td>0</td>\n",
       "      <td>0</td>\n",
       "      <td>No</td>\n",
       "    </tr>\n",
       "  </tbody>\n",
       "</table>\n",
       "</div>"
      ],
      "text/plain": [
       "   appointment_id  age       neighborhood  scholarship  hypertension  \\\n",
       "0         5642903   62    jardim da penha            0             1   \n",
       "1         5642503   56    jardim da penha            0             0   \n",
       "2         5642549   62      mata da praia            0             0   \n",
       "3         5642828    8  pontal de camburi            0             0   \n",
       "4         5642494   56    jardim da penha            0             1   \n",
       "\n",
       "   diabetes  alcoholism  handicap no_show  \n",
       "0         0           0         0      No  \n",
       "1         0           0         0      No  \n",
       "2         0           0         0      No  \n",
       "3         0           0         0      No  \n",
       "4         1           0         0      No  "
      ]
     },
     "execution_count": 108,
     "metadata": {},
     "output_type": "execute_result"
    }
   ],
   "source": [
    "df.head()"
   ]
  },
  {
   "cell_type": "code",
   "execution_count": 109,
   "metadata": {},
   "outputs": [
    {
     "data": {
      "text/plain": [
       "115"
      ]
     },
     "execution_count": 109,
     "metadata": {},
     "output_type": "execute_result"
    }
   ],
   "source": [
    "# Further inspect each column\n",
    "df['age'].max()"
   ]
  },
  {
   "cell_type": "code",
   "execution_count": 110,
   "metadata": {},
   "outputs": [
    {
     "data": {
      "text/plain": [
       "-1"
      ]
     },
     "execution_count": 110,
     "metadata": {},
     "output_type": "execute_result"
    }
   ],
   "source": [
    "df['age'].min()"
   ]
  },
  {
   "cell_type": "code",
   "execution_count": 111,
   "metadata": {
    "scrolled": true
   },
   "outputs": [
    {
     "data": {
      "text/html": [
       "<div>\n",
       "<style>\n",
       "    .dataframe thead tr:only-child th {\n",
       "        text-align: right;\n",
       "    }\n",
       "\n",
       "    .dataframe thead th {\n",
       "        text-align: left;\n",
       "    }\n",
       "\n",
       "    .dataframe tbody tr th {\n",
       "        vertical-align: top;\n",
       "    }\n",
       "</style>\n",
       "<table border=\"1\" class=\"dataframe\">\n",
       "  <thead>\n",
       "    <tr style=\"text-align: right;\">\n",
       "      <th></th>\n",
       "      <th>appointment_id</th>\n",
       "      <th>age</th>\n",
       "      <th>neighborhood</th>\n",
       "      <th>scholarship</th>\n",
       "      <th>hypertension</th>\n",
       "      <th>diabetes</th>\n",
       "      <th>alcoholism</th>\n",
       "      <th>handicap</th>\n",
       "      <th>no_show</th>\n",
       "    </tr>\n",
       "  </thead>\n",
       "  <tbody>\n",
       "    <tr>\n",
       "      <th>99832</th>\n",
       "      <td>5775010</td>\n",
       "      <td>-1</td>\n",
       "      <td>romão</td>\n",
       "      <td>0</td>\n",
       "      <td>0</td>\n",
       "      <td>0</td>\n",
       "      <td>0</td>\n",
       "      <td>0</td>\n",
       "      <td>No</td>\n",
       "    </tr>\n",
       "  </tbody>\n",
       "</table>\n",
       "</div>"
      ],
      "text/plain": [
       "       appointment_id  age neighborhood  scholarship  hypertension  diabetes  \\\n",
       "99832         5775010   -1        romão            0             0         0   \n",
       "\n",
       "       alcoholism  handicap no_show  \n",
       "99832           0         0      No  "
      ]
     },
     "execution_count": 111,
     "metadata": {},
     "output_type": "execute_result"
    }
   ],
   "source": [
    "# Identify which row contains an age of -1, because -1 is not a real age.\n",
    "df[df['age']==-1]"
   ]
  },
  {
   "cell_type": "code",
   "execution_count": 112,
   "metadata": {},
   "outputs": [],
   "source": [
    "# Drop the row associated with 'age' = -1\n",
    "drop_age = df[df['age']==-1].index[0]\n",
    "df = df.drop([drop_age])"
   ]
  },
  {
   "cell_type": "code",
   "execution_count": 113,
   "metadata": {},
   "outputs": [
    {
     "data": {
      "text/plain": [
       "0"
      ]
     },
     "execution_count": 113,
     "metadata": {},
     "output_type": "execute_result"
    }
   ],
   "source": [
    "# Confirm drop of row associated with 'age' = -1\n",
    "df['age'].min()"
   ]
  },
  {
   "cell_type": "code",
   "execution_count": 114,
   "metadata": {},
   "outputs": [
    {
     "data": {
      "text/plain": [
       "['aeroporto',\n",
       " 'andorinhas',\n",
       " 'antônio honório',\n",
       " 'ariovaldo favalessa',\n",
       " 'barro vermelho',\n",
       " 'bela vista',\n",
       " 'bento ferreira',\n",
       " 'boa vista',\n",
       " 'bonfim',\n",
       " 'caratoíra',\n",
       " 'centro',\n",
       " 'comdusa',\n",
       " 'conquista',\n",
       " 'consolação',\n",
       " 'cruzamento',\n",
       " 'da penha',\n",
       " 'de lourdes',\n",
       " 'do cabral',\n",
       " 'do moscoso',\n",
       " 'do quadro',\n",
       " 'enseada do suá',\n",
       " 'estrelinha',\n",
       " 'fonte grande',\n",
       " 'forte são joão',\n",
       " 'fradinhos',\n",
       " 'goiabeiras',\n",
       " 'grande vitória',\n",
       " 'gurigica',\n",
       " 'horto',\n",
       " 'ilha das caieiras',\n",
       " 'ilha de santa maria',\n",
       " 'ilha do boi',\n",
       " 'ilha do frade',\n",
       " 'ilha do príncipe',\n",
       " 'ilhas oceânicas de trindade',\n",
       " 'inhanguetá',\n",
       " 'itararé',\n",
       " 'jabour',\n",
       " 'jardim camburi',\n",
       " 'jardim da penha',\n",
       " 'jesus de nazareth',\n",
       " 'joana d´arc',\n",
       " 'jucutuquara',\n",
       " 'maria ortiz',\n",
       " 'maruípe',\n",
       " 'mata da praia',\n",
       " 'monte belo',\n",
       " 'morada de camburi',\n",
       " 'mário cypreste',\n",
       " 'nazareth',\n",
       " 'nova palestina',\n",
       " 'parque industrial',\n",
       " 'parque moscoso',\n",
       " 'piedade',\n",
       " 'pontal de camburi',\n",
       " 'praia do canto',\n",
       " 'praia do suá',\n",
       " 'redenção',\n",
       " 'república',\n",
       " 'resistência',\n",
       " 'romão',\n",
       " 'santa cecília',\n",
       " 'santa clara',\n",
       " 'santa helena',\n",
       " 'santa luíza',\n",
       " 'santa lúcia',\n",
       " 'santa martha',\n",
       " 'santa tereza',\n",
       " 'santo andré',\n",
       " 'santo antônio',\n",
       " 'santos dumont',\n",
       " 'santos reis',\n",
       " 'segurança do lar',\n",
       " 'solon borges',\n",
       " 'são benedito',\n",
       " 'são cristóvão',\n",
       " 'são josé',\n",
       " 'são pedro',\n",
       " 'tabuazeiro',\n",
       " 'universitário',\n",
       " 'vila rubim']"
      ]
     },
     "execution_count": 114,
     "metadata": {},
     "output_type": "execute_result"
    }
   ],
   "source": [
    "# Investigage list of 'neighborhood' values\n",
    "sorted(df['neighborhood'].unique())"
   ]
  },
  {
   "cell_type": "code",
   "execution_count": 115,
   "metadata": {},
   "outputs": [
    {
     "data": {
      "text/plain": [
       "array([0, 1])"
      ]
     },
     "execution_count": 115,
     "metadata": {},
     "output_type": "execute_result"
    }
   ],
   "source": [
    "# Verify all columns 'scholarship', 'hypertension', 'diabetes', 'alcoholism', 'handicap', and 'no_show'\n",
    "# only contain binary data\n",
    "df['scholarship'].unique()"
   ]
  },
  {
   "cell_type": "code",
   "execution_count": 116,
   "metadata": {},
   "outputs": [
    {
     "data": {
      "text/plain": [
       "array([1, 0])"
      ]
     },
     "execution_count": 116,
     "metadata": {},
     "output_type": "execute_result"
    }
   ],
   "source": [
    "df['hypertension'].unique()"
   ]
  },
  {
   "cell_type": "code",
   "execution_count": 117,
   "metadata": {
    "scrolled": true
   },
   "outputs": [
    {
     "data": {
      "text/plain": [
       "array([0, 1])"
      ]
     },
     "execution_count": 117,
     "metadata": {},
     "output_type": "execute_result"
    }
   ],
   "source": [
    "df['diabetes'].unique()"
   ]
  },
  {
   "cell_type": "code",
   "execution_count": 118,
   "metadata": {},
   "outputs": [
    {
     "data": {
      "text/plain": [
       "array([0, 1])"
      ]
     },
     "execution_count": 118,
     "metadata": {},
     "output_type": "execute_result"
    }
   ],
   "source": [
    "df['alcoholism'].unique()"
   ]
  },
  {
   "cell_type": "code",
   "execution_count": 119,
   "metadata": {},
   "outputs": [
    {
     "data": {
      "text/plain": [
       "array([0, 1, 2, 3, 4])"
      ]
     },
     "execution_count": 119,
     "metadata": {},
     "output_type": "execute_result"
    }
   ],
   "source": [
    "df['handicap'].unique()"
   ]
  },
  {
   "cell_type": "code",
   "execution_count": 120,
   "metadata": {},
   "outputs": [
    {
     "data": {
      "text/plain": [
       "array(['No', 'Yes'], dtype=object)"
      ]
     },
     "execution_count": 120,
     "metadata": {},
     "output_type": "execute_result"
    }
   ],
   "source": [
    "df['no_show'].unique()"
   ]
  },
  {
   "cell_type": "markdown",
   "metadata": {},
   "source": [
    "Inspection of the 'handicap' column displays 5 values: 0,1,2,3,4. According to JoniHoppen, who provided the data, \"the handcap refers to the number of desabilites a person has. For example, if the person is blind and can't walk the total is 2.\""
   ]
  },
  {
   "cell_type": "code",
   "execution_count": 121,
   "metadata": {},
   "outputs": [
    {
     "name": "stdout",
     "output_type": "stream",
     "text": [
      "0.979724227784 0.0184752908818 0.00165571901634 0.000117619383674 2.71429346941e-05\n"
     ]
    }
   ],
   "source": [
    "# Proportion of how many patients have each number of handicaps\n",
    "zero_handicap = df[df['handicap']==0].count()[0]/(df.nunique()[0])\n",
    "one_handicap = df[df['handicap']==1].count()[0]/(df.nunique()[0])\n",
    "two_handicap = df[df['handicap']==2].count()[0]/(df.nunique()[0])\n",
    "three_handicap = df[df['handicap']==3].count()[0]/(df.nunique()[0])\n",
    "four_handicap = df[df['handicap']==4].count()[0]/(df.nunique()[0])\n",
    "print(zero_handicap, one_handicap, two_handicap, three_handicap, four_handicap)"
   ]
  },
  {
   "cell_type": "code",
   "execution_count": 122,
   "metadata": {},
   "outputs": [
    {
     "data": {
      "image/png": "[encoded data removed]",
      "text/plain": [
       "<matplotlib.figure.Figure at 0x120cceeb8>"
      ]
     },
     "metadata": {},
     "output_type": "display_data"
    }
   ],
   "source": [
    "# Pie chart of proportion of how many patients have each number of handicaps\n",
    "labels = ['None', 'One', 'Two', 'Three', 'Four']\n",
    "sizes = [zero_handicap, one_handicap, two_handicap, three_handicap, four_handicap]\n",
    "colors = ['red', 'orange', 'yellow', 'green', 'blue']\n",
    "patches, texts = plt.pie(sizes, colors=colors, startangle=90)\n",
    "plt.legend(patches, labels, loc=\"best\")\n",
    "plt.title('Proportion of How Many Appointments Are Made by \\n Patients Who Have Each Number of Handicaps')\n",
    "# Set aspect ratio to be equal so that pie is drawn as a circle.\n",
    "plt.axis('equal')\n",
    "plt.tight_layout()\n",
    "plt.show()"
   ]
  },
  {
   "cell_type": "markdown",
   "metadata": {},
   "source": [
    "Becuase 97.9% of patients have 0 handicaps, all patients with 1 or more handicaps will be considered handicapped as indicated by a 1."
   ]
  },
  {
   "cell_type": "code",
   "execution_count": 123,
   "metadata": {},
   "outputs": [],
   "source": [
    "# Convert all handicap values greater than 1 to 1.\n",
    "df['handicap'] = np.where(df['handicap'] >= 1, 1, 0)"
   ]
  },
  {
   "cell_type": "code",
   "execution_count": 124,
   "metadata": {},
   "outputs": [
    {
     "data": {
      "text/plain": [
       "array([0, 1])"
      ]
     },
     "execution_count": 124,
     "metadata": {},
     "output_type": "execute_result"
    }
   ],
   "source": [
    "# Verify column 'handicap' only includes binary data\n",
    "df['handicap'].unique()"
   ]
  },
  {
   "cell_type": "markdown",
   "metadata": {},
   "source": [
    "The data wrangling up to this point motivated the decision to combine 'Hypertension','Diabetes','Alcoholism', 'Handicap' into one column named 'Existing_condition'. Future exploratory data analysis may reveal the value of exploring each condition individually."
   ]
  },
  {
   "cell_type": "code",
   "execution_count": 125,
   "metadata": {},
   "outputs": [
    {
     "data": {
      "text/html": [
       "<div>\n",
       "<style>\n",
       "    .dataframe thead tr:only-child th {\n",
       "        text-align: right;\n",
       "    }\n",
       "\n",
       "    .dataframe thead th {\n",
       "        text-align: left;\n",
       "    }\n",
       "\n",
       "    .dataframe tbody tr th {\n",
       "        vertical-align: top;\n",
       "    }\n",
       "</style>\n",
       "<table border=\"1\" class=\"dataframe\">\n",
       "  <thead>\n",
       "    <tr style=\"text-align: right;\">\n",
       "      <th></th>\n",
       "      <th>appointment_id</th>\n",
       "      <th>age</th>\n",
       "      <th>neighborhood</th>\n",
       "      <th>scholarship</th>\n",
       "      <th>hypertension</th>\n",
       "      <th>diabetes</th>\n",
       "      <th>alcoholism</th>\n",
       "      <th>handicap</th>\n",
       "      <th>no_show</th>\n",
       "      <th>existing_condition</th>\n",
       "    </tr>\n",
       "  </thead>\n",
       "  <tbody>\n",
       "    <tr>\n",
       "      <th>0</th>\n",
       "      <td>5642903</td>\n",
       "      <td>62</td>\n",
       "      <td>jardim da penha</td>\n",
       "      <td>0</td>\n",
       "      <td>1</td>\n",
       "      <td>0</td>\n",
       "      <td>0</td>\n",
       "      <td>0</td>\n",
       "      <td>No</td>\n",
       "      <td>1</td>\n",
       "    </tr>\n",
       "    <tr>\n",
       "      <th>4</th>\n",
       "      <td>5642494</td>\n",
       "      <td>56</td>\n",
       "      <td>jardim da penha</td>\n",
       "      <td>0</td>\n",
       "      <td>1</td>\n",
       "      <td>1</td>\n",
       "      <td>0</td>\n",
       "      <td>0</td>\n",
       "      <td>No</td>\n",
       "      <td>1</td>\n",
       "    </tr>\n",
       "    <tr>\n",
       "      <th>5</th>\n",
       "      <td>5626772</td>\n",
       "      <td>76</td>\n",
       "      <td>república</td>\n",
       "      <td>0</td>\n",
       "      <td>1</td>\n",
       "      <td>0</td>\n",
       "      <td>0</td>\n",
       "      <td>0</td>\n",
       "      <td>No</td>\n",
       "      <td>1</td>\n",
       "    </tr>\n",
       "    <tr>\n",
       "      <th>25</th>\n",
       "      <td>5624020</td>\n",
       "      <td>46</td>\n",
       "      <td>conquista</td>\n",
       "      <td>0</td>\n",
       "      <td>1</td>\n",
       "      <td>0</td>\n",
       "      <td>0</td>\n",
       "      <td>0</td>\n",
       "      <td>No</td>\n",
       "      <td>1</td>\n",
       "    </tr>\n",
       "    <tr>\n",
       "      <th>26</th>\n",
       "      <td>5641781</td>\n",
       "      <td>45</td>\n",
       "      <td>bento ferreira</td>\n",
       "      <td>0</td>\n",
       "      <td>1</td>\n",
       "      <td>0</td>\n",
       "      <td>0</td>\n",
       "      <td>0</td>\n",
       "      <td>No</td>\n",
       "      <td>1</td>\n",
       "    </tr>\n",
       "    <tr>\n",
       "      <th>32</th>\n",
       "      <td>5637908</td>\n",
       "      <td>61</td>\n",
       "      <td>são cristóvão</td>\n",
       "      <td>0</td>\n",
       "      <td>1</td>\n",
       "      <td>0</td>\n",
       "      <td>0</td>\n",
       "      <td>0</td>\n",
       "      <td>No</td>\n",
       "      <td>1</td>\n",
       "    </tr>\n",
       "    <tr>\n",
       "      <th>34</th>\n",
       "      <td>5637963</td>\n",
       "      <td>79</td>\n",
       "      <td>são cristóvão</td>\n",
       "      <td>0</td>\n",
       "      <td>1</td>\n",
       "      <td>0</td>\n",
       "      <td>0</td>\n",
       "      <td>0</td>\n",
       "      <td>No</td>\n",
       "      <td>1</td>\n",
       "    </tr>\n",
       "    <tr>\n",
       "      <th>36</th>\n",
       "      <td>5637975</td>\n",
       "      <td>63</td>\n",
       "      <td>são cristóvão</td>\n",
       "      <td>0</td>\n",
       "      <td>1</td>\n",
       "      <td>1</td>\n",
       "      <td>0</td>\n",
       "      <td>0</td>\n",
       "      <td>No</td>\n",
       "      <td>1</td>\n",
       "    </tr>\n",
       "    <tr>\n",
       "      <th>37</th>\n",
       "      <td>5637986</td>\n",
       "      <td>64</td>\n",
       "      <td>tabuazeiro</td>\n",
       "      <td>1</td>\n",
       "      <td>1</td>\n",
       "      <td>1</td>\n",
       "      <td>0</td>\n",
       "      <td>0</td>\n",
       "      <td>No</td>\n",
       "      <td>1</td>\n",
       "    </tr>\n",
       "    <tr>\n",
       "      <th>38</th>\n",
       "      <td>5609446</td>\n",
       "      <td>85</td>\n",
       "      <td>são cristóvão</td>\n",
       "      <td>0</td>\n",
       "      <td>1</td>\n",
       "      <td>0</td>\n",
       "      <td>0</td>\n",
       "      <td>0</td>\n",
       "      <td>No</td>\n",
       "      <td>1</td>\n",
       "    </tr>\n",
       "    <tr>\n",
       "      <th>41</th>\n",
       "      <td>5633339</td>\n",
       "      <td>71</td>\n",
       "      <td>maruípe</td>\n",
       "      <td>0</td>\n",
       "      <td>0</td>\n",
       "      <td>1</td>\n",
       "      <td>0</td>\n",
       "      <td>0</td>\n",
       "      <td>No</td>\n",
       "      <td>1</td>\n",
       "    </tr>\n",
       "    <tr>\n",
       "      <th>43</th>\n",
       "      <td>5641620</td>\n",
       "      <td>49</td>\n",
       "      <td>são cristóvão</td>\n",
       "      <td>0</td>\n",
       "      <td>1</td>\n",
       "      <td>0</td>\n",
       "      <td>0</td>\n",
       "      <td>0</td>\n",
       "      <td>No</td>\n",
       "      <td>1</td>\n",
       "    </tr>\n",
       "    <tr>\n",
       "      <th>44</th>\n",
       "      <td>5635414</td>\n",
       "      <td>78</td>\n",
       "      <td>são cristóvão</td>\n",
       "      <td>0</td>\n",
       "      <td>1</td>\n",
       "      <td>1</td>\n",
       "      <td>0</td>\n",
       "      <td>0</td>\n",
       "      <td>Yes</td>\n",
       "      <td>1</td>\n",
       "    </tr>\n",
       "    <tr>\n",
       "      <th>46</th>\n",
       "      <td>5615608</td>\n",
       "      <td>58</td>\n",
       "      <td>são cristóvão</td>\n",
       "      <td>0</td>\n",
       "      <td>1</td>\n",
       "      <td>0</td>\n",
       "      <td>1</td>\n",
       "      <td>0</td>\n",
       "      <td>No</td>\n",
       "      <td>1</td>\n",
       "    </tr>\n",
       "    <tr>\n",
       "      <th>47</th>\n",
       "      <td>5633116</td>\n",
       "      <td>39</td>\n",
       "      <td>maruípe</td>\n",
       "      <td>0</td>\n",
       "      <td>1</td>\n",
       "      <td>1</td>\n",
       "      <td>0</td>\n",
       "      <td>0</td>\n",
       "      <td>No</td>\n",
       "      <td>1</td>\n",
       "    </tr>\n",
       "    <tr>\n",
       "      <th>68</th>\n",
       "      <td>5552915</td>\n",
       "      <td>69</td>\n",
       "      <td>jardim da penha</td>\n",
       "      <td>0</td>\n",
       "      <td>1</td>\n",
       "      <td>0</td>\n",
       "      <td>0</td>\n",
       "      <td>0</td>\n",
       "      <td>No</td>\n",
       "      <td>1</td>\n",
       "    </tr>\n",
       "    <tr>\n",
       "      <th>73</th>\n",
       "      <td>5552934</td>\n",
       "      <td>68</td>\n",
       "      <td>república</td>\n",
       "      <td>0</td>\n",
       "      <td>1</td>\n",
       "      <td>1</td>\n",
       "      <td>0</td>\n",
       "      <td>0</td>\n",
       "      <td>No</td>\n",
       "      <td>1</td>\n",
       "    </tr>\n",
       "    <tr>\n",
       "      <th>85</th>\n",
       "      <td>5623102</td>\n",
       "      <td>69</td>\n",
       "      <td>resistência</td>\n",
       "      <td>0</td>\n",
       "      <td>1</td>\n",
       "      <td>0</td>\n",
       "      <td>0</td>\n",
       "      <td>0</td>\n",
       "      <td>No</td>\n",
       "      <td>1</td>\n",
       "    </tr>\n",
       "    <tr>\n",
       "      <th>102</th>\n",
       "      <td>5634093</td>\n",
       "      <td>54</td>\n",
       "      <td>mário cypreste</td>\n",
       "      <td>0</td>\n",
       "      <td>1</td>\n",
       "      <td>0</td>\n",
       "      <td>0</td>\n",
       "      <td>0</td>\n",
       "      <td>No</td>\n",
       "      <td>1</td>\n",
       "    </tr>\n",
       "    <tr>\n",
       "      <th>105</th>\n",
       "      <td>5639399</td>\n",
       "      <td>51</td>\n",
       "      <td>bela vista</td>\n",
       "      <td>0</td>\n",
       "      <td>1</td>\n",
       "      <td>0</td>\n",
       "      <td>0</td>\n",
       "      <td>0</td>\n",
       "      <td>No</td>\n",
       "      <td>1</td>\n",
       "    </tr>\n",
       "    <tr>\n",
       "      <th>106</th>\n",
       "      <td>5639773</td>\n",
       "      <td>54</td>\n",
       "      <td>santo antônio</td>\n",
       "      <td>0</td>\n",
       "      <td>1</td>\n",
       "      <td>0</td>\n",
       "      <td>0</td>\n",
       "      <td>0</td>\n",
       "      <td>No</td>\n",
       "      <td>1</td>\n",
       "    </tr>\n",
       "    <tr>\n",
       "      <th>111</th>\n",
       "      <td>5574534</td>\n",
       "      <td>56</td>\n",
       "      <td>santo antônio</td>\n",
       "      <td>0</td>\n",
       "      <td>1</td>\n",
       "      <td>0</td>\n",
       "      <td>0</td>\n",
       "      <td>0</td>\n",
       "      <td>No</td>\n",
       "      <td>1</td>\n",
       "    </tr>\n",
       "    <tr>\n",
       "      <th>112</th>\n",
       "      <td>5594665</td>\n",
       "      <td>59</td>\n",
       "      <td>santo antônio</td>\n",
       "      <td>0</td>\n",
       "      <td>1</td>\n",
       "      <td>1</td>\n",
       "      <td>0</td>\n",
       "      <td>0</td>\n",
       "      <td>No</td>\n",
       "      <td>1</td>\n",
       "    </tr>\n",
       "    <tr>\n",
       "      <th>115</th>\n",
       "      <td>5641363</td>\n",
       "      <td>54</td>\n",
       "      <td>santo antônio</td>\n",
       "      <td>0</td>\n",
       "      <td>1</td>\n",
       "      <td>0</td>\n",
       "      <td>0</td>\n",
       "      <td>0</td>\n",
       "      <td>No</td>\n",
       "      <td>1</td>\n",
       "    </tr>\n",
       "    <tr>\n",
       "      <th>122</th>\n",
       "      <td>5642643</td>\n",
       "      <td>46</td>\n",
       "      <td>bela vista</td>\n",
       "      <td>0</td>\n",
       "      <td>1</td>\n",
       "      <td>0</td>\n",
       "      <td>0</td>\n",
       "      <td>0</td>\n",
       "      <td>No</td>\n",
       "      <td>1</td>\n",
       "    </tr>\n",
       "    <tr>\n",
       "      <th>125</th>\n",
       "      <td>5542592</td>\n",
       "      <td>36</td>\n",
       "      <td>mário cypreste</td>\n",
       "      <td>0</td>\n",
       "      <td>1</td>\n",
       "      <td>0</td>\n",
       "      <td>0</td>\n",
       "      <td>0</td>\n",
       "      <td>No</td>\n",
       "      <td>1</td>\n",
       "    </tr>\n",
       "    <tr>\n",
       "      <th>126</th>\n",
       "      <td>5633576</td>\n",
       "      <td>67</td>\n",
       "      <td>praia do suá</td>\n",
       "      <td>0</td>\n",
       "      <td>0</td>\n",
       "      <td>1</td>\n",
       "      <td>0</td>\n",
       "      <td>0</td>\n",
       "      <td>Yes</td>\n",
       "      <td>1</td>\n",
       "    </tr>\n",
       "    <tr>\n",
       "      <th>127</th>\n",
       "      <td>5561194</td>\n",
       "      <td>42</td>\n",
       "      <td>praia do suá</td>\n",
       "      <td>0</td>\n",
       "      <td>1</td>\n",
       "      <td>1</td>\n",
       "      <td>0</td>\n",
       "      <td>0</td>\n",
       "      <td>No</td>\n",
       "      <td>1</td>\n",
       "    </tr>\n",
       "    <tr>\n",
       "      <th>131</th>\n",
       "      <td>5637150</td>\n",
       "      <td>29</td>\n",
       "      <td>praia do suá</td>\n",
       "      <td>0</td>\n",
       "      <td>0</td>\n",
       "      <td>0</td>\n",
       "      <td>1</td>\n",
       "      <td>0</td>\n",
       "      <td>Yes</td>\n",
       "      <td>1</td>\n",
       "    </tr>\n",
       "    <tr>\n",
       "      <th>133</th>\n",
       "      <td>5580520</td>\n",
       "      <td>69</td>\n",
       "      <td>praia do suá</td>\n",
       "      <td>0</td>\n",
       "      <td>0</td>\n",
       "      <td>1</td>\n",
       "      <td>1</td>\n",
       "      <td>0</td>\n",
       "      <td>No</td>\n",
       "      <td>1</td>\n",
       "    </tr>\n",
       "    <tr>\n",
       "      <th>...</th>\n",
       "      <td>...</td>\n",
       "      <td>...</td>\n",
       "      <td>...</td>\n",
       "      <td>...</td>\n",
       "      <td>...</td>\n",
       "      <td>...</td>\n",
       "      <td>...</td>\n",
       "      <td>...</td>\n",
       "      <td>...</td>\n",
       "      <td>...</td>\n",
       "    </tr>\n",
       "    <tr>\n",
       "      <th>110202</th>\n",
       "      <td>5767693</td>\n",
       "      <td>91</td>\n",
       "      <td>cruzamento</td>\n",
       "      <td>0</td>\n",
       "      <td>0</td>\n",
       "      <td>0</td>\n",
       "      <td>0</td>\n",
       "      <td>1</td>\n",
       "      <td>Yes</td>\n",
       "      <td>1</td>\n",
       "    </tr>\n",
       "    <tr>\n",
       "      <th>110305</th>\n",
       "      <td>5752701</td>\n",
       "      <td>56</td>\n",
       "      <td>bento ferreira</td>\n",
       "      <td>0</td>\n",
       "      <td>1</td>\n",
       "      <td>1</td>\n",
       "      <td>0</td>\n",
       "      <td>0</td>\n",
       "      <td>No</td>\n",
       "      <td>1</td>\n",
       "    </tr>\n",
       "    <tr>\n",
       "      <th>110359</th>\n",
       "      <td>5762836</td>\n",
       "      <td>70</td>\n",
       "      <td>resistência</td>\n",
       "      <td>0</td>\n",
       "      <td>1</td>\n",
       "      <td>1</td>\n",
       "      <td>0</td>\n",
       "      <td>0</td>\n",
       "      <td>No</td>\n",
       "      <td>1</td>\n",
       "    </tr>\n",
       "    <tr>\n",
       "      <th>110363</th>\n",
       "      <td>5624922</td>\n",
       "      <td>54</td>\n",
       "      <td>resistência</td>\n",
       "      <td>0</td>\n",
       "      <td>1</td>\n",
       "      <td>0</td>\n",
       "      <td>0</td>\n",
       "      <td>0</td>\n",
       "      <td>Yes</td>\n",
       "      <td>1</td>\n",
       "    </tr>\n",
       "    <tr>\n",
       "      <th>110383</th>\n",
       "      <td>5582577</td>\n",
       "      <td>48</td>\n",
       "      <td>resistência</td>\n",
       "      <td>0</td>\n",
       "      <td>1</td>\n",
       "      <td>0</td>\n",
       "      <td>0</td>\n",
       "      <td>0</td>\n",
       "      <td>Yes</td>\n",
       "      <td>1</td>\n",
       "    </tr>\n",
       "    <tr>\n",
       "      <th>110386</th>\n",
       "      <td>5582576</td>\n",
       "      <td>48</td>\n",
       "      <td>resistência</td>\n",
       "      <td>0</td>\n",
       "      <td>1</td>\n",
       "      <td>0</td>\n",
       "      <td>0</td>\n",
       "      <td>0</td>\n",
       "      <td>Yes</td>\n",
       "      <td>1</td>\n",
       "    </tr>\n",
       "    <tr>\n",
       "      <th>110398</th>\n",
       "      <td>5751672</td>\n",
       "      <td>75</td>\n",
       "      <td>resistência</td>\n",
       "      <td>0</td>\n",
       "      <td>1</td>\n",
       "      <td>0</td>\n",
       "      <td>0</td>\n",
       "      <td>0</td>\n",
       "      <td>No</td>\n",
       "      <td>1</td>\n",
       "    </tr>\n",
       "    <tr>\n",
       "      <th>110399</th>\n",
       "      <td>5692938</td>\n",
       "      <td>17</td>\n",
       "      <td>resistência</td>\n",
       "      <td>0</td>\n",
       "      <td>1</td>\n",
       "      <td>0</td>\n",
       "      <td>0</td>\n",
       "      <td>0</td>\n",
       "      <td>Yes</td>\n",
       "      <td>1</td>\n",
       "    </tr>\n",
       "    <tr>\n",
       "      <th>110421</th>\n",
       "      <td>5763871</td>\n",
       "      <td>34</td>\n",
       "      <td>resistência</td>\n",
       "      <td>0</td>\n",
       "      <td>0</td>\n",
       "      <td>0</td>\n",
       "      <td>0</td>\n",
       "      <td>1</td>\n",
       "      <td>No</td>\n",
       "      <td>1</td>\n",
       "    </tr>\n",
       "    <tr>\n",
       "      <th>110433</th>\n",
       "      <td>5627262</td>\n",
       "      <td>63</td>\n",
       "      <td>resistência</td>\n",
       "      <td>0</td>\n",
       "      <td>0</td>\n",
       "      <td>1</td>\n",
       "      <td>0</td>\n",
       "      <td>0</td>\n",
       "      <td>No</td>\n",
       "      <td>1</td>\n",
       "    </tr>\n",
       "    <tr>\n",
       "      <th>110434</th>\n",
       "      <td>5627263</td>\n",
       "      <td>63</td>\n",
       "      <td>resistência</td>\n",
       "      <td>0</td>\n",
       "      <td>0</td>\n",
       "      <td>1</td>\n",
       "      <td>0</td>\n",
       "      <td>0</td>\n",
       "      <td>No</td>\n",
       "      <td>1</td>\n",
       "    </tr>\n",
       "    <tr>\n",
       "      <th>110436</th>\n",
       "      <td>5784368</td>\n",
       "      <td>21</td>\n",
       "      <td>resistência</td>\n",
       "      <td>0</td>\n",
       "      <td>0</td>\n",
       "      <td>0</td>\n",
       "      <td>0</td>\n",
       "      <td>1</td>\n",
       "      <td>No</td>\n",
       "      <td>1</td>\n",
       "    </tr>\n",
       "    <tr>\n",
       "      <th>110439</th>\n",
       "      <td>5784366</td>\n",
       "      <td>34</td>\n",
       "      <td>resistência</td>\n",
       "      <td>0</td>\n",
       "      <td>0</td>\n",
       "      <td>0</td>\n",
       "      <td>0</td>\n",
       "      <td>1</td>\n",
       "      <td>No</td>\n",
       "      <td>1</td>\n",
       "    </tr>\n",
       "    <tr>\n",
       "      <th>110448</th>\n",
       "      <td>5756082</td>\n",
       "      <td>40</td>\n",
       "      <td>resistência</td>\n",
       "      <td>0</td>\n",
       "      <td>1</td>\n",
       "      <td>1</td>\n",
       "      <td>0</td>\n",
       "      <td>0</td>\n",
       "      <td>No</td>\n",
       "      <td>1</td>\n",
       "    </tr>\n",
       "    <tr>\n",
       "      <th>110450</th>\n",
       "      <td>5746688</td>\n",
       "      <td>49</td>\n",
       "      <td>resistência</td>\n",
       "      <td>0</td>\n",
       "      <td>1</td>\n",
       "      <td>0</td>\n",
       "      <td>0</td>\n",
       "      <td>0</td>\n",
       "      <td>No</td>\n",
       "      <td>1</td>\n",
       "    </tr>\n",
       "    <tr>\n",
       "      <th>110452</th>\n",
       "      <td>5701786</td>\n",
       "      <td>39</td>\n",
       "      <td>resistência</td>\n",
       "      <td>0</td>\n",
       "      <td>1</td>\n",
       "      <td>0</td>\n",
       "      <td>0</td>\n",
       "      <td>0</td>\n",
       "      <td>No</td>\n",
       "      <td>1</td>\n",
       "    </tr>\n",
       "    <tr>\n",
       "      <th>110453</th>\n",
       "      <td>5772475</td>\n",
       "      <td>86</td>\n",
       "      <td>resistência</td>\n",
       "      <td>0</td>\n",
       "      <td>1</td>\n",
       "      <td>0</td>\n",
       "      <td>0</td>\n",
       "      <td>0</td>\n",
       "      <td>No</td>\n",
       "      <td>1</td>\n",
       "    </tr>\n",
       "    <tr>\n",
       "      <th>110455</th>\n",
       "      <td>5772215</td>\n",
       "      <td>52</td>\n",
       "      <td>resistência</td>\n",
       "      <td>0</td>\n",
       "      <td>0</td>\n",
       "      <td>0</td>\n",
       "      <td>0</td>\n",
       "      <td>1</td>\n",
       "      <td>No</td>\n",
       "      <td>1</td>\n",
       "    </tr>\n",
       "    <tr>\n",
       "      <th>110456</th>\n",
       "      <td>5772107</td>\n",
       "      <td>79</td>\n",
       "      <td>resistência</td>\n",
       "      <td>0</td>\n",
       "      <td>1</td>\n",
       "      <td>1</td>\n",
       "      <td>0</td>\n",
       "      <td>0</td>\n",
       "      <td>No</td>\n",
       "      <td>1</td>\n",
       "    </tr>\n",
       "    <tr>\n",
       "      <th>110459</th>\n",
       "      <td>5770574</td>\n",
       "      <td>61</td>\n",
       "      <td>resistência</td>\n",
       "      <td>0</td>\n",
       "      <td>1</td>\n",
       "      <td>0</td>\n",
       "      <td>0</td>\n",
       "      <td>0</td>\n",
       "      <td>No</td>\n",
       "      <td>1</td>\n",
       "    </tr>\n",
       "    <tr>\n",
       "      <th>110468</th>\n",
       "      <td>5763322</td>\n",
       "      <td>76</td>\n",
       "      <td>resistência</td>\n",
       "      <td>0</td>\n",
       "      <td>1</td>\n",
       "      <td>1</td>\n",
       "      <td>0</td>\n",
       "      <td>0</td>\n",
       "      <td>No</td>\n",
       "      <td>1</td>\n",
       "    </tr>\n",
       "    <tr>\n",
       "      <th>110471</th>\n",
       "      <td>5781360</td>\n",
       "      <td>84</td>\n",
       "      <td>resistência</td>\n",
       "      <td>0</td>\n",
       "      <td>1</td>\n",
       "      <td>0</td>\n",
       "      <td>0</td>\n",
       "      <td>0</td>\n",
       "      <td>No</td>\n",
       "      <td>1</td>\n",
       "    </tr>\n",
       "    <tr>\n",
       "      <th>110475</th>\n",
       "      <td>5779726</td>\n",
       "      <td>54</td>\n",
       "      <td>resistência</td>\n",
       "      <td>0</td>\n",
       "      <td>1</td>\n",
       "      <td>0</td>\n",
       "      <td>0</td>\n",
       "      <td>0</td>\n",
       "      <td>No</td>\n",
       "      <td>1</td>\n",
       "    </tr>\n",
       "    <tr>\n",
       "      <th>110476</th>\n",
       "      <td>5678369</td>\n",
       "      <td>80</td>\n",
       "      <td>resistência</td>\n",
       "      <td>0</td>\n",
       "      <td>1</td>\n",
       "      <td>0</td>\n",
       "      <td>0</td>\n",
       "      <td>0</td>\n",
       "      <td>No</td>\n",
       "      <td>1</td>\n",
       "    </tr>\n",
       "    <tr>\n",
       "      <th>110477</th>\n",
       "      <td>5673472</td>\n",
       "      <td>67</td>\n",
       "      <td>resistência</td>\n",
       "      <td>0</td>\n",
       "      <td>0</td>\n",
       "      <td>1</td>\n",
       "      <td>0</td>\n",
       "      <td>0</td>\n",
       "      <td>No</td>\n",
       "      <td>1</td>\n",
       "    </tr>\n",
       "    <tr>\n",
       "      <th>110483</th>\n",
       "      <td>5769404</td>\n",
       "      <td>60</td>\n",
       "      <td>praia do canto</td>\n",
       "      <td>0</td>\n",
       "      <td>1</td>\n",
       "      <td>0</td>\n",
       "      <td>0</td>\n",
       "      <td>0</td>\n",
       "      <td>No</td>\n",
       "      <td>1</td>\n",
       "    </tr>\n",
       "    <tr>\n",
       "      <th>110492</th>\n",
       "      <td>5786741</td>\n",
       "      <td>33</td>\n",
       "      <td>maria ortiz</td>\n",
       "      <td>0</td>\n",
       "      <td>1</td>\n",
       "      <td>0</td>\n",
       "      <td>0</td>\n",
       "      <td>0</td>\n",
       "      <td>Yes</td>\n",
       "      <td>1</td>\n",
       "    </tr>\n",
       "    <tr>\n",
       "      <th>110496</th>\n",
       "      <td>5779046</td>\n",
       "      <td>37</td>\n",
       "      <td>maria ortiz</td>\n",
       "      <td>0</td>\n",
       "      <td>1</td>\n",
       "      <td>0</td>\n",
       "      <td>0</td>\n",
       "      <td>0</td>\n",
       "      <td>Yes</td>\n",
       "      <td>1</td>\n",
       "    </tr>\n",
       "    <tr>\n",
       "      <th>110499</th>\n",
       "      <td>5757697</td>\n",
       "      <td>66</td>\n",
       "      <td>maria ortiz</td>\n",
       "      <td>0</td>\n",
       "      <td>1</td>\n",
       "      <td>1</td>\n",
       "      <td>0</td>\n",
       "      <td>0</td>\n",
       "      <td>No</td>\n",
       "      <td>1</td>\n",
       "    </tr>\n",
       "    <tr>\n",
       "      <th>110515</th>\n",
       "      <td>5778621</td>\n",
       "      <td>33</td>\n",
       "      <td>maria ortiz</td>\n",
       "      <td>0</td>\n",
       "      <td>1</td>\n",
       "      <td>0</td>\n",
       "      <td>0</td>\n",
       "      <td>0</td>\n",
       "      <td>Yes</td>\n",
       "      <td>1</td>\n",
       "    </tr>\n",
       "  </tbody>\n",
       "</table>\n",
       "<p>26412 rows × 10 columns</p>\n",
       "</div>"
      ],
      "text/plain": [
       "        appointment_id  age     neighborhood  scholarship  hypertension  \\\n",
       "0              5642903   62  jardim da penha            0             1   \n",
       "4              5642494   56  jardim da penha            0             1   \n",
       "5              5626772   76        república            0             1   \n",
       "25             5624020   46        conquista            0             1   \n",
       "26             5641781   45   bento ferreira            0             1   \n",
       "32             5637908   61    são cristóvão            0             1   \n",
       "34             5637963   79    são cristóvão            0             1   \n",
       "36             5637975   63    são cristóvão            0             1   \n",
       "37             5637986   64       tabuazeiro            1             1   \n",
       "38             5609446   85    são cristóvão            0             1   \n",
       "41             5633339   71          maruípe            0             0   \n",
       "43             5641620   49    são cristóvão            0             1   \n",
       "44             5635414   78    são cristóvão            0             1   \n",
       "46             5615608   58    são cristóvão            0             1   \n",
       "47             5633116   39          maruípe            0             1   \n",
       "68             5552915   69  jardim da penha            0             1   \n",
       "73             5552934   68        república            0             1   \n",
       "85             5623102   69      resistência            0             1   \n",
       "102            5634093   54   mário cypreste            0             1   \n",
       "105            5639399   51       bela vista            0             1   \n",
       "106            5639773   54    santo antônio            0             1   \n",
       "111            5574534   56    santo antônio            0             1   \n",
       "112            5594665   59    santo antônio            0             1   \n",
       "115            5641363   54    santo antônio            0             1   \n",
       "122            5642643   46       bela vista            0             1   \n",
       "125            5542592   36   mário cypreste            0             1   \n",
       "126            5633576   67     praia do suá            0             0   \n",
       "127            5561194   42     praia do suá            0             1   \n",
       "131            5637150   29     praia do suá            0             0   \n",
       "133            5580520   69     praia do suá            0             0   \n",
       "...                ...  ...              ...          ...           ...   \n",
       "110202         5767693   91       cruzamento            0             0   \n",
       "110305         5752701   56   bento ferreira            0             1   \n",
       "110359         5762836   70      resistência            0             1   \n",
       "110363         5624922   54      resistência            0             1   \n",
       "110383         5582577   48      resistência            0             1   \n",
       "110386         5582576   48      resistência            0             1   \n",
       "110398         5751672   75      resistência            0             1   \n",
       "110399         5692938   17      resistência            0             1   \n",
       "110421         5763871   34      resistência            0             0   \n",
       "110433         5627262   63      resistência            0             0   \n",
       "110434         5627263   63      resistência            0             0   \n",
       "110436         5784368   21      resistência            0             0   \n",
       "110439         5784366   34      resistência            0             0   \n",
       "110448         5756082   40      resistência            0             1   \n",
       "110450         5746688   49      resistência            0             1   \n",
       "110452         5701786   39      resistência            0             1   \n",
       "110453         5772475   86      resistência            0             1   \n",
       "110455         5772215   52      resistência            0             0   \n",
       "110456         5772107   79      resistência            0             1   \n",
       "110459         5770574   61      resistência            0             1   \n",
       "110468         5763322   76      resistência            0             1   \n",
       "110471         5781360   84      resistência            0             1   \n",
       "110475         5779726   54      resistência            0             1   \n",
       "110476         5678369   80      resistência            0             1   \n",
       "110477         5673472   67      resistência            0             0   \n",
       "110483         5769404   60   praia do canto            0             1   \n",
       "110492         5786741   33      maria ortiz            0             1   \n",
       "110496         5779046   37      maria ortiz            0             1   \n",
       "110499         5757697   66      maria ortiz            0             1   \n",
       "110515         5778621   33      maria ortiz            0             1   \n",
       "\n",
       "        diabetes  alcoholism  handicap no_show  existing_condition  \n",
       "0              0           0         0      No                   1  \n",
       "4              1           0         0      No                   1  \n",
       "5              0           0         0      No                   1  \n",
       "25             0           0         0      No                   1  \n",
       "26             0           0         0      No                   1  \n",
       "32             0           0         0      No                   1  \n",
       "34             0           0         0      No                   1  \n",
       "36             1           0         0      No                   1  \n",
       "37             1           0         0      No                   1  \n",
       "38             0           0         0      No                   1  \n",
       "41             1           0         0      No                   1  \n",
       "43             0           0         0      No                   1  \n",
       "44             1           0         0     Yes                   1  \n",
       "46             0           1         0      No                   1  \n",
       "47             1           0         0      No                   1  \n",
       "68             0           0         0      No                   1  \n",
       "73             1           0         0      No                   1  \n",
       "85             0           0         0      No                   1  \n",
       "102            0           0         0      No                   1  \n",
       "105            0           0         0      No                   1  \n",
       "106            0           0         0      No                   1  \n",
       "111            0           0         0      No                   1  \n",
       "112            1           0         0      No                   1  \n",
       "115            0           0         0      No                   1  \n",
       "122            0           0         0      No                   1  \n",
       "125            0           0         0      No                   1  \n",
       "126            1           0         0     Yes                   1  \n",
       "127            1           0         0      No                   1  \n",
       "131            0           1         0     Yes                   1  \n",
       "133            1           1         0      No                   1  \n",
       "...          ...         ...       ...     ...                 ...  \n",
       "110202         0           0         1     Yes                   1  \n",
       "110305         1           0         0      No                   1  \n",
       "110359         1           0         0      No                   1  \n",
       "110363         0           0         0     Yes                   1  \n",
       "110383         0           0         0     Yes                   1  \n",
       "110386         0           0         0     Yes                   1  \n",
       "110398         0           0         0      No                   1  \n",
       "110399         0           0         0     Yes                   1  \n",
       "110421         0           0         1      No                   1  \n",
       "110433         1           0         0      No                   1  \n",
       "110434         1           0         0      No                   1  \n",
       "110436         0           0         1      No                   1  \n",
       "110439         0           0         1      No                   1  \n",
       "110448         1           0         0      No                   1  \n",
       "110450         0           0         0      No                   1  \n",
       "110452         0           0         0      No                   1  \n",
       "110453         0           0         0      No                   1  \n",
       "110455         0           0         1      No                   1  \n",
       "110456         1           0         0      No                   1  \n",
       "110459         0           0         0      No                   1  \n",
       "110468         1           0         0      No                   1  \n",
       "110471         0           0         0      No                   1  \n",
       "110475         0           0         0      No                   1  \n",
       "110476         0           0         0      No                   1  \n",
       "110477         1           0         0      No                   1  \n",
       "110483         0           0         0      No                   1  \n",
       "110492         0           0         0     Yes                   1  \n",
       "110496         0           0         0     Yes                   1  \n",
       "110499         1           0         0      No                   1  \n",
       "110515         0           0         0     Yes                   1  \n",
       "\n",
       "[26412 rows x 10 columns]"
      ]
     },
     "execution_count": 125,
     "metadata": {},
     "output_type": "execute_result"
    }
   ],
   "source": [
    "# Combine 'hypertension','diabetes','alcoholism', 'handicap' into one column named 'existing_condition' with a 1 for\n",
    "# any patient with 1 or more \"Existing Condition\"and a 0 for patients with \"No Existing Conditions\".\n",
    "df['existing_condition'] = np.where(((df['hypertension']>=1) | (df['diabetes']>=1) | (df['alcoholism']>=1) | (df['handicap']>=1)), 1, 0)\n",
    "# Verify results of the creation of 'existing_condition' column.\n",
    "df[df['existing_condition']==1]"
   ]
  },
  {
   "cell_type": "code",
   "execution_count": 126,
   "metadata": {},
   "outputs": [
    {
     "data": {
      "text/html": [
       "<div>\n",
       "<style>\n",
       "    .dataframe thead tr:only-child th {\n",
       "        text-align: right;\n",
       "    }\n",
       "\n",
       "    .dataframe thead th {\n",
       "        text-align: left;\n",
       "    }\n",
       "\n",
       "    .dataframe tbody tr th {\n",
       "        vertical-align: top;\n",
       "    }\n",
       "</style>\n",
       "<table border=\"1\" class=\"dataframe\">\n",
       "  <thead>\n",
       "    <tr style=\"text-align: right;\">\n",
       "      <th></th>\n",
       "      <th>appointment_id</th>\n",
       "      <th>age</th>\n",
       "      <th>neighborhood</th>\n",
       "      <th>scholarship</th>\n",
       "      <th>hypertension</th>\n",
       "      <th>diabetes</th>\n",
       "      <th>alcoholism</th>\n",
       "      <th>handicap</th>\n",
       "      <th>no_show</th>\n",
       "      <th>existing_condition</th>\n",
       "    </tr>\n",
       "  </thead>\n",
       "  <tbody>\n",
       "    <tr>\n",
       "      <th>1</th>\n",
       "      <td>5642503</td>\n",
       "      <td>56</td>\n",
       "      <td>jardim da penha</td>\n",
       "      <td>0</td>\n",
       "      <td>0</td>\n",
       "      <td>0</td>\n",
       "      <td>0</td>\n",
       "      <td>0</td>\n",
       "      <td>No</td>\n",
       "      <td>0</td>\n",
       "    </tr>\n",
       "    <tr>\n",
       "      <th>2</th>\n",
       "      <td>5642549</td>\n",
       "      <td>62</td>\n",
       "      <td>mata da praia</td>\n",
       "      <td>0</td>\n",
       "      <td>0</td>\n",
       "      <td>0</td>\n",
       "      <td>0</td>\n",
       "      <td>0</td>\n",
       "      <td>No</td>\n",
       "      <td>0</td>\n",
       "    </tr>\n",
       "    <tr>\n",
       "      <th>3</th>\n",
       "      <td>5642828</td>\n",
       "      <td>8</td>\n",
       "      <td>pontal de camburi</td>\n",
       "      <td>0</td>\n",
       "      <td>0</td>\n",
       "      <td>0</td>\n",
       "      <td>0</td>\n",
       "      <td>0</td>\n",
       "      <td>No</td>\n",
       "      <td>0</td>\n",
       "    </tr>\n",
       "    <tr>\n",
       "      <th>6</th>\n",
       "      <td>5630279</td>\n",
       "      <td>23</td>\n",
       "      <td>goiabeiras</td>\n",
       "      <td>0</td>\n",
       "      <td>0</td>\n",
       "      <td>0</td>\n",
       "      <td>0</td>\n",
       "      <td>0</td>\n",
       "      <td>Yes</td>\n",
       "      <td>0</td>\n",
       "    </tr>\n",
       "    <tr>\n",
       "      <th>7</th>\n",
       "      <td>5630575</td>\n",
       "      <td>39</td>\n",
       "      <td>goiabeiras</td>\n",
       "      <td>0</td>\n",
       "      <td>0</td>\n",
       "      <td>0</td>\n",
       "      <td>0</td>\n",
       "      <td>0</td>\n",
       "      <td>Yes</td>\n",
       "      <td>0</td>\n",
       "    </tr>\n",
       "    <tr>\n",
       "      <th>8</th>\n",
       "      <td>5638447</td>\n",
       "      <td>21</td>\n",
       "      <td>andorinhas</td>\n",
       "      <td>0</td>\n",
       "      <td>0</td>\n",
       "      <td>0</td>\n",
       "      <td>0</td>\n",
       "      <td>0</td>\n",
       "      <td>No</td>\n",
       "      <td>0</td>\n",
       "    </tr>\n",
       "    <tr>\n",
       "      <th>9</th>\n",
       "      <td>5629123</td>\n",
       "      <td>19</td>\n",
       "      <td>conquista</td>\n",
       "      <td>0</td>\n",
       "      <td>0</td>\n",
       "      <td>0</td>\n",
       "      <td>0</td>\n",
       "      <td>0</td>\n",
       "      <td>No</td>\n",
       "      <td>0</td>\n",
       "    </tr>\n",
       "    <tr>\n",
       "      <th>10</th>\n",
       "      <td>5630213</td>\n",
       "      <td>30</td>\n",
       "      <td>nova palestina</td>\n",
       "      <td>0</td>\n",
       "      <td>0</td>\n",
       "      <td>0</td>\n",
       "      <td>0</td>\n",
       "      <td>0</td>\n",
       "      <td>No</td>\n",
       "      <td>0</td>\n",
       "    </tr>\n",
       "    <tr>\n",
       "      <th>11</th>\n",
       "      <td>5620163</td>\n",
       "      <td>29</td>\n",
       "      <td>nova palestina</td>\n",
       "      <td>0</td>\n",
       "      <td>0</td>\n",
       "      <td>0</td>\n",
       "      <td>0</td>\n",
       "      <td>0</td>\n",
       "      <td>Yes</td>\n",
       "      <td>0</td>\n",
       "    </tr>\n",
       "    <tr>\n",
       "      <th>12</th>\n",
       "      <td>5634718</td>\n",
       "      <td>22</td>\n",
       "      <td>nova palestina</td>\n",
       "      <td>1</td>\n",
       "      <td>0</td>\n",
       "      <td>0</td>\n",
       "      <td>0</td>\n",
       "      <td>0</td>\n",
       "      <td>No</td>\n",
       "      <td>0</td>\n",
       "    </tr>\n",
       "    <tr>\n",
       "      <th>13</th>\n",
       "      <td>5636249</td>\n",
       "      <td>28</td>\n",
       "      <td>nova palestina</td>\n",
       "      <td>0</td>\n",
       "      <td>0</td>\n",
       "      <td>0</td>\n",
       "      <td>0</td>\n",
       "      <td>0</td>\n",
       "      <td>No</td>\n",
       "      <td>0</td>\n",
       "    </tr>\n",
       "    <tr>\n",
       "      <th>14</th>\n",
       "      <td>5633951</td>\n",
       "      <td>54</td>\n",
       "      <td>nova palestina</td>\n",
       "      <td>0</td>\n",
       "      <td>0</td>\n",
       "      <td>0</td>\n",
       "      <td>0</td>\n",
       "      <td>0</td>\n",
       "      <td>No</td>\n",
       "      <td>0</td>\n",
       "    </tr>\n",
       "    <tr>\n",
       "      <th>15</th>\n",
       "      <td>5620206</td>\n",
       "      <td>15</td>\n",
       "      <td>nova palestina</td>\n",
       "      <td>0</td>\n",
       "      <td>0</td>\n",
       "      <td>0</td>\n",
       "      <td>0</td>\n",
       "      <td>0</td>\n",
       "      <td>No</td>\n",
       "      <td>0</td>\n",
       "    </tr>\n",
       "    <tr>\n",
       "      <th>16</th>\n",
       "      <td>5633121</td>\n",
       "      <td>50</td>\n",
       "      <td>nova palestina</td>\n",
       "      <td>0</td>\n",
       "      <td>0</td>\n",
       "      <td>0</td>\n",
       "      <td>0</td>\n",
       "      <td>0</td>\n",
       "      <td>No</td>\n",
       "      <td>0</td>\n",
       "    </tr>\n",
       "    <tr>\n",
       "      <th>17</th>\n",
       "      <td>5633460</td>\n",
       "      <td>40</td>\n",
       "      <td>conquista</td>\n",
       "      <td>1</td>\n",
       "      <td>0</td>\n",
       "      <td>0</td>\n",
       "      <td>0</td>\n",
       "      <td>0</td>\n",
       "      <td>Yes</td>\n",
       "      <td>0</td>\n",
       "    </tr>\n",
       "    <tr>\n",
       "      <th>18</th>\n",
       "      <td>5621836</td>\n",
       "      <td>30</td>\n",
       "      <td>nova palestina</td>\n",
       "      <td>1</td>\n",
       "      <td>0</td>\n",
       "      <td>0</td>\n",
       "      <td>0</td>\n",
       "      <td>0</td>\n",
       "      <td>No</td>\n",
       "      <td>0</td>\n",
       "    </tr>\n",
       "    <tr>\n",
       "      <th>19</th>\n",
       "      <td>5640433</td>\n",
       "      <td>46</td>\n",
       "      <td>da penha</td>\n",
       "      <td>0</td>\n",
       "      <td>0</td>\n",
       "      <td>0</td>\n",
       "      <td>0</td>\n",
       "      <td>0</td>\n",
       "      <td>No</td>\n",
       "      <td>0</td>\n",
       "    </tr>\n",
       "    <tr>\n",
       "      <th>20</th>\n",
       "      <td>5626083</td>\n",
       "      <td>30</td>\n",
       "      <td>nova palestina</td>\n",
       "      <td>0</td>\n",
       "      <td>0</td>\n",
       "      <td>0</td>\n",
       "      <td>0</td>\n",
       "      <td>0</td>\n",
       "      <td>Yes</td>\n",
       "      <td>0</td>\n",
       "    </tr>\n",
       "    <tr>\n",
       "      <th>21</th>\n",
       "      <td>5628338</td>\n",
       "      <td>4</td>\n",
       "      <td>conquista</td>\n",
       "      <td>0</td>\n",
       "      <td>0</td>\n",
       "      <td>0</td>\n",
       "      <td>0</td>\n",
       "      <td>0</td>\n",
       "      <td>Yes</td>\n",
       "      <td>0</td>\n",
       "    </tr>\n",
       "    <tr>\n",
       "      <th>22</th>\n",
       "      <td>5616091</td>\n",
       "      <td>13</td>\n",
       "      <td>conquista</td>\n",
       "      <td>0</td>\n",
       "      <td>0</td>\n",
       "      <td>0</td>\n",
       "      <td>0</td>\n",
       "      <td>0</td>\n",
       "      <td>Yes</td>\n",
       "      <td>0</td>\n",
       "    </tr>\n",
       "    <tr>\n",
       "      <th>23</th>\n",
       "      <td>5634142</td>\n",
       "      <td>46</td>\n",
       "      <td>conquista</td>\n",
       "      <td>0</td>\n",
       "      <td>0</td>\n",
       "      <td>0</td>\n",
       "      <td>0</td>\n",
       "      <td>0</td>\n",
       "      <td>No</td>\n",
       "      <td>0</td>\n",
       "    </tr>\n",
       "    <tr>\n",
       "      <th>24</th>\n",
       "      <td>5641780</td>\n",
       "      <td>65</td>\n",
       "      <td>tabuazeiro</td>\n",
       "      <td>0</td>\n",
       "      <td>0</td>\n",
       "      <td>0</td>\n",
       "      <td>0</td>\n",
       "      <td>0</td>\n",
       "      <td>No</td>\n",
       "      <td>0</td>\n",
       "    </tr>\n",
       "    <tr>\n",
       "      <th>27</th>\n",
       "      <td>5628345</td>\n",
       "      <td>4</td>\n",
       "      <td>conquista</td>\n",
       "      <td>0</td>\n",
       "      <td>0</td>\n",
       "      <td>0</td>\n",
       "      <td>0</td>\n",
       "      <td>0</td>\n",
       "      <td>No</td>\n",
       "      <td>0</td>\n",
       "    </tr>\n",
       "    <tr>\n",
       "      <th>28</th>\n",
       "      <td>5642400</td>\n",
       "      <td>51</td>\n",
       "      <td>são pedro</td>\n",
       "      <td>0</td>\n",
       "      <td>0</td>\n",
       "      <td>0</td>\n",
       "      <td>0</td>\n",
       "      <td>0</td>\n",
       "      <td>No</td>\n",
       "      <td>0</td>\n",
       "    </tr>\n",
       "    <tr>\n",
       "      <th>29</th>\n",
       "      <td>5642186</td>\n",
       "      <td>32</td>\n",
       "      <td>santa martha</td>\n",
       "      <td>0</td>\n",
       "      <td>0</td>\n",
       "      <td>0</td>\n",
       "      <td>0</td>\n",
       "      <td>0</td>\n",
       "      <td>No</td>\n",
       "      <td>0</td>\n",
       "    </tr>\n",
       "    <tr>\n",
       "      <th>30</th>\n",
       "      <td>5628068</td>\n",
       "      <td>46</td>\n",
       "      <td>nova palestina</td>\n",
       "      <td>0</td>\n",
       "      <td>0</td>\n",
       "      <td>0</td>\n",
       "      <td>0</td>\n",
       "      <td>0</td>\n",
       "      <td>No</td>\n",
       "      <td>0</td>\n",
       "    </tr>\n",
       "    <tr>\n",
       "      <th>31</th>\n",
       "      <td>5628907</td>\n",
       "      <td>12</td>\n",
       "      <td>nova palestina</td>\n",
       "      <td>1</td>\n",
       "      <td>0</td>\n",
       "      <td>0</td>\n",
       "      <td>0</td>\n",
       "      <td>0</td>\n",
       "      <td>Yes</td>\n",
       "      <td>0</td>\n",
       "    </tr>\n",
       "    <tr>\n",
       "      <th>33</th>\n",
       "      <td>5616921</td>\n",
       "      <td>38</td>\n",
       "      <td>são cristóvão</td>\n",
       "      <td>1</td>\n",
       "      <td>0</td>\n",
       "      <td>0</td>\n",
       "      <td>0</td>\n",
       "      <td>0</td>\n",
       "      <td>No</td>\n",
       "      <td>0</td>\n",
       "    </tr>\n",
       "    <tr>\n",
       "      <th>35</th>\n",
       "      <td>5637968</td>\n",
       "      <td>18</td>\n",
       "      <td>são cristóvão</td>\n",
       "      <td>0</td>\n",
       "      <td>0</td>\n",
       "      <td>0</td>\n",
       "      <td>0</td>\n",
       "      <td>0</td>\n",
       "      <td>No</td>\n",
       "      <td>0</td>\n",
       "    </tr>\n",
       "    <tr>\n",
       "      <th>39</th>\n",
       "      <td>5639644</td>\n",
       "      <td>59</td>\n",
       "      <td>são cristóvão</td>\n",
       "      <td>0</td>\n",
       "      <td>0</td>\n",
       "      <td>0</td>\n",
       "      <td>0</td>\n",
       "      <td>0</td>\n",
       "      <td>No</td>\n",
       "      <td>0</td>\n",
       "    </tr>\n",
       "    <tr>\n",
       "      <th>...</th>\n",
       "      <td>...</td>\n",
       "      <td>...</td>\n",
       "      <td>...</td>\n",
       "      <td>...</td>\n",
       "      <td>...</td>\n",
       "      <td>...</td>\n",
       "      <td>...</td>\n",
       "      <td>...</td>\n",
       "      <td>...</td>\n",
       "      <td>...</td>\n",
       "    </tr>\n",
       "    <tr>\n",
       "      <th>110494</th>\n",
       "      <td>5779073</td>\n",
       "      <td>38</td>\n",
       "      <td>maria ortiz</td>\n",
       "      <td>0</td>\n",
       "      <td>0</td>\n",
       "      <td>0</td>\n",
       "      <td>0</td>\n",
       "      <td>0</td>\n",
       "      <td>No</td>\n",
       "      <td>0</td>\n",
       "    </tr>\n",
       "    <tr>\n",
       "      <th>110495</th>\n",
       "      <td>5759838</td>\n",
       "      <td>40</td>\n",
       "      <td>maria ortiz</td>\n",
       "      <td>0</td>\n",
       "      <td>0</td>\n",
       "      <td>0</td>\n",
       "      <td>0</td>\n",
       "      <td>0</td>\n",
       "      <td>No</td>\n",
       "      <td>0</td>\n",
       "    </tr>\n",
       "    <tr>\n",
       "      <th>110497</th>\n",
       "      <td>5757745</td>\n",
       "      <td>76</td>\n",
       "      <td>maria ortiz</td>\n",
       "      <td>0</td>\n",
       "      <td>0</td>\n",
       "      <td>0</td>\n",
       "      <td>0</td>\n",
       "      <td>0</td>\n",
       "      <td>No</td>\n",
       "      <td>0</td>\n",
       "    </tr>\n",
       "    <tr>\n",
       "      <th>110498</th>\n",
       "      <td>5787655</td>\n",
       "      <td>59</td>\n",
       "      <td>maria ortiz</td>\n",
       "      <td>0</td>\n",
       "      <td>0</td>\n",
       "      <td>0</td>\n",
       "      <td>0</td>\n",
       "      <td>0</td>\n",
       "      <td>No</td>\n",
       "      <td>0</td>\n",
       "    </tr>\n",
       "    <tr>\n",
       "      <th>110500</th>\n",
       "      <td>5787233</td>\n",
       "      <td>59</td>\n",
       "      <td>maria ortiz</td>\n",
       "      <td>0</td>\n",
       "      <td>0</td>\n",
       "      <td>0</td>\n",
       "      <td>0</td>\n",
       "      <td>0</td>\n",
       "      <td>No</td>\n",
       "      <td>0</td>\n",
       "    </tr>\n",
       "    <tr>\n",
       "      <th>110501</th>\n",
       "      <td>5758133</td>\n",
       "      <td>44</td>\n",
       "      <td>maria ortiz</td>\n",
       "      <td>0</td>\n",
       "      <td>0</td>\n",
       "      <td>0</td>\n",
       "      <td>0</td>\n",
       "      <td>0</td>\n",
       "      <td>No</td>\n",
       "      <td>0</td>\n",
       "    </tr>\n",
       "    <tr>\n",
       "      <th>110502</th>\n",
       "      <td>5787937</td>\n",
       "      <td>22</td>\n",
       "      <td>goiabeiras</td>\n",
       "      <td>0</td>\n",
       "      <td>0</td>\n",
       "      <td>0</td>\n",
       "      <td>0</td>\n",
       "      <td>0</td>\n",
       "      <td>No</td>\n",
       "      <td>0</td>\n",
       "    </tr>\n",
       "    <tr>\n",
       "      <th>110503</th>\n",
       "      <td>5759473</td>\n",
       "      <td>64</td>\n",
       "      <td>solon borges</td>\n",
       "      <td>0</td>\n",
       "      <td>0</td>\n",
       "      <td>0</td>\n",
       "      <td>0</td>\n",
       "      <td>0</td>\n",
       "      <td>No</td>\n",
       "      <td>0</td>\n",
       "    </tr>\n",
       "    <tr>\n",
       "      <th>110504</th>\n",
       "      <td>5788052</td>\n",
       "      <td>4</td>\n",
       "      <td>maria ortiz</td>\n",
       "      <td>0</td>\n",
       "      <td>0</td>\n",
       "      <td>0</td>\n",
       "      <td>0</td>\n",
       "      <td>0</td>\n",
       "      <td>No</td>\n",
       "      <td>0</td>\n",
       "    </tr>\n",
       "    <tr>\n",
       "      <th>110505</th>\n",
       "      <td>5758455</td>\n",
       "      <td>55</td>\n",
       "      <td>maria ortiz</td>\n",
       "      <td>0</td>\n",
       "      <td>0</td>\n",
       "      <td>0</td>\n",
       "      <td>0</td>\n",
       "      <td>0</td>\n",
       "      <td>No</td>\n",
       "      <td>0</td>\n",
       "    </tr>\n",
       "    <tr>\n",
       "      <th>110506</th>\n",
       "      <td>5758779</td>\n",
       "      <td>5</td>\n",
       "      <td>maria ortiz</td>\n",
       "      <td>0</td>\n",
       "      <td>0</td>\n",
       "      <td>0</td>\n",
       "      <td>0</td>\n",
       "      <td>0</td>\n",
       "      <td>No</td>\n",
       "      <td>0</td>\n",
       "    </tr>\n",
       "    <tr>\n",
       "      <th>110507</th>\n",
       "      <td>5786918</td>\n",
       "      <td>0</td>\n",
       "      <td>maria ortiz</td>\n",
       "      <td>0</td>\n",
       "      <td>0</td>\n",
       "      <td>0</td>\n",
       "      <td>0</td>\n",
       "      <td>0</td>\n",
       "      <td>No</td>\n",
       "      <td>0</td>\n",
       "    </tr>\n",
       "    <tr>\n",
       "      <th>110508</th>\n",
       "      <td>5757656</td>\n",
       "      <td>59</td>\n",
       "      <td>maria ortiz</td>\n",
       "      <td>0</td>\n",
       "      <td>0</td>\n",
       "      <td>0</td>\n",
       "      <td>0</td>\n",
       "      <td>0</td>\n",
       "      <td>No</td>\n",
       "      <td>0</td>\n",
       "    </tr>\n",
       "    <tr>\n",
       "      <th>110509</th>\n",
       "      <td>5786750</td>\n",
       "      <td>33</td>\n",
       "      <td>maria ortiz</td>\n",
       "      <td>0</td>\n",
       "      <td>0</td>\n",
       "      <td>0</td>\n",
       "      <td>0</td>\n",
       "      <td>0</td>\n",
       "      <td>No</td>\n",
       "      <td>0</td>\n",
       "    </tr>\n",
       "    <tr>\n",
       "      <th>110510</th>\n",
       "      <td>5757587</td>\n",
       "      <td>64</td>\n",
       "      <td>solon borges</td>\n",
       "      <td>0</td>\n",
       "      <td>0</td>\n",
       "      <td>0</td>\n",
       "      <td>0</td>\n",
       "      <td>0</td>\n",
       "      <td>No</td>\n",
       "      <td>0</td>\n",
       "    </tr>\n",
       "    <tr>\n",
       "      <th>110511</th>\n",
       "      <td>5786742</td>\n",
       "      <td>14</td>\n",
       "      <td>maria ortiz</td>\n",
       "      <td>0</td>\n",
       "      <td>0</td>\n",
       "      <td>0</td>\n",
       "      <td>0</td>\n",
       "      <td>0</td>\n",
       "      <td>No</td>\n",
       "      <td>0</td>\n",
       "    </tr>\n",
       "    <tr>\n",
       "      <th>110512</th>\n",
       "      <td>5786368</td>\n",
       "      <td>41</td>\n",
       "      <td>maria ortiz</td>\n",
       "      <td>0</td>\n",
       "      <td>0</td>\n",
       "      <td>0</td>\n",
       "      <td>0</td>\n",
       "      <td>0</td>\n",
       "      <td>No</td>\n",
       "      <td>0</td>\n",
       "    </tr>\n",
       "    <tr>\n",
       "      <th>110513</th>\n",
       "      <td>5785964</td>\n",
       "      <td>2</td>\n",
       "      <td>antônio honório</td>\n",
       "      <td>0</td>\n",
       "      <td>0</td>\n",
       "      <td>0</td>\n",
       "      <td>0</td>\n",
       "      <td>0</td>\n",
       "      <td>No</td>\n",
       "      <td>0</td>\n",
       "    </tr>\n",
       "    <tr>\n",
       "      <th>110514</th>\n",
       "      <td>5786567</td>\n",
       "      <td>58</td>\n",
       "      <td>maria ortiz</td>\n",
       "      <td>0</td>\n",
       "      <td>0</td>\n",
       "      <td>0</td>\n",
       "      <td>0</td>\n",
       "      <td>0</td>\n",
       "      <td>No</td>\n",
       "      <td>0</td>\n",
       "    </tr>\n",
       "    <tr>\n",
       "      <th>110516</th>\n",
       "      <td>5780205</td>\n",
       "      <td>37</td>\n",
       "      <td>maria ortiz</td>\n",
       "      <td>0</td>\n",
       "      <td>0</td>\n",
       "      <td>0</td>\n",
       "      <td>0</td>\n",
       "      <td>0</td>\n",
       "      <td>Yes</td>\n",
       "      <td>0</td>\n",
       "    </tr>\n",
       "    <tr>\n",
       "      <th>110517</th>\n",
       "      <td>5780122</td>\n",
       "      <td>19</td>\n",
       "      <td>maria ortiz</td>\n",
       "      <td>0</td>\n",
       "      <td>0</td>\n",
       "      <td>0</td>\n",
       "      <td>0</td>\n",
       "      <td>0</td>\n",
       "      <td>No</td>\n",
       "      <td>0</td>\n",
       "    </tr>\n",
       "    <tr>\n",
       "      <th>110518</th>\n",
       "      <td>5630375</td>\n",
       "      <td>50</td>\n",
       "      <td>maria ortiz</td>\n",
       "      <td>0</td>\n",
       "      <td>0</td>\n",
       "      <td>0</td>\n",
       "      <td>0</td>\n",
       "      <td>0</td>\n",
       "      <td>No</td>\n",
       "      <td>0</td>\n",
       "    </tr>\n",
       "    <tr>\n",
       "      <th>110519</th>\n",
       "      <td>5630447</td>\n",
       "      <td>22</td>\n",
       "      <td>maria ortiz</td>\n",
       "      <td>0</td>\n",
       "      <td>0</td>\n",
       "      <td>0</td>\n",
       "      <td>0</td>\n",
       "      <td>0</td>\n",
       "      <td>No</td>\n",
       "      <td>0</td>\n",
       "    </tr>\n",
       "    <tr>\n",
       "      <th>110520</th>\n",
       "      <td>5650534</td>\n",
       "      <td>42</td>\n",
       "      <td>maria ortiz</td>\n",
       "      <td>0</td>\n",
       "      <td>0</td>\n",
       "      <td>0</td>\n",
       "      <td>0</td>\n",
       "      <td>0</td>\n",
       "      <td>No</td>\n",
       "      <td>0</td>\n",
       "    </tr>\n",
       "    <tr>\n",
       "      <th>110521</th>\n",
       "      <td>5651072</td>\n",
       "      <td>53</td>\n",
       "      <td>maria ortiz</td>\n",
       "      <td>0</td>\n",
       "      <td>0</td>\n",
       "      <td>0</td>\n",
       "      <td>0</td>\n",
       "      <td>0</td>\n",
       "      <td>No</td>\n",
       "      <td>0</td>\n",
       "    </tr>\n",
       "    <tr>\n",
       "      <th>110522</th>\n",
       "      <td>5651768</td>\n",
       "      <td>56</td>\n",
       "      <td>maria ortiz</td>\n",
       "      <td>0</td>\n",
       "      <td>0</td>\n",
       "      <td>0</td>\n",
       "      <td>0</td>\n",
       "      <td>0</td>\n",
       "      <td>No</td>\n",
       "      <td>0</td>\n",
       "    </tr>\n",
       "    <tr>\n",
       "      <th>110523</th>\n",
       "      <td>5650093</td>\n",
       "      <td>51</td>\n",
       "      <td>maria ortiz</td>\n",
       "      <td>0</td>\n",
       "      <td>0</td>\n",
       "      <td>0</td>\n",
       "      <td>0</td>\n",
       "      <td>0</td>\n",
       "      <td>No</td>\n",
       "      <td>0</td>\n",
       "    </tr>\n",
       "    <tr>\n",
       "      <th>110524</th>\n",
       "      <td>5630692</td>\n",
       "      <td>21</td>\n",
       "      <td>maria ortiz</td>\n",
       "      <td>0</td>\n",
       "      <td>0</td>\n",
       "      <td>0</td>\n",
       "      <td>0</td>\n",
       "      <td>0</td>\n",
       "      <td>No</td>\n",
       "      <td>0</td>\n",
       "    </tr>\n",
       "    <tr>\n",
       "      <th>110525</th>\n",
       "      <td>5630323</td>\n",
       "      <td>38</td>\n",
       "      <td>maria ortiz</td>\n",
       "      <td>0</td>\n",
       "      <td>0</td>\n",
       "      <td>0</td>\n",
       "      <td>0</td>\n",
       "      <td>0</td>\n",
       "      <td>No</td>\n",
       "      <td>0</td>\n",
       "    </tr>\n",
       "    <tr>\n",
       "      <th>110526</th>\n",
       "      <td>5629448</td>\n",
       "      <td>54</td>\n",
       "      <td>maria ortiz</td>\n",
       "      <td>0</td>\n",
       "      <td>0</td>\n",
       "      <td>0</td>\n",
       "      <td>0</td>\n",
       "      <td>0</td>\n",
       "      <td>No</td>\n",
       "      <td>0</td>\n",
       "    </tr>\n",
       "  </tbody>\n",
       "</table>\n",
       "<p>84114 rows × 10 columns</p>\n",
       "</div>"
      ],
      "text/plain": [
       "        appointment_id  age       neighborhood  scholarship  hypertension  \\\n",
       "1              5642503   56    jardim da penha            0             0   \n",
       "2              5642549   62      mata da praia            0             0   \n",
       "3              5642828    8  pontal de camburi            0             0   \n",
       "6              5630279   23         goiabeiras            0             0   \n",
       "7              5630575   39         goiabeiras            0             0   \n",
       "8              5638447   21         andorinhas            0             0   \n",
       "9              5629123   19          conquista            0             0   \n",
       "10             5630213   30     nova palestina            0             0   \n",
       "11             5620163   29     nova palestina            0             0   \n",
       "12             5634718   22     nova palestina            1             0   \n",
       "13             5636249   28     nova palestina            0             0   \n",
       "14             5633951   54     nova palestina            0             0   \n",
       "15             5620206   15     nova palestina            0             0   \n",
       "16             5633121   50     nova palestina            0             0   \n",
       "17             5633460   40          conquista            1             0   \n",
       "18             5621836   30     nova palestina            1             0   \n",
       "19             5640433   46           da penha            0             0   \n",
       "20             5626083   30     nova palestina            0             0   \n",
       "21             5628338    4          conquista            0             0   \n",
       "22             5616091   13          conquista            0             0   \n",
       "23             5634142   46          conquista            0             0   \n",
       "24             5641780   65         tabuazeiro            0             0   \n",
       "27             5628345    4          conquista            0             0   \n",
       "28             5642400   51          são pedro            0             0   \n",
       "29             5642186   32       santa martha            0             0   \n",
       "30             5628068   46     nova palestina            0             0   \n",
       "31             5628907   12     nova palestina            1             0   \n",
       "33             5616921   38      são cristóvão            1             0   \n",
       "35             5637968   18      são cristóvão            0             0   \n",
       "39             5639644   59      são cristóvão            0             0   \n",
       "...                ...  ...                ...          ...           ...   \n",
       "110494         5779073   38        maria ortiz            0             0   \n",
       "110495         5759838   40        maria ortiz            0             0   \n",
       "110497         5757745   76        maria ortiz            0             0   \n",
       "110498         5787655   59        maria ortiz            0             0   \n",
       "110500         5787233   59        maria ortiz            0             0   \n",
       "110501         5758133   44        maria ortiz            0             0   \n",
       "110502         5787937   22         goiabeiras            0             0   \n",
       "110503         5759473   64       solon borges            0             0   \n",
       "110504         5788052    4        maria ortiz            0             0   \n",
       "110505         5758455   55        maria ortiz            0             0   \n",
       "110506         5758779    5        maria ortiz            0             0   \n",
       "110507         5786918    0        maria ortiz            0             0   \n",
       "110508         5757656   59        maria ortiz            0             0   \n",
       "110509         5786750   33        maria ortiz            0             0   \n",
       "110510         5757587   64       solon borges            0             0   \n",
       "110511         5786742   14        maria ortiz            0             0   \n",
       "110512         5786368   41        maria ortiz            0             0   \n",
       "110513         5785964    2    antônio honório            0             0   \n",
       "110514         5786567   58        maria ortiz            0             0   \n",
       "110516         5780205   37        maria ortiz            0             0   \n",
       "110517         5780122   19        maria ortiz            0             0   \n",
       "110518         5630375   50        maria ortiz            0             0   \n",
       "110519         5630447   22        maria ortiz            0             0   \n",
       "110520         5650534   42        maria ortiz            0             0   \n",
       "110521         5651072   53        maria ortiz            0             0   \n",
       "110522         5651768   56        maria ortiz            0             0   \n",
       "110523         5650093   51        maria ortiz            0             0   \n",
       "110524         5630692   21        maria ortiz            0             0   \n",
       "110525         5630323   38        maria ortiz            0             0   \n",
       "110526         5629448   54        maria ortiz            0             0   \n",
       "\n",
       "        diabetes  alcoholism  handicap no_show  existing_condition  \n",
       "1              0           0         0      No                   0  \n",
       "2              0           0         0      No                   0  \n",
       "3              0           0         0      No                   0  \n",
       "6              0           0         0     Yes                   0  \n",
       "7              0           0         0     Yes                   0  \n",
       "8              0           0         0      No                   0  \n",
       "9              0           0         0      No                   0  \n",
       "10             0           0         0      No                   0  \n",
       "11             0           0         0     Yes                   0  \n",
       "12             0           0         0      No                   0  \n",
       "13             0           0         0      No                   0  \n",
       "14             0           0         0      No                   0  \n",
       "15             0           0         0      No                   0  \n",
       "16             0           0         0      No                   0  \n",
       "17             0           0         0     Yes                   0  \n",
       "18             0           0         0      No                   0  \n",
       "19             0           0         0      No                   0  \n",
       "20             0           0         0     Yes                   0  \n",
       "21             0           0         0     Yes                   0  \n",
       "22             0           0         0     Yes                   0  \n",
       "23             0           0         0      No                   0  \n",
       "24             0           0         0      No                   0  \n",
       "27             0           0         0      No                   0  \n",
       "28             0           0         0      No                   0  \n",
       "29             0           0         0      No                   0  \n",
       "30             0           0         0      No                   0  \n",
       "31             0           0         0     Yes                   0  \n",
       "33             0           0         0      No                   0  \n",
       "35             0           0         0      No                   0  \n",
       "39             0           0         0      No                   0  \n",
       "...          ...         ...       ...     ...                 ...  \n",
       "110494         0           0         0      No                   0  \n",
       "110495         0           0         0      No                   0  \n",
       "110497         0           0         0      No                   0  \n",
       "110498         0           0         0      No                   0  \n",
       "110500         0           0         0      No                   0  \n",
       "110501         0           0         0      No                   0  \n",
       "110502         0           0         0      No                   0  \n",
       "110503         0           0         0      No                   0  \n",
       "110504         0           0         0      No                   0  \n",
       "110505         0           0         0      No                   0  \n",
       "110506         0           0         0      No                   0  \n",
       "110507         0           0         0      No                   0  \n",
       "110508         0           0         0      No                   0  \n",
       "110509         0           0         0      No                   0  \n",
       "110510         0           0         0      No                   0  \n",
       "110511         0           0         0      No                   0  \n",
       "110512         0           0         0      No                   0  \n",
       "110513         0           0         0      No                   0  \n",
       "110514         0           0         0      No                   0  \n",
       "110516         0           0         0     Yes                   0  \n",
       "110517         0           0         0      No                   0  \n",
       "110518         0           0         0      No                   0  \n",
       "110519         0           0         0      No                   0  \n",
       "110520         0           0         0      No                   0  \n",
       "110521         0           0         0      No                   0  \n",
       "110522         0           0         0      No                   0  \n",
       "110523         0           0         0      No                   0  \n",
       "110524         0           0         0      No                   0  \n",
       "110525         0           0         0      No                   0  \n",
       "110526         0           0         0      No                   0  \n",
       "\n",
       "[84114 rows x 10 columns]"
      ]
     },
     "execution_count": 126,
     "metadata": {},
     "output_type": "execute_result"
    }
   ],
   "source": [
    "# Verify results of the creation of 'existing_condition' column.\n",
    "df[df['existing_condition']==0]"
   ]
  },
  {
   "cell_type": "markdown",
   "metadata": {},
   "source": [
    "Columns 'hypertension','diabetes','alcoholism', 'handicap' will no longer be used; therfore, these columns will be dropped."
   ]
  },
  {
   "cell_type": "code",
   "execution_count": 127,
   "metadata": {},
   "outputs": [
    {
     "data": {
      "text/html": [
       "<div>\n",
       "<style>\n",
       "    .dataframe thead tr:only-child th {\n",
       "        text-align: right;\n",
       "    }\n",
       "\n",
       "    .dataframe thead th {\n",
       "        text-align: left;\n",
       "    }\n",
       "\n",
       "    .dataframe tbody tr th {\n",
       "        vertical-align: top;\n",
       "    }\n",
       "</style>\n",
       "<table border=\"1\" class=\"dataframe\">\n",
       "  <thead>\n",
       "    <tr style=\"text-align: right;\">\n",
       "      <th></th>\n",
       "      <th>appointment_id</th>\n",
       "      <th>age</th>\n",
       "      <th>neighborhood</th>\n",
       "      <th>scholarship</th>\n",
       "      <th>no_show</th>\n",
       "      <th>existing_condition</th>\n",
       "    </tr>\n",
       "  </thead>\n",
       "  <tbody>\n",
       "    <tr>\n",
       "      <th>0</th>\n",
       "      <td>5642903</td>\n",
       "      <td>62</td>\n",
       "      <td>jardim da penha</td>\n",
       "      <td>0</td>\n",
       "      <td>No</td>\n",
       "      <td>1</td>\n",
       "    </tr>\n",
       "    <tr>\n",
       "      <th>1</th>\n",
       "      <td>5642503</td>\n",
       "      <td>56</td>\n",
       "      <td>jardim da penha</td>\n",
       "      <td>0</td>\n",
       "      <td>No</td>\n",
       "      <td>0</td>\n",
       "    </tr>\n",
       "    <tr>\n",
       "      <th>2</th>\n",
       "      <td>5642549</td>\n",
       "      <td>62</td>\n",
       "      <td>mata da praia</td>\n",
       "      <td>0</td>\n",
       "      <td>No</td>\n",
       "      <td>0</td>\n",
       "    </tr>\n",
       "    <tr>\n",
       "      <th>3</th>\n",
       "      <td>5642828</td>\n",
       "      <td>8</td>\n",
       "      <td>pontal de camburi</td>\n",
       "      <td>0</td>\n",
       "      <td>No</td>\n",
       "      <td>0</td>\n",
       "    </tr>\n",
       "    <tr>\n",
       "      <th>4</th>\n",
       "      <td>5642494</td>\n",
       "      <td>56</td>\n",
       "      <td>jardim da penha</td>\n",
       "      <td>0</td>\n",
       "      <td>No</td>\n",
       "      <td>1</td>\n",
       "    </tr>\n",
       "  </tbody>\n",
       "</table>\n",
       "</div>"
      ],
      "text/plain": [
       "   appointment_id  age       neighborhood  scholarship no_show  \\\n",
       "0         5642903   62    jardim da penha            0      No   \n",
       "1         5642503   56    jardim da penha            0      No   \n",
       "2         5642549   62      mata da praia            0      No   \n",
       "3         5642828    8  pontal de camburi            0      No   \n",
       "4         5642494   56    jardim da penha            0      No   \n",
       "\n",
       "   existing_condition  \n",
       "0                   1  \n",
       "1                   0  \n",
       "2                   0  \n",
       "3                   0  \n",
       "4                   1  "
      ]
     },
     "execution_count": 127,
     "metadata": {},
     "output_type": "execute_result"
    }
   ],
   "source": [
    "# Drop 'hypertension','diabetes','alcoholism', 'handicap'\n",
    "df = df.drop(['hypertension','diabetes','alcoholism', 'handicap'], axis = 1);\n",
    "# Verify results of drop\n",
    "df.head()"
   ]
  },
  {
   "cell_type": "markdown",
   "metadata": {},
   "source": [
    "Althought not necessary for the analysis in this report, in consideration of later analysis, the values in column 'no-show' will be converted to 1 and 0. 0 in the 'no_show' column represents a patient who missed an appointment. 1 in the 'no_show' column represents a patient who attended an appointment."
   ]
  },
  {
   "cell_type": "code",
   "execution_count": 128,
   "metadata": {
    "collapsed": true
   },
   "outputs": [],
   "source": [
    "# Convert values 'Yes' and 'No' in the 'no_show' appointment column to 0 for 'Yes'.\n",
    "df['no_show'] = df['no_show'].replace('Yes', 0)"
   ]
  },
  {
   "cell_type": "code",
   "execution_count": 129,
   "metadata": {
    "collapsed": true
   },
   "outputs": [],
   "source": [
    "# Convert values 'Yes' and 'No' in the 'no_show' appointment column to and 1 for 'No'.\n",
    "df['no_show'] = df['no_show'].replace('No', 1)"
   ]
  },
  {
   "cell_type": "code",
   "execution_count": 130,
   "metadata": {
    "scrolled": true
   },
   "outputs": [
    {
     "data": {
      "text/html": [
       "<div>\n",
       "<style>\n",
       "    .dataframe thead tr:only-child th {\n",
       "        text-align: right;\n",
       "    }\n",
       "\n",
       "    .dataframe thead th {\n",
       "        text-align: left;\n",
       "    }\n",
       "\n",
       "    .dataframe tbody tr th {\n",
       "        vertical-align: top;\n",
       "    }\n",
       "</style>\n",
       "<table border=\"1\" class=\"dataframe\">\n",
       "  <thead>\n",
       "    <tr style=\"text-align: right;\">\n",
       "      <th></th>\n",
       "      <th>appointment_id</th>\n",
       "      <th>age</th>\n",
       "      <th>neighborhood</th>\n",
       "      <th>scholarship</th>\n",
       "      <th>no_show</th>\n",
       "      <th>existing_condition</th>\n",
       "    </tr>\n",
       "  </thead>\n",
       "  <tbody>\n",
       "    <tr>\n",
       "      <th>0</th>\n",
       "      <td>5642903</td>\n",
       "      <td>62</td>\n",
       "      <td>jardim da penha</td>\n",
       "      <td>0</td>\n",
       "      <td>1</td>\n",
       "      <td>1</td>\n",
       "    </tr>\n",
       "    <tr>\n",
       "      <th>1</th>\n",
       "      <td>5642503</td>\n",
       "      <td>56</td>\n",
       "      <td>jardim da penha</td>\n",
       "      <td>0</td>\n",
       "      <td>1</td>\n",
       "      <td>0</td>\n",
       "    </tr>\n",
       "    <tr>\n",
       "      <th>2</th>\n",
       "      <td>5642549</td>\n",
       "      <td>62</td>\n",
       "      <td>mata da praia</td>\n",
       "      <td>0</td>\n",
       "      <td>1</td>\n",
       "      <td>0</td>\n",
       "    </tr>\n",
       "    <tr>\n",
       "      <th>3</th>\n",
       "      <td>5642828</td>\n",
       "      <td>8</td>\n",
       "      <td>pontal de camburi</td>\n",
       "      <td>0</td>\n",
       "      <td>1</td>\n",
       "      <td>0</td>\n",
       "    </tr>\n",
       "    <tr>\n",
       "      <th>4</th>\n",
       "      <td>5642494</td>\n",
       "      <td>56</td>\n",
       "      <td>jardim da penha</td>\n",
       "      <td>0</td>\n",
       "      <td>1</td>\n",
       "      <td>1</td>\n",
       "    </tr>\n",
       "  </tbody>\n",
       "</table>\n",
       "</div>"
      ],
      "text/plain": [
       "   appointment_id  age       neighborhood  scholarship  no_show  \\\n",
       "0         5642903   62    jardim da penha            0        1   \n",
       "1         5642503   56    jardim da penha            0        1   \n",
       "2         5642549   62      mata da praia            0        1   \n",
       "3         5642828    8  pontal de camburi            0        1   \n",
       "4         5642494   56    jardim da penha            0        1   \n",
       "\n",
       "   existing_condition  \n",
       "0                   1  \n",
       "1                   0  \n",
       "2                   0  \n",
       "3                   0  \n",
       "4                   1  "
      ]
     },
     "execution_count": 130,
     "metadata": {},
     "output_type": "execute_result"
    }
   ],
   "source": [
    "df.head()"
   ]
  },
  {
   "cell_type": "markdown",
   "metadata": {},
   "source": [
    "The age columns will be divided into the following age-groups: 0-18 as 'young', 19-44 as 'adult', 45-64 as 'middle_aged', 65-84 as 'aging', and 85 and over as 'elderly'."
   ]
  },
  {
   "cell_type": "code",
   "execution_count": 131,
   "metadata": {
    "collapsed": true
   },
   "outputs": [],
   "source": [
    "# Create bins for each age-group divide\n",
    "bin_edges = [(df['age'].min()),19,45,65,85,(df['age'].max())]"
   ]
  },
  {
   "cell_type": "code",
   "execution_count": 132,
   "metadata": {
    "collapsed": true
   },
   "outputs": [],
   "source": [
    "# Create names for each age-group divide\n",
    "bin_names = ['young','adult','middle_aged','senior','elderly']"
   ]
  },
  {
   "cell_type": "code",
   "execution_count": 133,
   "metadata": {
    "collapsed": true
   },
   "outputs": [],
   "source": [
    "# Creates age_group column\n",
    "df['age_group'] = pd.cut(df['age'], bin_edges, labels=bin_names, include_lowest=True)"
   ]
  },
  {
   "cell_type": "code",
   "execution_count": 134,
   "metadata": {
    "scrolled": true
   },
   "outputs": [
    {
     "data": {
      "text/plain": [
       "[middle_aged, young, senior, adult, elderly]\n",
       "Categories (5, object): [young < adult < middle_aged < senior < elderly]"
      ]
     },
     "execution_count": 134,
     "metadata": {},
     "output_type": "execute_result"
    }
   ],
   "source": [
    "# Inspect results of adding age_group column\n",
    "df['age_group'].unique()"
   ]
  },
  {
   "cell_type": "code",
   "execution_count": 135,
   "metadata": {},
   "outputs": [
    {
     "name": "stdout",
     "output_type": "stream",
     "text": [
      "0.275147928994 0.336337151439 0.268172194778 0.109847456707 0.0104952680817\n"
     ]
    }
   ],
   "source": [
    "# Proportion in each 'age_group'\n",
    "p_young = df[df['age_group'] == 'young'].count()[0]/(df.count()[0])\n",
    "p_adult = df[df['age_group'] == 'adult'].count()[0]/(df.count()[0])\n",
    "p_middle_aged = df[df['age_group'] == 'middle_aged'].count()[0]/(df.count()[0])\n",
    "p_senior = df[df['age_group'] == 'senior'].count()[0]/(df.count()[0])\n",
    "p_elderly = df[df['age_group'] == 'elderly'].count()[0]/(df.count()[0])\n",
    "print(p_young, p_adult, p_middle_aged, p_senior, p_elderly)"
   ]
  },
  {
   "cell_type": "code",
   "execution_count": 136,
   "metadata": {
    "scrolled": true
   },
   "outputs": [
    {
     "data": {
      "image/png": "[encoded data removed]",
      "text/plain": [
       "<matplotlib.figure.Figure at 0x121c6cd68>"
      ]
     },
     "metadata": {},
     "output_type": "display_data"
    }
   ],
   "source": [
    "# Pie chart of proportion in each 'age_group'\n",
    "labels = ['Young: Age 0-18', 'Adult: Age 19-44', 'Middle Aged: Age 45-64', 'Senior: Age 65-84', 'Elderly: Age 85 and Up']\n",
    "sizes = [p_young, p_adult, p_middle_aged, p_senior, p_elderly]\n",
    "colors = ['red', 'orange', 'yellow', 'green', 'blue']\n",
    "patches, texts = plt.pie(sizes, colors=colors, startangle=90)\n",
    "plt.legend(patches, labels, loc=\"best\")\n",
    "plt.title('Proportion of Appointments \\n by Patients in Each Age Group')\n",
    "# Set aspect ratio to be equal so that pie is drawn as a circle.\n",
    "plt.axis('equal')\n",
    "plt.tight_layout()\n",
    "plt.show()"
   ]
  },
  {
   "cell_type": "markdown",
   "metadata": {},
   "source": [
    "The pie chart above shows the proportion of appointments made by patients in each age group. Three age groups make up a comparatively large amount of all appointments: \"Young\", \"Adult\", and \"Middle Aged.\" The age groups \"Senior\" and \"Elderly\" account for a small percentage, only 12%, of all appointments."
   ]
  },
  {
   "cell_type": "code",
   "execution_count": 137,
   "metadata": {},
   "outputs": [
    {
     "data": {
      "text/html": [
       "<div>\n",
       "<style>\n",
       "    .dataframe thead tr:only-child th {\n",
       "        text-align: right;\n",
       "    }\n",
       "\n",
       "    .dataframe thead th {\n",
       "        text-align: left;\n",
       "    }\n",
       "\n",
       "    .dataframe tbody tr th {\n",
       "        vertical-align: top;\n",
       "    }\n",
       "</style>\n",
       "<table border=\"1\" class=\"dataframe\">\n",
       "  <thead>\n",
       "    <tr style=\"text-align: right;\">\n",
       "      <th></th>\n",
       "      <th>appointment_id</th>\n",
       "      <th>neighborhood</th>\n",
       "      <th>scholarship</th>\n",
       "      <th>no_show</th>\n",
       "      <th>existing_condition</th>\n",
       "      <th>age_group</th>\n",
       "    </tr>\n",
       "  </thead>\n",
       "  <tbody>\n",
       "    <tr>\n",
       "      <th>0</th>\n",
       "      <td>5642903</td>\n",
       "      <td>jardim da penha</td>\n",
       "      <td>0</td>\n",
       "      <td>1</td>\n",
       "      <td>1</td>\n",
       "      <td>middle_aged</td>\n",
       "    </tr>\n",
       "    <tr>\n",
       "      <th>1</th>\n",
       "      <td>5642503</td>\n",
       "      <td>jardim da penha</td>\n",
       "      <td>0</td>\n",
       "      <td>1</td>\n",
       "      <td>0</td>\n",
       "      <td>middle_aged</td>\n",
       "    </tr>\n",
       "    <tr>\n",
       "      <th>2</th>\n",
       "      <td>5642549</td>\n",
       "      <td>mata da praia</td>\n",
       "      <td>0</td>\n",
       "      <td>1</td>\n",
       "      <td>0</td>\n",
       "      <td>middle_aged</td>\n",
       "    </tr>\n",
       "    <tr>\n",
       "      <th>3</th>\n",
       "      <td>5642828</td>\n",
       "      <td>pontal de camburi</td>\n",
       "      <td>0</td>\n",
       "      <td>1</td>\n",
       "      <td>0</td>\n",
       "      <td>young</td>\n",
       "    </tr>\n",
       "    <tr>\n",
       "      <th>4</th>\n",
       "      <td>5642494</td>\n",
       "      <td>jardim da penha</td>\n",
       "      <td>0</td>\n",
       "      <td>1</td>\n",
       "      <td>1</td>\n",
       "      <td>middle_aged</td>\n",
       "    </tr>\n",
       "  </tbody>\n",
       "</table>\n",
       "</div>"
      ],
      "text/plain": [
       "   appointment_id       neighborhood  scholarship  no_show  \\\n",
       "0         5642903    jardim da penha            0        1   \n",
       "1         5642503    jardim da penha            0        1   \n",
       "2         5642549      mata da praia            0        1   \n",
       "3         5642828  pontal de camburi            0        1   \n",
       "4         5642494    jardim da penha            0        1   \n",
       "\n",
       "   existing_condition    age_group  \n",
       "0                   1  middle_aged  \n",
       "1                   0  middle_aged  \n",
       "2                   0  middle_aged  \n",
       "3                   0        young  \n",
       "4                   1  middle_aged  "
      ]
     },
     "execution_count": 137,
     "metadata": {},
     "output_type": "execute_result"
    }
   ],
   "source": [
    "# Drop age column\n",
    "df = df.drop(['age'], axis = 1)\n",
    "df.head()"
   ]
  },
  {
   "cell_type": "markdown",
   "metadata": {},
   "source": [
    "Data cleaning is now complete. To clarify, neighborhood reflects the neighborhood in which a hospital is located, not necessarily the hospital's name. Efforts have been made to clarify this distinction throughout this investigation."
   ]
  },
  {
   "cell_type": "markdown",
   "metadata": {},
   "source": [
    "<a id='eda'></a>\n",
    "## Exploratory Data Analysis\n",
    "\n",
    "The purpose of the analysis is to understand what patient characterstics are commonly associated with a \"no-show\" appointment, which is when an appointment is scheduled and the patient does not arrive for the appointment. Once these characteristics have been explored, the neighborhoods, i.e. hospitals, most frequntend by these patients will be analyzed. \n",
    "\n",
    "### What group of patients are most commonly \"No-Shows,\" i.e. miss the most appointments?\n",
    "The dependent variable considered is column 'no_show' (1 if a patient is not a 'no_show', i.e. the patient arrives for the appointment, and 0 if a patients is a 'no_show', i.e. the patient does not arrive for the appointment). The independent variables to be considered are column 'age-group' ('young', 'adult', 'middle_aged', 'senior', and 'elderly'), 'scholarship' (1 if a patient receives 'scholarship' and 0 if a patient does not receive 'schlarship'), and 'existing_condition' (1 if a patient has any of 'hypertension','diabetes','alcoholism', 'handicap' and 0 if a patient does not have any of those \"Existing Conditions\"). The intent of the analysis is to understand what group of patients is most commonly associated with a 'no-show' appointment."
   ]
  },
  {
   "cell_type": "code",
   "execution_count": 138,
   "metadata": {},
   "outputs": [
    {
     "data": {
      "text/plain": [
       "22319"
      ]
     },
     "execution_count": 138,
     "metadata": {},
     "output_type": "execute_result"
    }
   ],
   "source": [
    "# Number of appointments that are 'no_show', i.e. 0 in column 'no_show'\n",
    "df[df['no_show'] == 0].count()[0]"
   ]
  },
  {
   "cell_type": "code",
   "execution_count": 139,
   "metadata": {
    "scrolled": true
   },
   "outputs": [
    {
     "name": "stdout",
     "output_type": "stream",
     "text": [
      "0.20193438647919948\n"
     ]
    }
   ],
   "source": [
    "# Proportion of appointments that are 'no_show', i.e. 0 in column 'no_show'\n",
    "p_all_no_show = 1 - df['no_show'].mean()\n",
    "print(p_all_no_show)"
   ]
  },
  {
   "cell_type": "code",
   "execution_count": 140,
   "metadata": {},
   "outputs": [
    {
     "data": {
      "image/png": "[encoded data removed]",
      "text/plain": [
       "<matplotlib.figure.Figure at 0x121183f28>"
      ]
     },
     "metadata": {},
     "output_type": "display_data"
    }
   ],
   "source": [
    "# Pie chart of proportion of appointments that are 'no_show', i.e. 0 in column 'no_show'\n",
    "labels = ['No-Show', 'Show']\n",
    "sizes = [p_all_no_show, (1-p_all_no_show)]\n",
    "colors = ['red', 'orange']\n",
    "patches, texts = plt.pie(sizes, colors=colors, startangle=90)\n",
    "plt.legend(patches, labels, loc=\"best\")\n",
    "plt.title(\"Proportion of Appointments that Are 'no_show'\")\n",
    "# Set aspect ratio to be equal so that pie is drawn as a circle.\n",
    "plt.axis('equal')\n",
    "plt.tight_layout()\n",
    "plt.show()"
   ]
  },
  {
   "cell_type": "markdown",
   "metadata": {},
   "source": [
    "22,319 appointments were missed, representing 21% of appointments. This value is encouraging as the vast majority of appointments are kept."
   ]
  },
  {
   "cell_type": "code",
   "execution_count": 141,
   "metadata": {},
   "outputs": [
    {
     "data": {
      "text/plain": [
       "array([0])"
      ]
     },
     "execution_count": 141,
     "metadata": {},
     "output_type": "execute_result"
    }
   ],
   "source": [
    "# Create a new dataframe named 'df_no_show' containing only data on 'no-show' appointments\n",
    "df_no_show = df[df['no_show'] == 0]\n",
    "# Verify column 'no_show' in 'df_no_show' includes only 0\n",
    "df_no_show['no_show'].unique()"
   ]
  },
  {
   "cell_type": "markdown",
   "metadata": {},
   "source": [
    "With the creation of the new dataframe 'df_no_show', characteristics of a \"no-show\" patient can be analyzed.\n",
    "\n",
    "First, what age-group has the laregest number of \"no-show\" patients?"
   ]
  },
  {
   "cell_type": "code",
   "execution_count": 142,
   "metadata": {},
   "outputs": [
    {
     "name": "stdout",
     "output_type": "stream",
     "text": [
      "6741 8441 5071 1871 195\n"
     ]
    }
   ],
   "source": [
    "# Count \"no-shows\" by 'age_group'\n",
    "c_young_no_show = df_no_show[df_no_show['age_group'] == 'young'].count()[0]\n",
    "c_adult_no_show = df_no_show[df_no_show['age_group'] == 'adult'].count()[0]\n",
    "c_middle_aged_no_show = df_no_show[df_no_show['age_group'] == 'middle_aged'].count()[0]\n",
    "c_senior_no_show = df_no_show[df_no_show['age_group'] == 'senior'].count()[0]\n",
    "c_elderly_no_show = df_no_show[df_no_show['age_group'] == 'elderly'].count()[0]\n",
    "print(c_young_no_show, c_adult_no_show, c_middle_aged_no_show, c_senior_no_show, c_elderly_no_show)"
   ]
  },
  {
   "cell_type": "code",
   "execution_count": 143,
   "metadata": {},
   "outputs": [
    {
     "data": {
      "image/png": "[encoded data removed]",
      "text/plain": [
       "<matplotlib.figure.Figure at 0x121c91780>"
      ]
     },
     "metadata": {},
     "output_type": "display_data"
    }
   ],
   "source": [
    "# Bar chart of results from count of \"no-shows\" by 'age_group'\n",
    "c_a_locations = [1, 2, 3, 4, 5]\n",
    "c_a_heights = [c_young_no_show, c_adult_no_show, c_middle_aged_no_show, c_senior_no_show, c_elderly_no_show]\n",
    "c_a_labels = ['Young', 'Adult', 'Middle Aged', 'Senior', 'Elderly']\n",
    "plt.bar(c_a_locations, c_a_heights, tick_label=c_a_labels)\n",
    "plt.title('Number of Missed Appointments by age-group')\n",
    "plt.xlabel('age-group')\n",
    "plt.ylabel('Number of Missed Appointments');"
   ]
  },
  {
   "cell_type": "code",
   "execution_count": 144,
   "metadata": {},
   "outputs": [
    {
     "data": {
      "text/plain": [
       "8246"
      ]
     },
     "execution_count": 144,
     "metadata": {},
     "output_type": "execute_result"
    }
   ],
   "source": [
    "# Range of count of \"no-shows\"\n",
    "max(c_young_no_show, c_adult_no_show, c_middle_aged_no_show, c_senior_no_show, c_elderly_no_show) - min(c_young_no_show, c_adult_no_show, c_middle_aged_no_show, c_senior_no_show, c_elderly_no_show)"
   ]
  },
  {
   "cell_type": "markdown",
   "metadata": {},
   "source": [
    "According to these preliminary results, the \"Young\" and \"Adult\" age-groups missed the most appointments. After the \"Adult\" age-group, as age-groups increase in age the number of missed appointments decreases. The range of values is 8,246 appointments, with Adults missing the most and Elderly missing the fewest.\n",
    "\n",
    "In order to understand if the number of missed appointments relates to the number of appointments overall, the number of missed appointments by age-group will be compared to the total number of appointments by age-group."
   ]
  },
  {
   "cell_type": "code",
   "execution_count": 145,
   "metadata": {},
   "outputs": [
    {
     "name": "stdout",
     "output_type": "stream",
     "text": [
      "0.221663213969 0.227067305106 0.171086369771 0.154105922082 0.168103448276\n"
     ]
    }
   ],
   "source": [
    "# Proportion of 'no-shows' by 'age_group' when compared to the total number of appointments by the age-group\n",
    "p_young_no_show = df_no_show[df_no_show['age_group'] == 'young'].count()[0]/(df[df['age_group'] == 'young'].count()[0])\n",
    "p_adult_no_show = df_no_show[df_no_show['age_group'] == 'adult'].count()[0]/(df[df['age_group'] == 'adult'].count()[0])\n",
    "p_middle_aged_no_show = df_no_show[df_no_show['age_group'] == 'middle_aged'].count()[0]/(df[df['age_group'] == 'middle_aged'].count()[0])\n",
    "p_senior_no_show = df_no_show[df_no_show['age_group'] == 'senior'].count()[0]/(df[df['age_group'] == 'senior'].count()[0])\n",
    "p_elderly_no_show = df_no_show[df_no_show['age_group'] == 'elderly'].count()[0]/(df[df['age_group'] == 'elderly'].count()[0])\n",
    "print(p_young_no_show, p_adult_no_show, p_middle_aged_no_show, p_senior_no_show, p_elderly_no_show)"
   ]
  },
  {
   "cell_type": "code",
   "execution_count": 146,
   "metadata": {},
   "outputs": [
    {
     "data": {
      "image/png": "[encoded data removed]",
      "text/plain": [
       "<matplotlib.figure.Figure at 0x121b82b38>"
      ]
     },
     "metadata": {},
     "output_type": "display_data"
    }
   ],
   "source": [
    "# Bar chart of results from proportion of \"no-shows\" by 'age_group' when compared to the total number of \n",
    "# appointments by the age-group\n",
    "p_a_locations = [1, 2, 3, 4, 5,6]\n",
    "p_a_heights = [p_all_no_show, p_young_no_show, p_adult_no_show, p_middle_aged_no_show, p_senior_no_show, p_elderly_no_show]\n",
    "p_a_labels = ['All','Young', 'Adult', 'Middle Aged', 'Senior', 'Elderly']\n",
    "plt.bar(p_a_locations, p_a_heights, tick_label=p_a_labels)\n",
    "plt.title('Proportion of Patients \\n Who Missed Appointments by age-group')\n",
    "plt.xlabel('age-group')\n",
    "plt.ylabel('Proportion of Patients');"
   ]
  },
  {
   "cell_type": "code",
   "execution_count": 147,
   "metadata": {
    "collapsed": true
   },
   "outputs": [],
   "source": [
    "# Create array of the difference between proportion of \"no-shows\" by 'age_group' when compared to the total number of \n",
    "# appointments by the age-group and proportion of all appointments that are 'no_show', i.e. 0 in column 'no_show'\n",
    "p_a_heights_difference = np.array(p_a_heights) - p_all_no_show"
   ]
  },
  {
   "cell_type": "code",
   "execution_count": 148,
   "metadata": {
    "scrolled": true
   },
   "outputs": [
    {
     "data": {
      "text/html": [
       "<div>\n",
       "<style>\n",
       "    .dataframe thead tr:only-child th {\n",
       "        text-align: right;\n",
       "    }\n",
       "\n",
       "    .dataframe thead th {\n",
       "        text-align: left;\n",
       "    }\n",
       "\n",
       "    .dataframe tbody tr th {\n",
       "        vertical-align: top;\n",
       "    }\n",
       "</style>\n",
       "<table border=\"1\" class=\"dataframe\">\n",
       "  <thead>\n",
       "    <tr style=\"text-align: right;\">\n",
       "      <th></th>\n",
       "      <th>p_diff_age_group</th>\n",
       "    </tr>\n",
       "  </thead>\n",
       "  <tbody>\n",
       "    <tr>\n",
       "      <th>All</th>\n",
       "      <td>0.000000</td>\n",
       "    </tr>\n",
       "    <tr>\n",
       "      <th>Young</th>\n",
       "      <td>0.019729</td>\n",
       "    </tr>\n",
       "    <tr>\n",
       "      <th>Adult</th>\n",
       "      <td>0.025133</td>\n",
       "    </tr>\n",
       "    <tr>\n",
       "      <th>Middle Aged</th>\n",
       "      <td>-0.030848</td>\n",
       "    </tr>\n",
       "    <tr>\n",
       "      <th>Senior</th>\n",
       "      <td>-0.047828</td>\n",
       "    </tr>\n",
       "    <tr>\n",
       "      <th>Elderly</th>\n",
       "      <td>-0.033831</td>\n",
       "    </tr>\n",
       "  </tbody>\n",
       "</table>\n",
       "</div>"
      ],
      "text/plain": [
       "             p_diff_age_group\n",
       "All                  0.000000\n",
       "Young                0.019729\n",
       "Adult                0.025133\n",
       "Middle Aged         -0.030848\n",
       "Senior              -0.047828\n",
       "Elderly             -0.033831"
      ]
     },
     "execution_count": 148,
     "metadata": {},
     "output_type": "execute_result"
    }
   ],
   "source": [
    "# Create df to display 'p_a_heights_difference'\n",
    "df_p_a_heights = pd.DataFrame(data = p_a_heights_difference, index = p_a_labels, columns = ['p_diff_age_group'])\n",
    "df_p_a_heights"
   ]
  },
  {
   "cell_type": "code",
   "execution_count": 149,
   "metadata": {},
   "outputs": [
    {
     "data": {
      "text/plain": [
       "0.072961383023518234"
      ]
     },
     "execution_count": 149,
     "metadata": {},
     "output_type": "execute_result"
    }
   ],
   "source": [
    "# Range of proportion differences of 'no-shows'\n",
    "df_p_a_heights['p_diff_age_group'].max() - df_p_a_heights['p_diff_age_group'].min()"
   ]
  },
  {
   "cell_type": "markdown",
   "metadata": {},
   "source": [
    "The analysis of the number of \"no-shows\" by age-group when compared to the total number of appointments by the respective age-group agrees with the earlier results in that the \"Adult\" age-groups misses the most appointments proportionally.\n",
    "\n",
    "The range for the difference between the mean of all \"no-show\" appointments and the mean of each age-group is 7.29%. Furthermore, the \"Adult\" age-group's proportion of \"no-show\" appointments is 2.5% greater than the average for all appointments. In contrast, the \"Senior\" age-group had the lowest proportion of \"no-show\" appointments: 4.78% lower than the average of all appointments.\n",
    "\n",
    "Preliminary conclusions imply the \"Adult\" age-group, ages 19-44,  has the most \"no-show\" appointments.\n",
    "\n",
    "The next question is which group has more \"no-show\" appointments, patients who receive \"Scholarship\" or patients who do not receive \"Scholarship\"?"
   ]
  },
  {
   "cell_type": "code",
   "execution_count": 150,
   "metadata": {},
   "outputs": [
    {
     "name": "stdout",
     "output_type": "stream",
     "text": [
      "2578 19741\n"
     ]
    }
   ],
   "source": [
    "# Count \"no-shows\" by 'scholarship'\n",
    "c_s_no_show = df_no_show[df_no_show['scholarship'] == 1].count()[0]\n",
    "c_no_s_no_show = df_no_show[df_no_show['scholarship'] == 0].count()[0]\n",
    "print(c_s_no_show, c_no_s_no_show)"
   ]
  },
  {
   "cell_type": "code",
   "execution_count": 151,
   "metadata": {
    "scrolled": true
   },
   "outputs": [
    {
     "data": {
      "image/png": "[encoded data removed]",
      "text/plain": [
       "<matplotlib.figure.Figure at 0x121c2b0f0>"
      ]
     },
     "metadata": {},
     "output_type": "display_data"
    }
   ],
   "source": [
    "# Bar chart of results from count of \"no-shows\" by 'scholarship'\n",
    "c_s_locations = [1, 2]\n",
    "c_s_heights = [c_s_no_show, c_no_s_no_show]\n",
    "c_s_labels = ['Scholarship', 'Non-Scholarship']\n",
    "plt.bar(c_s_locations, c_s_heights, tick_label=c_s_labels)\n",
    "plt.title('Number of Missed Appointments \\n by\"Scholarship\"Status')\n",
    "plt.xlabel('Scholarship Status')\n",
    "plt.ylabel('Number of Missed Appointments');"
   ]
  },
  {
   "cell_type": "markdown",
   "metadata": {},
   "source": [
    "According to these preliminary results, the \"Non-Scholarship\" group missed the most appointments.\n",
    "\n",
    "In order to understand if the number of missed appointments relates to the number of appointments overall, the number of missed appointments by\"Scholarship\"status will be compared to the total number of appointments by\"Scholarship\"status."
   ]
  },
  {
   "cell_type": "code",
   "execution_count": 152,
   "metadata": {},
   "outputs": [
    {
     "name": "stdout",
     "output_type": "stream",
     "text": [
      "0.237363042077 0.19807354638\n"
     ]
    }
   ],
   "source": [
    "# Proportion of 'no-shows' by 'scholarship' when compared to the total number of appointments by the 'scholarship'\n",
    "# sub-group\n",
    "p_s_no_show = df_no_show[df_no_show['scholarship'] == 1].count()[0]/(df[df['scholarship'] == 1].count()[0])\n",
    "p_no_s_no_show = df_no_show[df_no_show['scholarship'] == 0].count()[0]/(df[df['scholarship'] == 0].count()[0])\n",
    "print(p_s_no_show, p_no_s_no_show)"
   ]
  },
  {
   "cell_type": "code",
   "execution_count": 153,
   "metadata": {},
   "outputs": [
    {
     "data": {
      "image/png": "[encoded data removed]",
      "text/plain": [
       "<matplotlib.figure.Figure at 0x121092e80>"
      ]
     },
     "metadata": {},
     "output_type": "display_data"
    }
   ],
   "source": [
    "# Bar chart of results from proportion of \"no-shows\" by 'scholarship' when compared to the total number of \n",
    "# appointments by\"Scholarship\"status\n",
    "p_s_locations = [1, 2,3]\n",
    "p_s_heights = [p_all_no_show, p_s_no_show, p_no_s_no_show]\n",
    "p_s_labels = ['All','Scholarship', 'Non-Scholarship']\n",
    "plt.bar(p_s_locations, p_s_heights, tick_label=p_s_labels)\n",
    "plt.title('Proportion of Patients \\n Who Missed Appointments by\"Scholarship\"Status')\n",
    "plt.xlabel('Scholarship Status')\n",
    "plt.ylabel('Proportion of Patients');"
   ]
  },
  {
   "cell_type": "code",
   "execution_count": 154,
   "metadata": {
    "collapsed": true
   },
   "outputs": [],
   "source": [
    "# Create array of the difference between proportion of 'no-shows' by 'scholarhsip' when compared to the total number of \n",
    "# appointments by the\"Scholarship\"and proportion of all appointments that are 'no_show', i.e. 0 in column 'no_show'\n",
    "p_s_heights_difference = np.array(p_s_heights) - p_all_no_show"
   ]
  },
  {
   "cell_type": "code",
   "execution_count": 155,
   "metadata": {},
   "outputs": [
    {
     "data": {
      "text/html": [
       "<div>\n",
       "<style>\n",
       "    .dataframe thead tr:only-child th {\n",
       "        text-align: right;\n",
       "    }\n",
       "\n",
       "    .dataframe thead th {\n",
       "        text-align: left;\n",
       "    }\n",
       "\n",
       "    .dataframe tbody tr th {\n",
       "        vertical-align: top;\n",
       "    }\n",
       "</style>\n",
       "<table border=\"1\" class=\"dataframe\">\n",
       "  <thead>\n",
       "    <tr style=\"text-align: right;\">\n",
       "      <th></th>\n",
       "      <th>p_diff_scholarship</th>\n",
       "    </tr>\n",
       "  </thead>\n",
       "  <tbody>\n",
       "    <tr>\n",
       "      <th>All</th>\n",
       "      <td>0.000000</td>\n",
       "    </tr>\n",
       "    <tr>\n",
       "      <th>Scholarship</th>\n",
       "      <td>0.035429</td>\n",
       "    </tr>\n",
       "    <tr>\n",
       "      <th>Non-Scholarship</th>\n",
       "      <td>-0.003861</td>\n",
       "    </tr>\n",
       "  </tbody>\n",
       "</table>\n",
       "</div>"
      ],
      "text/plain": [
       "                 p_diff_scholarship\n",
       "All                        0.000000\n",
       "Scholarship                0.035429\n",
       "Non-Scholarship           -0.003861"
      ]
     },
     "execution_count": 155,
     "metadata": {},
     "output_type": "execute_result"
    }
   ],
   "source": [
    "# Create df to display 'p_s_heights_difference'\n",
    "df_p_s_heights = pd.DataFrame(data = p_s_heights_difference, index = p_s_labels, columns = ['p_diff_scholarship'])\n",
    "df_p_s_heights"
   ]
  },
  {
   "cell_type": "code",
   "execution_count": 156,
   "metadata": {},
   "outputs": [
    {
     "data": {
      "text/plain": [
       "0.039289495696782556"
      ]
     },
     "execution_count": 156,
     "metadata": {},
     "output_type": "execute_result"
    }
   ],
   "source": [
    "# Range of proportion differences of \"no-shows\"\n",
    "df_p_s_heights['p_diff_scholarship'].max() - df_p_s_heights['p_diff_scholarship'].min()"
   ]
  },
  {
   "cell_type": "markdown",
   "metadata": {},
   "source": [
    "The analysis of the number of \"no-shows\" by \"Scholarship\" status when compared to the total number of appointments by the respective \"Scholarship\" status contrasts with the earlier results in that the \"Scholarship\" group misses the most appointments proportionally.\n",
    "\n",
    "The range for the difference between the mean of all \"no-show\" appointments and the mean of each \"Scholarship\" group is 3.93%. Furthermore, the \"Scholarship\" group's proportion of \"no-show\" appointments is 3.54% greater than the average for all appointments. In contrast, the 'Non-scholarship' group's proportion of \"no-show\" appointments is 0.38% lower than the average of all appointments.\n",
    "\n",
    "Preliminary conclusions imply the 'Scholarship' group proportionally has more \"no-show\" appointments.\n",
    "\n",
    "The next question is which group has more \"no-show\" appointments, patients with \"Existing Conditions\" or patients without \"Existing Conditions\"?"
   ]
  },
  {
   "cell_type": "code",
   "execution_count": 157,
   "metadata": {},
   "outputs": [
    {
     "name": "stdout",
     "output_type": "stream",
     "text": [
      "4716 17603\n"
     ]
    }
   ],
   "source": [
    "# Count 'no-shows' by 'existing_condition'\n",
    "c_e_no_show = df_no_show[df_no_show['existing_condition'] == 1].count()[0]\n",
    "c_no_e_no_show = df_no_show[df_no_show['existing_condition'] == 0].count()[0]\n",
    "print(c_e_no_show, c_no_e_no_show)"
   ]
  },
  {
   "cell_type": "code",
   "execution_count": 158,
   "metadata": {},
   "outputs": [
    {
     "data": {
      "image/png": "[encoded data removed]",
      "text/plain": [
       "<matplotlib.figure.Figure at 0x121b98358>"
      ]
     },
     "metadata": {},
     "output_type": "display_data"
    }
   ],
   "source": [
    "# Bar chart of results from count of 'no-shows' by 'existing_condition'\n",
    "c_e_locations = [1, 2]\n",
    "c_e_heights = [c_e_no_show, c_no_e_no_show]\n",
    "c_e_labels = ['Existing Condition', 'No Existing Condition']\n",
    "plt.bar(c_e_locations, c_e_heights, tick_label=c_e_labels)\n",
    "plt.title('Number of Missed Appointments by Existing Condition')\n",
    "plt.xlabel('Existing Condition')\n",
    "plt.ylabel('Number of Missed Appointments');"
   ]
  },
  {
   "cell_type": "markdown",
   "metadata": {},
   "source": [
    "According to these preliminary results, the \"No Existing Condition\" group missed the most appointments.\n",
    "\n",
    "In order to understand if the number of missed appointments relates to the number of appointments overall, the number of missed appointments by \"Existing Condition\" will be compared to the total number of appointments by \"Existing Condition\"."
   ]
  },
  {
   "cell_type": "code",
   "execution_count": 159,
   "metadata": {},
   "outputs": [
    {
     "name": "stdout",
     "output_type": "stream",
     "text": [
      "0.178555202181 0.20927550705\n"
     ]
    }
   ],
   "source": [
    "# Proportion of 'no-shows' by 'existing_condition' when compared to the total number of appointments \n",
    "# by patients with an 'existing_condition'\n",
    "p_e_no_show = df_no_show[df_no_show['existing_condition'] == 1].count()[0]/(df[df['existing_condition'] == 1].count()[0])\n",
    "p_no_e_no_show = df_no_show[df_no_show['existing_condition'] == 0].count()[0]/(df[df['existing_condition'] == 0].count()[0])\n",
    "print(p_e_no_show, p_no_e_no_show)"
   ]
  },
  {
   "cell_type": "code",
   "execution_count": 160,
   "metadata": {},
   "outputs": [
    {
     "data": {
      "image/png": "[encoded data removed]",
      "text/plain": [
       "<matplotlib.figure.Figure at 0x121a69828>"
      ]
     },
     "metadata": {},
     "output_type": "display_data"
    }
   ],
   "source": [
    "# Bar chart of results from proportion of 'no-shows' by 'existing_condition' when compared to the total number of \n",
    "# appointments by patients with an 'existing_condition'\n",
    "p_e_locations = [1, 2,3]\n",
    "p_e_heights = [p_all_no_show, p_e_no_show, p_no_e_no_show]\n",
    "p_e_labels = ['All','Existing Condition', 'No Existing Condition']\n",
    "plt.bar(p_e_locations, p_e_heights, tick_label=p_e_labels)\n",
    "plt.title('Proportion of Missed Appointments \\n by Existing Condition')\n",
    "plt.xlabel('Existing Condition')\n",
    "plt.ylabel('Proportion of Missed Appointments');"
   ]
  },
  {
   "cell_type": "code",
   "execution_count": 161,
   "metadata": {
    "collapsed": true
   },
   "outputs": [],
   "source": [
    "# Create array of the difference between proportion of \"no-shows\" by 'existing_condition' when compared to the \n",
    "# total number of appointments by patients in each 'existing_condition' group and proportion of all appointments\n",
    "# that are 'no_show', i.e. 0 in column 'no_show'\n",
    "p_e_heights_difference = np.array(p_e_heights) - p_all_no_show"
   ]
  },
  {
   "cell_type": "code",
   "execution_count": 162,
   "metadata": {},
   "outputs": [
    {
     "data": {
      "text/html": [
       "<div>\n",
       "<style>\n",
       "    .dataframe thead tr:only-child th {\n",
       "        text-align: right;\n",
       "    }\n",
       "\n",
       "    .dataframe thead th {\n",
       "        text-align: left;\n",
       "    }\n",
       "\n",
       "    .dataframe tbody tr th {\n",
       "        vertical-align: top;\n",
       "    }\n",
       "</style>\n",
       "<table border=\"1\" class=\"dataframe\">\n",
       "  <thead>\n",
       "    <tr style=\"text-align: right;\">\n",
       "      <th></th>\n",
       "      <th>p_diff_existing_condition</th>\n",
       "    </tr>\n",
       "  </thead>\n",
       "  <tbody>\n",
       "    <tr>\n",
       "      <th>All</th>\n",
       "      <td>0.000000</td>\n",
       "    </tr>\n",
       "    <tr>\n",
       "      <th>Existing Condition</th>\n",
       "      <td>-0.023379</td>\n",
       "    </tr>\n",
       "    <tr>\n",
       "      <th>No Existing Condition</th>\n",
       "      <td>0.007341</td>\n",
       "    </tr>\n",
       "  </tbody>\n",
       "</table>\n",
       "</div>"
      ],
      "text/plain": [
       "                       p_diff_existing_condition\n",
       "All                                     0.000000\n",
       "Existing Condition                     -0.023379\n",
       "No Existing Condition                   0.007341"
      ]
     },
     "execution_count": 162,
     "metadata": {},
     "output_type": "execute_result"
    }
   ],
   "source": [
    "# Create df to display 'p_e_heights_difference'\n",
    "df_p_e_heights = pd.DataFrame(data = p_e_heights_difference, index = p_e_labels, columns = ['p_diff_existing_condition'])\n",
    "df_p_e_heights"
   ]
  },
  {
   "cell_type": "code",
   "execution_count": 163,
   "metadata": {
    "scrolled": true
   },
   "outputs": [
    {
     "data": {
      "text/plain": [
       "0.030720304869129106"
      ]
     },
     "execution_count": 163,
     "metadata": {},
     "output_type": "execute_result"
    }
   ],
   "source": [
    "# Range of proportion differences of \"no-shows\"\n",
    "df_p_e_heights['p_diff_existing_condition'].max() - df_p_e_heights['p_diff_existing_condition'].min()"
   ]
  },
  {
   "cell_type": "markdown",
   "metadata": {},
   "source": [
    "The analysis of the number of \"no-shows\" by patients' \"Existing Condition\" group when compared to the total number of appointments by the respective patients agrees with the earlier results in that the patients with an exisiting condition miss the most appointments proportionally.\n",
    "\n",
    "The range for the difference between the mean of all \"no-show\" appointments and the mean of each group of patients is 3.07%. Furthermore, the \"No Existing Condition\" group's proportion of \"no-show\" appointments is 0.07% greater than the average for all appointments. In contrast, the \"Existing Condition\" group's proportion of \"no-show\" appointments is 2.34% lower than the average of all appointments.\n",
    "\n",
    "Preliminary conclusions imply the \"No Existing Condition\" group proportionally has more \"no-show\" appointments.\n",
    "\n",
    "This analysis will be used for the next section to see which hospital receives the most of each group with the highest proportion of \"no-show\" appointments: Adults, Scholarship, and No Exisiting Condition."
   ]
  },
  {
   "cell_type": "markdown",
   "metadata": {},
   "source": [
    "### Which hospital sees the largest proportion of the group of patients who are most commonly \"No-Shows,\" i.e. miss the most appointments?\n",
    "With the initial analysis is complete, the above indpendent variables will be grouped by neighborhood, the next dependent variable to be analyzed. Grouping by neighborhood will create profiles for each neighborhood based on how many patients visit each neigborhood who are in the \"Adult\" age-group, are in the \"Scholarship\" group, and are in the \"No Existing Condition\" group.\n",
    "\n",
    "First, the neighborhood which receives the most appointments from patients in each group will be found. This data will be compared to the proportion of the neighborhoods' total number of appointments.\n",
    "\n",
    "Then the neighborhood which receives the most patients from all three groups combined will be found. Again, this data will be compared to the proportion of the neighborhoods' total number of appointments."
   ]
  },
  {
   "cell_type": "code",
   "execution_count": 164,
   "metadata": {
    "collapsed": true
   },
   "outputs": [],
   "source": [
    "# Create dataframe of all data grouped by 'neighborhood'\n",
    "df_neighborhood = df.groupby(['neighborhood']).count()"
   ]
  },
  {
   "cell_type": "code",
   "execution_count": 165,
   "metadata": {
    "collapsed": true
   },
   "outputs": [],
   "source": [
    "# Drop all columns except 'appointment_id' as count for total number of appointments per 'neighborhood'\n",
    "df_neighborhood = df_neighborhood.drop(['scholarship', 'no_show', 'existing_condition', 'age_group'], axis=1)"
   ]
  },
  {
   "cell_type": "code",
   "execution_count": 166,
   "metadata": {
    "collapsed": true,
    "scrolled": true
   },
   "outputs": [],
   "source": [
    "# Rename 'appointment_id' column to 'count_all_appointments'\n",
    "df_neighborhood = df_neighborhood.rename(index=str, columns={'appointment_id': 'count_all_appointments'})"
   ]
  },
  {
   "cell_type": "code",
   "execution_count": 167,
   "metadata": {
    "collapsed": true
   },
   "outputs": [],
   "source": [
    "# Calculate the mean of 'count_all_appointments' in each 'neighborhood'\n",
    "neighborhood_m = df_neighborhood['count_all_appointments'].mean()"
   ]
  },
  {
   "cell_type": "code",
   "execution_count": 168,
   "metadata": {
    "collapsed": true
   },
   "outputs": [],
   "source": [
    "# Drop all rows in 'neighborhood' with a value in 'count_all_appointments' less than the mean\n",
    "df_neighborhood = df_neighborhood[df_neighborhood.count_all_appointments > neighborhood_m]"
   ]
  },
  {
   "cell_type": "code",
   "execution_count": 169,
   "metadata": {
    "scrolled": true
   },
   "outputs": [
    {
     "data": {
      "text/html": [
       "<div>\n",
       "<style>\n",
       "    .dataframe thead tr:only-child th {\n",
       "        text-align: right;\n",
       "    }\n",
       "\n",
       "    .dataframe thead th {\n",
       "        text-align: left;\n",
       "    }\n",
       "\n",
       "    .dataframe tbody tr th {\n",
       "        vertical-align: top;\n",
       "    }\n",
       "</style>\n",
       "<table border=\"1\" class=\"dataframe\">\n",
       "  <thead>\n",
       "    <tr style=\"text-align: right;\">\n",
       "      <th></th>\n",
       "      <th>count_all_appointments</th>\n",
       "    </tr>\n",
       "    <tr>\n",
       "      <th>neighborhood</th>\n",
       "      <th></th>\n",
       "    </tr>\n",
       "  </thead>\n",
       "  <tbody>\n",
       "    <tr>\n",
       "      <th>andorinhas</th>\n",
       "      <td>2262</td>\n",
       "    </tr>\n",
       "    <tr>\n",
       "      <th>bela vista</th>\n",
       "      <td>1907</td>\n",
       "    </tr>\n",
       "    <tr>\n",
       "      <th>bonfim</th>\n",
       "      <td>2773</td>\n",
       "    </tr>\n",
       "    <tr>\n",
       "      <th>caratoíra</th>\n",
       "      <td>2565</td>\n",
       "    </tr>\n",
       "    <tr>\n",
       "      <th>centro</th>\n",
       "      <td>3334</td>\n",
       "    </tr>\n",
       "  </tbody>\n",
       "</table>\n",
       "</div>"
      ],
      "text/plain": [
       "              count_all_appointments\n",
       "neighborhood                        \n",
       "andorinhas                      2262\n",
       "bela vista                      1907\n",
       "bonfim                          2773\n",
       "caratoíra                       2565\n",
       "centro                          3334"
      ]
     },
     "execution_count": 169,
     "metadata": {},
     "output_type": "execute_result"
    }
   ],
   "source": [
    "df_neighborhood.head()"
   ]
  },
  {
   "cell_type": "markdown",
   "metadata": {},
   "source": [
    "In order to focus the analysis on the largest neighborhoods, all nieghborhoods with fewer appointments than the mean are removed from the dataframe. Going forward, all caclulations will be based on this new dataframe which only includes neighborhoods with more appointments than the mean number of appointments in each neighborhood.\n",
    "\n",
    "The first independent variable to be analyzed is the \"Adult\" age-group."
   ]
  },
  {
   "cell_type": "code",
   "execution_count": 170,
   "metadata": {
    "collapsed": true
   },
   "outputs": [],
   "source": [
    "# Create dataframe with only 'adult' appointments in the 'age_group' column\n",
    "df_adult = df[df['age_group'] == 'adult']"
   ]
  },
  {
   "cell_type": "code",
   "execution_count": 171,
   "metadata": {
    "collapsed": true
   },
   "outputs": [],
   "source": [
    "# Drop all columns except 'neighborhood' and 'age_group'\n",
    "df_adult = df_adult.drop(['appointment_id', 'scholarship', 'no_show', 'existing_condition'], axis=1)"
   ]
  },
  {
   "cell_type": "code",
   "execution_count": 172,
   "metadata": {
    "collapsed": true
   },
   "outputs": [],
   "source": [
    "# Count of number of appointments by patients with 'adult' age-group for each neighborhood\n",
    "df_adult = df_adult.groupby(['neighborhood']).count().sort_values(by = 'age_group', ascending = False)"
   ]
  },
  {
   "cell_type": "code",
   "execution_count": 173,
   "metadata": {
    "collapsed": true
   },
   "outputs": [],
   "source": [
    "# Rename 'age_group' column to 'count_adult_appointments'\n",
    "df_adult = df_adult.rename(index=str, columns={'age_group': 'count_adult_appointments'})"
   ]
  },
  {
   "cell_type": "code",
   "execution_count": 174,
   "metadata": {
    "collapsed": true
   },
   "outputs": [],
   "source": [
    "# Add column 'count_all_appointments' to df_adult and drop all 'NaN' columns\n",
    "df_adult = df_adult.join(df_neighborhood).dropna(axis = 0)"
   ]
  },
  {
   "cell_type": "code",
   "execution_count": 175,
   "metadata": {
    "collapsed": true
   },
   "outputs": [],
   "source": [
    "# Rename df_adult to create dfc_adult for the count of 'adult'\n",
    "dfc_adult = df_adult"
   ]
  },
  {
   "cell_type": "code",
   "execution_count": 176,
   "metadata": {},
   "outputs": [
    {
     "data": {
      "text/html": [
       "<div>\n",
       "<style>\n",
       "    .dataframe thead tr:only-child th {\n",
       "        text-align: right;\n",
       "    }\n",
       "\n",
       "    .dataframe thead th {\n",
       "        text-align: left;\n",
       "    }\n",
       "\n",
       "    .dataframe tbody tr th {\n",
       "        vertical-align: top;\n",
       "    }\n",
       "</style>\n",
       "<table border=\"1\" class=\"dataframe\">\n",
       "  <thead>\n",
       "    <tr style=\"text-align: right;\">\n",
       "      <th></th>\n",
       "      <th>count_adult_appointments</th>\n",
       "      <th>count_all_appointments</th>\n",
       "    </tr>\n",
       "    <tr>\n",
       "      <th>neighborhood</th>\n",
       "      <th></th>\n",
       "      <th></th>\n",
       "    </tr>\n",
       "  </thead>\n",
       "  <tbody>\n",
       "    <tr>\n",
       "      <th>jardim camburi</th>\n",
       "      <td>2075</td>\n",
       "      <td>7717.0</td>\n",
       "    </tr>\n",
       "    <tr>\n",
       "      <th>maria ortiz</th>\n",
       "      <td>1924</td>\n",
       "      <td>5805.0</td>\n",
       "    </tr>\n",
       "    <tr>\n",
       "      <th>resistência</th>\n",
       "      <td>1711</td>\n",
       "      <td>4431.0</td>\n",
       "    </tr>\n",
       "    <tr>\n",
       "      <th>itararé</th>\n",
       "      <td>1265</td>\n",
       "      <td>3514.0</td>\n",
       "    </tr>\n",
       "    <tr>\n",
       "      <th>jardim da penha</th>\n",
       "      <td>1250</td>\n",
       "      <td>3877.0</td>\n",
       "    </tr>\n",
       "    <tr>\n",
       "      <th>santa martha</th>\n",
       "      <td>1127</td>\n",
       "      <td>3131.0</td>\n",
       "    </tr>\n",
       "    <tr>\n",
       "      <th>centro</th>\n",
       "      <td>1121</td>\n",
       "      <td>3334.0</td>\n",
       "    </tr>\n",
       "    <tr>\n",
       "      <th>bonfim</th>\n",
       "      <td>1071</td>\n",
       "      <td>2773.0</td>\n",
       "    </tr>\n",
       "    <tr>\n",
       "      <th>tabuazeiro</th>\n",
       "      <td>1044</td>\n",
       "      <td>3132.0</td>\n",
       "    </tr>\n",
       "    <tr>\n",
       "      <th>jesus de nazareth</th>\n",
       "      <td>1000</td>\n",
       "      <td>2853.0</td>\n",
       "    </tr>\n",
       "  </tbody>\n",
       "</table>\n",
       "</div>"
      ],
      "text/plain": [
       "                   count_adult_appointments  count_all_appointments\n",
       "neighborhood                                                       \n",
       "jardim camburi                         2075                  7717.0\n",
       "maria ortiz                            1924                  5805.0\n",
       "resistência                            1711                  4431.0\n",
       "itararé                                1265                  3514.0\n",
       "jardim da penha                        1250                  3877.0\n",
       "santa martha                           1127                  3131.0\n",
       "centro                                 1121                  3334.0\n",
       "bonfim                                 1071                  2773.0\n",
       "tabuazeiro                             1044                  3132.0\n",
       "jesus de nazareth                      1000                  2853.0"
      ]
     },
     "execution_count": 176,
     "metadata": {},
     "output_type": "execute_result"
    }
   ],
   "source": [
    "dfc_adult.head(10)"
   ]
  },
  {
   "cell_type": "code",
   "execution_count": 177,
   "metadata": {
    "collapsed": true
   },
   "outputs": [],
   "source": [
    "dfc_adult_m = [dfc_adult['count_adult_appointments'].mean()]"
   ]
  },
  {
   "cell_type": "code",
   "execution_count": 178,
   "metadata": {},
   "outputs": [
    {
     "name": "stdout",
     "output_type": "stream",
     "text": [
      "[905.5]\n"
     ]
    }
   ],
   "source": [
    "print(dfc_adult_m)"
   ]
  },
  {
   "cell_type": "code",
   "execution_count": 179,
   "metadata": {
    "collapsed": true
   },
   "outputs": [],
   "source": [
    "c_adult_heights = dfc_adult['count_adult_appointments'].head(10).tolist()"
   ]
  },
  {
   "cell_type": "code",
   "execution_count": 180,
   "metadata": {
    "collapsed": true
   },
   "outputs": [],
   "source": [
    "c_adult_heights = c_adult_heights + dfc_adult_m"
   ]
  },
  {
   "cell_type": "code",
   "execution_count": 181,
   "metadata": {
    "collapsed": true
   },
   "outputs": [],
   "source": [
    "c_adult_labels = dfc_adult.index.format()[0:10]"
   ]
  },
  {
   "cell_type": "code",
   "execution_count": 182,
   "metadata": {
    "collapsed": true
   },
   "outputs": [],
   "source": [
    "c_adult_labels = c_adult_labels + ['All']"
   ]
  },
  {
   "cell_type": "code",
   "execution_count": 183,
   "metadata": {},
   "outputs": [
    {
     "data": {
      "image/png": "[encoded data removed]",
      "text/plain": [
       "<matplotlib.figure.Figure at 0x1219ff358>"
      ]
     },
     "metadata": {},
     "output_type": "display_data"
    }
   ],
   "source": [
    "# Bar chart of results from count of \"Adults\" who made appointments in each 'neighborhood'\n",
    "c_aa_locations = [1, 2, 3, 4, 5, 6, 7, 8, 9, 10, 11]\n",
    "c_aa_heights = c_adult_heights\n",
    "c_aa_labels = c_adult_labels\n",
    "plt.bar(c_aa_locations, c_aa_heights)\n",
    "plt.title('Number of Appointments \\n by Adults in Each Neighborhood')\n",
    "plt.xlabel('Neighborhood')\n",
    "plt.xticks(c_aa_locations, c_aa_labels, rotation=90)\n",
    "plt.ylabel('Number of Appointments');"
   ]
  },
  {
   "cell_type": "markdown",
   "metadata": {},
   "source": [
    "Above is the bar chart of the 10 neighborhoods who receive the highest number of \"Adults\" who make appointments at each \"Neighborhood.\" Each neighborhood receives 1,000 or more appointments for \"Adult\" patients.\n",
    "\n",
    "Now, the proportion of appointments for \"Adult\" patients will be analyzed. The proportion of \"Adult\" appointments at each \"Neighborhood\" will be compared to the overall proportion of appointments for \"Adult\" patients in all \"Neighborhoods.\""
   ]
  },
  {
   "cell_type": "code",
   "execution_count": 184,
   "metadata": {
    "collapsed": true
   },
   "outputs": [],
   "source": [
    "# Divide 'count_adult_appointments' by 'count_all_appointments'\n",
    "df_adult['proportion_adult_appointments'] = df_adult['count_adult_appointments'] / df_adult['count_all_appointments']"
   ]
  },
  {
   "cell_type": "code",
   "execution_count": 185,
   "metadata": {
    "collapsed": true
   },
   "outputs": [],
   "source": [
    "# Rename df_adult to create dfp_adult for the proportion of 'adult'\n",
    "dfp_adult = df_adult"
   ]
  },
  {
   "cell_type": "code",
   "execution_count": 186,
   "metadata": {
    "collapsed": true
   },
   "outputs": [],
   "source": [
    "# Sort values by column 'propoortion_adult_appointments'\n",
    "dfp_adult = dfp_adult.sort_values(by = 'proportion_adult_appointments', ascending = False);"
   ]
  },
  {
   "cell_type": "code",
   "execution_count": 187,
   "metadata": {},
   "outputs": [
    {
     "data": {
      "text/html": [
       "<div>\n",
       "<style>\n",
       "    .dataframe thead tr:only-child th {\n",
       "        text-align: right;\n",
       "    }\n",
       "\n",
       "    .dataframe thead th {\n",
       "        text-align: left;\n",
       "    }\n",
       "\n",
       "    .dataframe tbody tr th {\n",
       "        vertical-align: top;\n",
       "    }\n",
       "</style>\n",
       "<table border=\"1\" class=\"dataframe\">\n",
       "  <thead>\n",
       "    <tr style=\"text-align: right;\">\n",
       "      <th></th>\n",
       "      <th>count_adult_appointments</th>\n",
       "      <th>count_all_appointments</th>\n",
       "      <th>proportion_adult_appointments</th>\n",
       "    </tr>\n",
       "    <tr>\n",
       "      <th>neighborhood</th>\n",
       "      <th></th>\n",
       "      <th></th>\n",
       "      <th></th>\n",
       "    </tr>\n",
       "  </thead>\n",
       "  <tbody>\n",
       "    <tr>\n",
       "      <th>redenção</th>\n",
       "      <td>653</td>\n",
       "      <td>1553.0</td>\n",
       "      <td>0.420476</td>\n",
       "    </tr>\n",
       "    <tr>\n",
       "      <th>forte são joão</th>\n",
       "      <td>756</td>\n",
       "      <td>1889.0</td>\n",
       "      <td>0.400212</td>\n",
       "    </tr>\n",
       "    <tr>\n",
       "      <th>cruzamento</th>\n",
       "      <td>550</td>\n",
       "      <td>1398.0</td>\n",
       "      <td>0.393419</td>\n",
       "    </tr>\n",
       "    <tr>\n",
       "      <th>bonfim</th>\n",
       "      <td>1071</td>\n",
       "      <td>2773.0</td>\n",
       "      <td>0.386224</td>\n",
       "    </tr>\n",
       "    <tr>\n",
       "      <th>resistência</th>\n",
       "      <td>1711</td>\n",
       "      <td>4431.0</td>\n",
       "      <td>0.386143</td>\n",
       "    </tr>\n",
       "    <tr>\n",
       "      <th>andorinhas</th>\n",
       "      <td>868</td>\n",
       "      <td>2262.0</td>\n",
       "      <td>0.383731</td>\n",
       "    </tr>\n",
       "    <tr>\n",
       "      <th>da penha</th>\n",
       "      <td>833</td>\n",
       "      <td>2217.0</td>\n",
       "      <td>0.375733</td>\n",
       "    </tr>\n",
       "    <tr>\n",
       "      <th>gurigica</th>\n",
       "      <td>757</td>\n",
       "      <td>2018.0</td>\n",
       "      <td>0.375124</td>\n",
       "    </tr>\n",
       "    <tr>\n",
       "      <th>romão</th>\n",
       "      <td>827</td>\n",
       "      <td>2214.0</td>\n",
       "      <td>0.373532</td>\n",
       "    </tr>\n",
       "    <tr>\n",
       "      <th>são benedito</th>\n",
       "      <td>525</td>\n",
       "      <td>1439.0</td>\n",
       "      <td>0.364837</td>\n",
       "    </tr>\n",
       "  </tbody>\n",
       "</table>\n",
       "</div>"
      ],
      "text/plain": [
       "                count_adult_appointments  count_all_appointments  \\\n",
       "neighborhood                                                       \n",
       "redenção                             653                  1553.0   \n",
       "forte são joão                       756                  1889.0   \n",
       "cruzamento                           550                  1398.0   \n",
       "bonfim                              1071                  2773.0   \n",
       "resistência                         1711                  4431.0   \n",
       "andorinhas                           868                  2262.0   \n",
       "da penha                             833                  2217.0   \n",
       "gurigica                             757                  2018.0   \n",
       "romão                                827                  2214.0   \n",
       "são benedito                         525                  1439.0   \n",
       "\n",
       "                proportion_adult_appointments  \n",
       "neighborhood                                   \n",
       "redenção                             0.420476  \n",
       "forte são joão                       0.400212  \n",
       "cruzamento                           0.393419  \n",
       "bonfim                               0.386224  \n",
       "resistência                          0.386143  \n",
       "andorinhas                           0.383731  \n",
       "da penha                             0.375733  \n",
       "gurigica                             0.375124  \n",
       "romão                                0.373532  \n",
       "são benedito                         0.364837  "
      ]
     },
     "execution_count": 187,
     "metadata": {},
     "output_type": "execute_result"
    }
   ],
   "source": [
    "dfp_adult.head(10)"
   ]
  },
  {
   "cell_type": "code",
   "execution_count": 188,
   "metadata": {
    "collapsed": true
   },
   "outputs": [],
   "source": [
    "dfp_adult_m = [dfp_adult['proportion_adult_appointments'].mean()]"
   ]
  },
  {
   "cell_type": "code",
   "execution_count": 189,
   "metadata": {},
   "outputs": [
    {
     "name": "stdout",
     "output_type": "stream",
     "text": [
      "[0.3458778710357711]\n"
     ]
    }
   ],
   "source": [
    "print(dfp_adult_m)"
   ]
  },
  {
   "cell_type": "code",
   "execution_count": 190,
   "metadata": {
    "collapsed": true
   },
   "outputs": [],
   "source": [
    "p_adult_heights = dfp_adult['proportion_adult_appointments'].head(10).tolist()"
   ]
  },
  {
   "cell_type": "code",
   "execution_count": 191,
   "metadata": {
    "collapsed": true
   },
   "outputs": [],
   "source": [
    "p_adult_heights = p_adult_heights + dfp_adult_m"
   ]
  },
  {
   "cell_type": "code",
   "execution_count": 192,
   "metadata": {
    "collapsed": true
   },
   "outputs": [],
   "source": [
    "p_adult_labels = dfp_adult.index.format()[0:10]"
   ]
  },
  {
   "cell_type": "code",
   "execution_count": 193,
   "metadata": {
    "collapsed": true
   },
   "outputs": [],
   "source": [
    "p_adult_labels = p_adult_labels + ['All']"
   ]
  },
  {
   "cell_type": "code",
   "execution_count": 194,
   "metadata": {},
   "outputs": [
    {
     "data": {
      "image/png": "[encoded data removed]",
      "text/plain": [
       "<matplotlib.figure.Figure at 0x11db3da58>"
      ]
     },
     "metadata": {},
     "output_type": "display_data"
    }
   ],
   "source": [
    "# Bar chart of results the proportion of \"Adults\" who made appointments in each 'neighborhood'\n",
    "p_aa_locations = [1, 2, 3, 4, 5, 6, 7, 8, 9, 10, 11]\n",
    "p_aa_heights = p_adult_heights\n",
    "p_aa_labels = p_adult_labels\n",
    "plt.bar(p_aa_locations, p_aa_heights)\n",
    "plt.title('Proportion of Appointments \\n by Adults in Each Neighborhood')\n",
    "plt.xlabel('Neighborhood')\n",
    "plt.xticks(p_aa_locations, p_aa_labels, rotation=90)\n",
    "plt.ylabel('Proportion of Appointments');"
   ]
  },
  {
   "cell_type": "markdown",
   "metadata": {},
   "source": [
    "Preliminary analysis suggests resources to understand and limit \"no-show\" appointments may be well utilized at the neighborhood Resistência. Resistência ranks 3rd in the number of adult patient appointments with 1,711 compared to an average of 906 and 5th in the proportion of adult patients with 38.6% compared to an average of 34.6%.\n",
    "\n",
    "Next, the neighborhood which receives the most appointments from patients in the \"Scholarship\" group will be found. This data will be compared to the proportion of the neighborhoods' total number of appointments."
   ]
  },
  {
   "cell_type": "code",
   "execution_count": 195,
   "metadata": {
    "collapsed": true
   },
   "outputs": [],
   "source": [
    "# Create dataframe with only patients who receive scholarship in the 'scholarship' column\n",
    "df_scholarship = df[df['scholarship'] == 1]"
   ]
  },
  {
   "cell_type": "code",
   "execution_count": 196,
   "metadata": {
    "collapsed": true
   },
   "outputs": [],
   "source": [
    "# Drop all columns except 'neighborhood' and 'scholarship'\n",
    "df_scholarship = df_scholarship.drop(['appointment_id', 'no_show', 'existing_condition', 'age_group'], axis=1)"
   ]
  },
  {
   "cell_type": "code",
   "execution_count": 197,
   "metadata": {
    "collapsed": true
   },
   "outputs": [],
   "source": [
    "# Count of number of appointments by patients who receive 'scholarship' in each 'neighborhood'\n",
    "df_scholarship = df_scholarship.groupby(['neighborhood']).count().sort_values(by = 'scholarship', ascending = False)"
   ]
  },
  {
   "cell_type": "code",
   "execution_count": 198,
   "metadata": {
    "collapsed": true
   },
   "outputs": [],
   "source": [
    "# Rename 'scholarship' column to 'count_scholarship_appointments'\n",
    "df_scholarship = df_scholarship.rename(index=str, columns={'scholarship': 'count_scholarship_appointments'})"
   ]
  },
  {
   "cell_type": "code",
   "execution_count": 199,
   "metadata": {
    "collapsed": true
   },
   "outputs": [],
   "source": [
    "# Add column 'count_all_appointments' to df_scholarship and drop all 'NaN' columns\n",
    "df_scholarship = df_scholarship.join(df_neighborhood).dropna(axis = 0)"
   ]
  },
  {
   "cell_type": "code",
   "execution_count": 200,
   "metadata": {
    "collapsed": true
   },
   "outputs": [],
   "source": [
    "# Rename df_scholarship to create dfc_scholarship for the count of 'scholarship'\n",
    "dfc_scholarship = df_scholarship"
   ]
  },
  {
   "cell_type": "code",
   "execution_count": 201,
   "metadata": {},
   "outputs": [
    {
     "data": {
      "text/html": [
       "<div>\n",
       "<style>\n",
       "    .dataframe thead tr:only-child th {\n",
       "        text-align: right;\n",
       "    }\n",
       "\n",
       "    .dataframe thead th {\n",
       "        text-align: left;\n",
       "    }\n",
       "\n",
       "    .dataframe tbody tr th {\n",
       "        vertical-align: top;\n",
       "    }\n",
       "</style>\n",
       "<table border=\"1\" class=\"dataframe\">\n",
       "  <thead>\n",
       "    <tr style=\"text-align: right;\">\n",
       "      <th></th>\n",
       "      <th>count_scholarship_appointments</th>\n",
       "      <th>count_all_appointments</th>\n",
       "    </tr>\n",
       "    <tr>\n",
       "      <th>neighborhood</th>\n",
       "      <th></th>\n",
       "      <th></th>\n",
       "    </tr>\n",
       "  </thead>\n",
       "  <tbody>\n",
       "    <tr>\n",
       "      <th>ilha do príncipe</th>\n",
       "      <td>579</td>\n",
       "      <td>2266.0</td>\n",
       "    </tr>\n",
       "    <tr>\n",
       "      <th>tabuazeiro</th>\n",
       "      <td>537</td>\n",
       "      <td>3132.0</td>\n",
       "    </tr>\n",
       "    <tr>\n",
       "      <th>resistência</th>\n",
       "      <td>468</td>\n",
       "      <td>4431.0</td>\n",
       "    </tr>\n",
       "    <tr>\n",
       "      <th>caratoíra</th>\n",
       "      <td>456</td>\n",
       "      <td>2565.0</td>\n",
       "    </tr>\n",
       "    <tr>\n",
       "      <th>santa martha</th>\n",
       "      <td>441</td>\n",
       "      <td>3131.0</td>\n",
       "    </tr>\n",
       "    <tr>\n",
       "      <th>gurigica</th>\n",
       "      <td>422</td>\n",
       "      <td>2018.0</td>\n",
       "    </tr>\n",
       "    <tr>\n",
       "      <th>são benedito</th>\n",
       "      <td>404</td>\n",
       "      <td>1439.0</td>\n",
       "    </tr>\n",
       "    <tr>\n",
       "      <th>bonfim</th>\n",
       "      <td>373</td>\n",
       "      <td>2773.0</td>\n",
       "    </tr>\n",
       "    <tr>\n",
       "      <th>santo andré</th>\n",
       "      <td>334</td>\n",
       "      <td>2571.0</td>\n",
       "    </tr>\n",
       "    <tr>\n",
       "      <th>andorinhas</th>\n",
       "      <td>323</td>\n",
       "      <td>2262.0</td>\n",
       "    </tr>\n",
       "  </tbody>\n",
       "</table>\n",
       "</div>"
      ],
      "text/plain": [
       "                  count_scholarship_appointments  count_all_appointments\n",
       "neighborhood                                                            \n",
       "ilha do príncipe                             579                  2266.0\n",
       "tabuazeiro                                   537                  3132.0\n",
       "resistência                                  468                  4431.0\n",
       "caratoíra                                    456                  2565.0\n",
       "santa martha                                 441                  3131.0\n",
       "gurigica                                     422                  2018.0\n",
       "são benedito                                 404                  1439.0\n",
       "bonfim                                       373                  2773.0\n",
       "santo andré                                  334                  2571.0\n",
       "andorinhas                                   323                  2262.0"
      ]
     },
     "execution_count": 201,
     "metadata": {},
     "output_type": "execute_result"
    }
   ],
   "source": [
    "dfc_scholarship.head(10)"
   ]
  },
  {
   "cell_type": "code",
   "execution_count": 202,
   "metadata": {
    "collapsed": true
   },
   "outputs": [],
   "source": [
    "dfc_scholarship_m = [dfc_scholarship['count_scholarship_appointments'].mean()]"
   ]
  },
  {
   "cell_type": "code",
   "execution_count": 203,
   "metadata": {},
   "outputs": [
    {
     "name": "stdout",
     "output_type": "stream",
     "text": [
      "[265.03125]\n"
     ]
    }
   ],
   "source": [
    "print(dfc_scholarship_m)"
   ]
  },
  {
   "cell_type": "code",
   "execution_count": 204,
   "metadata": {
    "collapsed": true
   },
   "outputs": [],
   "source": [
    "c_scholarship_heights = dfc_scholarship['count_scholarship_appointments'].head(10).tolist()"
   ]
  },
  {
   "cell_type": "code",
   "execution_count": 205,
   "metadata": {
    "collapsed": true
   },
   "outputs": [],
   "source": [
    "c_scholarship_heights = c_scholarship_heights + dfc_scholarship_m"
   ]
  },
  {
   "cell_type": "code",
   "execution_count": 206,
   "metadata": {
    "collapsed": true
   },
   "outputs": [],
   "source": [
    "c_scholarship_labels = dfc_scholarship.index.format()[0:10]"
   ]
  },
  {
   "cell_type": "code",
   "execution_count": 207,
   "metadata": {
    "collapsed": true
   },
   "outputs": [],
   "source": [
    "c_scholarship_labels = c_scholarship_labels + ['All']"
   ]
  },
  {
   "cell_type": "code",
   "execution_count": 208,
   "metadata": {},
   "outputs": [
    {
     "data": {
      "image/png": "[encoded data removed]",
      "text/plain": [
       "<matplotlib.figure.Figure at 0x11db7b5f8>"
      ]
     },
     "metadata": {},
     "output_type": "display_data"
    }
   ],
   "source": [
    "# Bar chart of results from count of 'scholarship' patients who made appointments in each 'neighborhood'\n",
    "c_sa_locations = [1, 2, 3, 4, 5, 6, 7, 8, 9, 10, 11]\n",
    "c_sa_heights = c_scholarship_heights\n",
    "c_sa_labels = c_scholarship_labels\n",
    "plt.bar(c_sa_locations, c_sa_heights)\n",
    "plt.title('Number of Appointments \\n by\"Scholarship\"Patients in Each Neighborhood')\n",
    "plt.xlabel('Neighborhood')\n",
    "plt.xticks(c_sa_locations, c_sa_labels, rotation=90)\n",
    "plt.ylabel('Number of Appointments');"
   ]
  },
  {
   "cell_type": "markdown",
   "metadata": {},
   "source": [
    "Above is the chart of the 10 neighborhoods who receive the highest number of \"Scholarship\" patients who make appointments in each \"Neighborhood.\" Each neighborhood receives 300 or more appointments for \"Scholarship\" patients compared to the mean of 265 appointments by \"Scholarship\" patients across all neighborhoods.\n",
    "\n",
    "Now, the proportion of appointments for \"Scholarship\" patients will be analyzed. The proportion of \"Scholarship\" appointments in each \"Neighborhood\" will be compared to the overall proportion of appointments for \"Scholarship\" patients in all \"Neighborhoods.\""
   ]
  },
  {
   "cell_type": "code",
   "execution_count": 209,
   "metadata": {
    "collapsed": true
   },
   "outputs": [],
   "source": [
    "# Divide 'count_scholarship_appointments' by 'count_all_appointments'\n",
    "df_scholarship['proportion_scholarship_appointments'] = df_scholarship['count_scholarship_appointments'] / df_scholarship['count_all_appointments']"
   ]
  },
  {
   "cell_type": "code",
   "execution_count": 210,
   "metadata": {
    "collapsed": true
   },
   "outputs": [],
   "source": [
    "# Rename df_scholarship to create dfp_scholarship for the proportion of 'scholarship'\n",
    "dfp_scholarship = df_scholarship"
   ]
  },
  {
   "cell_type": "code",
   "execution_count": 211,
   "metadata": {
    "collapsed": true
   },
   "outputs": [],
   "source": [
    "# Sort values by column 'propoortion_scholarship_appointments'\n",
    "dfp_scholarship = dfp_scholarship.sort_values(by = 'proportion_scholarship_appointments', ascending = False);"
   ]
  },
  {
   "cell_type": "code",
   "execution_count": 212,
   "metadata": {},
   "outputs": [
    {
     "data": {
      "text/html": [
       "<div>\n",
       "<style>\n",
       "    .dataframe thead tr:only-child th {\n",
       "        text-align: right;\n",
       "    }\n",
       "\n",
       "    .dataframe thead th {\n",
       "        text-align: left;\n",
       "    }\n",
       "\n",
       "    .dataframe tbody tr th {\n",
       "        vertical-align: top;\n",
       "    }\n",
       "</style>\n",
       "<table border=\"1\" class=\"dataframe\">\n",
       "  <thead>\n",
       "    <tr style=\"text-align: right;\">\n",
       "      <th></th>\n",
       "      <th>count_scholarship_appointments</th>\n",
       "      <th>count_all_appointments</th>\n",
       "      <th>proportion_scholarship_appointments</th>\n",
       "    </tr>\n",
       "    <tr>\n",
       "      <th>neighborhood</th>\n",
       "      <th></th>\n",
       "      <th></th>\n",
       "      <th></th>\n",
       "    </tr>\n",
       "  </thead>\n",
       "  <tbody>\n",
       "    <tr>\n",
       "      <th>são benedito</th>\n",
       "      <td>404</td>\n",
       "      <td>1439.0</td>\n",
       "      <td>0.280751</td>\n",
       "    </tr>\n",
       "    <tr>\n",
       "      <th>ilha do príncipe</th>\n",
       "      <td>579</td>\n",
       "      <td>2266.0</td>\n",
       "      <td>0.255516</td>\n",
       "    </tr>\n",
       "    <tr>\n",
       "      <th>gurigica</th>\n",
       "      <td>422</td>\n",
       "      <td>2018.0</td>\n",
       "      <td>0.209118</td>\n",
       "    </tr>\n",
       "    <tr>\n",
       "      <th>caratoíra</th>\n",
       "      <td>456</td>\n",
       "      <td>2565.0</td>\n",
       "      <td>0.177778</td>\n",
       "    </tr>\n",
       "    <tr>\n",
       "      <th>tabuazeiro</th>\n",
       "      <td>537</td>\n",
       "      <td>3132.0</td>\n",
       "      <td>0.171456</td>\n",
       "    </tr>\n",
       "    <tr>\n",
       "      <th>joana d´arc</th>\n",
       "      <td>219</td>\n",
       "      <td>1427.0</td>\n",
       "      <td>0.153469</td>\n",
       "    </tr>\n",
       "    <tr>\n",
       "      <th>consolação</th>\n",
       "      <td>199</td>\n",
       "      <td>1376.0</td>\n",
       "      <td>0.144622</td>\n",
       "    </tr>\n",
       "    <tr>\n",
       "      <th>andorinhas</th>\n",
       "      <td>323</td>\n",
       "      <td>2262.0</td>\n",
       "      <td>0.142794</td>\n",
       "    </tr>\n",
       "    <tr>\n",
       "      <th>santa martha</th>\n",
       "      <td>441</td>\n",
       "      <td>3131.0</td>\n",
       "      <td>0.140850</td>\n",
       "    </tr>\n",
       "    <tr>\n",
       "      <th>nova palestina</th>\n",
       "      <td>310</td>\n",
       "      <td>2264.0</td>\n",
       "      <td>0.136926</td>\n",
       "    </tr>\n",
       "  </tbody>\n",
       "</table>\n",
       "</div>"
      ],
      "text/plain": [
       "                  count_scholarship_appointments  count_all_appointments  \\\n",
       "neighborhood                                                               \n",
       "são benedito                                 404                  1439.0   \n",
       "ilha do príncipe                             579                  2266.0   \n",
       "gurigica                                     422                  2018.0   \n",
       "caratoíra                                    456                  2565.0   \n",
       "tabuazeiro                                   537                  3132.0   \n",
       "joana d´arc                                  219                  1427.0   \n",
       "consolação                                   199                  1376.0   \n",
       "andorinhas                                   323                  2262.0   \n",
       "santa martha                                 441                  3131.0   \n",
       "nova palestina                               310                  2264.0   \n",
       "\n",
       "                  proportion_scholarship_appointments  \n",
       "neighborhood                                           \n",
       "são benedito                                 0.280751  \n",
       "ilha do príncipe                             0.255516  \n",
       "gurigica                                     0.209118  \n",
       "caratoíra                                    0.177778  \n",
       "tabuazeiro                                   0.171456  \n",
       "joana d´arc                                  0.153469  \n",
       "consolação                                   0.144622  \n",
       "andorinhas                                   0.142794  \n",
       "santa martha                                 0.140850  \n",
       "nova palestina                               0.136926  "
      ]
     },
     "execution_count": 212,
     "metadata": {},
     "output_type": "execute_result"
    }
   ],
   "source": [
    "dfp_scholarship.head(10)"
   ]
  },
  {
   "cell_type": "code",
   "execution_count": 213,
   "metadata": {
    "collapsed": true
   },
   "outputs": [],
   "source": [
    "dfp_scholarship_m = [dfp_scholarship['proportion_scholarship_appointments'].mean()]"
   ]
  },
  {
   "cell_type": "code",
   "execution_count": 214,
   "metadata": {},
   "outputs": [
    {
     "name": "stdout",
     "output_type": "stream",
     "text": [
      "[0.1136161142962836]\n"
     ]
    }
   ],
   "source": [
    "print(dfp_scholarship_m)"
   ]
  },
  {
   "cell_type": "code",
   "execution_count": 215,
   "metadata": {
    "collapsed": true
   },
   "outputs": [],
   "source": [
    "p_scholarship_heights = dfp_scholarship['proportion_scholarship_appointments'].head(10).tolist()"
   ]
  },
  {
   "cell_type": "code",
   "execution_count": 216,
   "metadata": {
    "collapsed": true
   },
   "outputs": [],
   "source": [
    "p_scholarship_heights = p_scholarship_heights + dfp_scholarship_m"
   ]
  },
  {
   "cell_type": "code",
   "execution_count": 217,
   "metadata": {
    "collapsed": true
   },
   "outputs": [],
   "source": [
    "p_scholarship_labels = dfp_scholarship.index.format()[0:10]"
   ]
  },
  {
   "cell_type": "code",
   "execution_count": 218,
   "metadata": {
    "collapsed": true
   },
   "outputs": [],
   "source": [
    "p_scholarship_labels = p_scholarship_labels + ['All']"
   ]
  },
  {
   "cell_type": "code",
   "execution_count": 219,
   "metadata": {},
   "outputs": [
    {
     "data": {
      "image/png": "[encoded data removed]",
      "text/plain": [
       "<matplotlib.figure.Figure at 0x121a69c50>"
      ]
     },
     "metadata": {},
     "output_type": "display_data"
    }
   ],
   "source": [
    "# Bar chart of results from proportion of 'scholarship' patients who made appointments in each 'neighborhood'\n",
    "p_sa_locations = [1, 2, 3, 4, 5, 6, 7, 8, 9, 10, 11]\n",
    "p_sa_heights = p_scholarship_heights\n",
    "p_sa_labels = p_scholarship_labels\n",
    "plt.bar(p_sa_locations, p_sa_heights)\n",
    "plt.title('Proportion of Appointments \\n by \"Scholarship\" Patients in Each Neighborhood')\n",
    "plt.xlabel('Neighborhood')\n",
    "plt.xticks(p_sa_locations, p_sa_labels, rotation=90)\n",
    "plt.ylabel('Number of Appointments');"
   ]
  },
  {
   "cell_type": "markdown",
   "metadata": {},
   "source": [
    "Preliminary analysis suggests resources to understand and limit \"no-show\" appointments may be well utilized at the neighborhood Ilha do Príncipe. Ilha do Príncipe ranks 1st in the number of \"Scholarship\" patient appointments with 579 compared to an average of 265 and 2nd in the proportion of adult patients with 25.6% compared to an average of 11.4%.\n",
    "\n",
    "Next, the neighborhood which receives the most appointments from patients in the \"No Existing Condition\" group will be found. This data will be compared to the proportion of the neighborhoods' total number of appointments."
   ]
  },
  {
   "cell_type": "code",
   "execution_count": 220,
   "metadata": {
    "collapsed": true
   },
   "outputs": [],
   "source": [
    "# Create dataframe with only patients without existing conditions in the 'existing_condition' column\n",
    "df_excon = df[df['existing_condition'] == 0]"
   ]
  },
  {
   "cell_type": "code",
   "execution_count": 221,
   "metadata": {
    "collapsed": true
   },
   "outputs": [],
   "source": [
    "# Drop all columns except 'neighborhood' and 'existing_condition'\n",
    "df_excon = df_excon.drop(['appointment_id', 'no_show', 'scholarship', 'age_group'], axis=1)"
   ]
  },
  {
   "cell_type": "code",
   "execution_count": 222,
   "metadata": {
    "collapsed": true
   },
   "outputs": [],
   "source": [
    "# Count of number of appointments by patients who have no 'existing_condition' in each 'neighborhood'\n",
    "df_excon = df_excon.groupby(['neighborhood']).count().sort_values(by = 'existing_condition', ascending = False)"
   ]
  },
  {
   "cell_type": "code",
   "execution_count": 223,
   "metadata": {
    "collapsed": true
   },
   "outputs": [],
   "source": [
    "# Rename 'existing_condition' column to 'count_no_existing_condition_appointments'\n",
    "df_excon = df_excon.rename(index=str, columns={'existing_condition': 'count_no_existing_condition_appointments'})"
   ]
  },
  {
   "cell_type": "code",
   "execution_count": 224,
   "metadata": {
    "collapsed": true
   },
   "outputs": [],
   "source": [
    "# Add column 'count_all_appointments' to df_excon and drop all 'NaN' columns\n",
    "df_excon = df_excon.join(df_neighborhood).dropna(axis = 0)"
   ]
  },
  {
   "cell_type": "code",
   "execution_count": 225,
   "metadata": {
    "collapsed": true
   },
   "outputs": [],
   "source": [
    "# Rename df_excon to create dfc_excon for the count of 'existing_condition'\n",
    "dfc_excon = df_excon"
   ]
  },
  {
   "cell_type": "code",
   "execution_count": 226,
   "metadata": {},
   "outputs": [
    {
     "data": {
      "text/html": [
       "<div>\n",
       "<style>\n",
       "    .dataframe thead tr:only-child th {\n",
       "        text-align: right;\n",
       "    }\n",
       "\n",
       "    .dataframe thead th {\n",
       "        text-align: left;\n",
       "    }\n",
       "\n",
       "    .dataframe tbody tr th {\n",
       "        vertical-align: top;\n",
       "    }\n",
       "</style>\n",
       "<table border=\"1\" class=\"dataframe\">\n",
       "  <thead>\n",
       "    <tr style=\"text-align: right;\">\n",
       "      <th></th>\n",
       "      <th>count_no_existing_condition_appointments</th>\n",
       "      <th>count_all_appointments</th>\n",
       "    </tr>\n",
       "    <tr>\n",
       "      <th>neighborhood</th>\n",
       "      <th></th>\n",
       "      <th></th>\n",
       "    </tr>\n",
       "  </thead>\n",
       "  <tbody>\n",
       "    <tr>\n",
       "      <th>jardim camburi</th>\n",
       "      <td>7143</td>\n",
       "      <td>7717.0</td>\n",
       "    </tr>\n",
       "    <tr>\n",
       "      <th>maria ortiz</th>\n",
       "      <td>5656</td>\n",
       "      <td>5805.0</td>\n",
       "    </tr>\n",
       "    <tr>\n",
       "      <th>resistência</th>\n",
       "      <td>3407</td>\n",
       "      <td>4431.0</td>\n",
       "    </tr>\n",
       "    <tr>\n",
       "      <th>jardim da penha</th>\n",
       "      <td>2774</td>\n",
       "      <td>3877.0</td>\n",
       "    </tr>\n",
       "    <tr>\n",
       "      <th>itararé</th>\n",
       "      <td>2606</td>\n",
       "      <td>3514.0</td>\n",
       "    </tr>\n",
       "    <tr>\n",
       "      <th>centro</th>\n",
       "      <td>2481</td>\n",
       "      <td>3334.0</td>\n",
       "    </tr>\n",
       "    <tr>\n",
       "      <th>jabour</th>\n",
       "      <td>2405</td>\n",
       "      <td>2509.0</td>\n",
       "    </tr>\n",
       "    <tr>\n",
       "      <th>tabuazeiro</th>\n",
       "      <td>2311</td>\n",
       "      <td>3132.0</td>\n",
       "    </tr>\n",
       "    <tr>\n",
       "      <th>jesus de nazareth</th>\n",
       "      <td>2230</td>\n",
       "      <td>2853.0</td>\n",
       "    </tr>\n",
       "    <tr>\n",
       "      <th>santa martha</th>\n",
       "      <td>2069</td>\n",
       "      <td>3131.0</td>\n",
       "    </tr>\n",
       "  </tbody>\n",
       "</table>\n",
       "</div>"
      ],
      "text/plain": [
       "                   count_no_existing_condition_appointments  \\\n",
       "neighborhood                                                  \n",
       "jardim camburi                                         7143   \n",
       "maria ortiz                                            5656   \n",
       "resistência                                            3407   \n",
       "jardim da penha                                        2774   \n",
       "itararé                                                2606   \n",
       "centro                                                 2481   \n",
       "jabour                                                 2405   \n",
       "tabuazeiro                                             2311   \n",
       "jesus de nazareth                                      2230   \n",
       "santa martha                                           2069   \n",
       "\n",
       "                   count_all_appointments  \n",
       "neighborhood                               \n",
       "jardim camburi                     7717.0  \n",
       "maria ortiz                        5805.0  \n",
       "resistência                        4431.0  \n",
       "jardim da penha                    3877.0  \n",
       "itararé                            3514.0  \n",
       "centro                             3334.0  \n",
       "jabour                             2509.0  \n",
       "tabuazeiro                         3132.0  \n",
       "jesus de nazareth                  2853.0  \n",
       "santa martha                       3131.0  "
      ]
     },
     "execution_count": 226,
     "metadata": {},
     "output_type": "execute_result"
    }
   ],
   "source": [
    "dfc_excon.head(10)"
   ]
  },
  {
   "cell_type": "code",
   "execution_count": 227,
   "metadata": {
    "collapsed": true
   },
   "outputs": [],
   "source": [
    "dfc_excon_m = [dfc_excon['count_no_existing_condition_appointments'].mean()]"
   ]
  },
  {
   "cell_type": "code",
   "execution_count": 228,
   "metadata": {},
   "outputs": [
    {
     "name": "stdout",
     "output_type": "stream",
     "text": [
      "[2040.4375]\n"
     ]
    }
   ],
   "source": [
    "print(dfc_excon_m)"
   ]
  },
  {
   "cell_type": "code",
   "execution_count": 229,
   "metadata": {
    "collapsed": true
   },
   "outputs": [],
   "source": [
    "c_excon_heights = dfc_excon['count_no_existing_condition_appointments'].head(10).tolist()"
   ]
  },
  {
   "cell_type": "code",
   "execution_count": 230,
   "metadata": {
    "collapsed": true
   },
   "outputs": [],
   "source": [
    "c_excon_heights = c_excon_heights + dfc_excon_m"
   ]
  },
  {
   "cell_type": "code",
   "execution_count": 231,
   "metadata": {
    "collapsed": true
   },
   "outputs": [],
   "source": [
    "c_excon_labels = dfc_excon.index.format()[0:10]"
   ]
  },
  {
   "cell_type": "code",
   "execution_count": 232,
   "metadata": {
    "collapsed": true
   },
   "outputs": [],
   "source": [
    "c_excon_labels = c_excon_labels + ['All']"
   ]
  },
  {
   "cell_type": "code",
   "execution_count": 233,
   "metadata": {},
   "outputs": [
    {
     "data": {
      "image/png": "[encoded data removed]",
      "text/plain": [
       "<matplotlib.figure.Figure at 0x121a69320>"
      ]
     },
     "metadata": {},
     "output_type": "display_data"
    }
   ],
   "source": [
    "# Bar chart of results from count of patients with no 'existing_condition' who made appointments in each 'neighborhood'\n",
    "c_ea_locations = [1, 2, 3, 4, 5, 6, 7, 8, 9, 10, 11]\n",
    "c_ea_heights = c_excon_heights\n",
    "c_ea_labels = c_excon_labels\n",
    "plt.bar(c_ea_locations, c_ea_heights)\n",
    "plt.title('Number of Appointments by Patients \\n with \"No Existing Condition\"in Each Neighborhood')\n",
    "plt.xlabel('Neighborhood')\n",
    "plt.xticks(c_ea_locations, c_ea_labels, rotation=90)\n",
    "plt.ylabel('Number of Appointments');"
   ]
  },
  {
   "cell_type": "markdown",
   "metadata": {},
   "source": [
    "Above is the chart of the 10 neighborhoods who receive the highest number of patients with \"No Existing Conditions\" who make appointments in each neighborhood. Each neighborhood receives 2,069 or more appointments for patients with \"No Existing Conditions\" compared to the mean of 2,040 appointments by patients with \"No Existing Conditions\" across all neighborhoods. The neighborhood Jardim Camburi seems to be an outlier with 7,143 appointments made by patients with \"No Existing Conditions\"; further analysis should be done to consider why this neighborhood sees so many patient with \"No Existing Conditions\" or if this data is inaccurate.\n",
    "\n",
    "Now, the proportion of appointments for patients with \"No Existing Conditions\" will be analyzed. The proportion of \"No Existing Condition\" appointments in each neighborhood will be compared to the overall proportion of appointments for \"Existing Condition\" patients in all neighborhoods."
   ]
  },
  {
   "cell_type": "code",
   "execution_count": 234,
   "metadata": {
    "collapsed": true
   },
   "outputs": [],
   "source": [
    "# Divide 'count_no_existing_condition_appointments' by 'count_all_appointments'\n",
    "df_excon['proportion_no_existing_condition_appointments'] = df_excon['count_no_existing_condition_appointments'] / df_excon['count_all_appointments']"
   ]
  },
  {
   "cell_type": "code",
   "execution_count": 235,
   "metadata": {
    "collapsed": true
   },
   "outputs": [],
   "source": [
    "# Rename df_excon to create dfp_excon for the proportion of 'existing_condition'\n",
    "dfp_excon = df_excon"
   ]
  },
  {
   "cell_type": "code",
   "execution_count": 236,
   "metadata": {
    "collapsed": true
   },
   "outputs": [],
   "source": [
    "# Sort values by column 'propoortion_existing_condition_appointments'\n",
    "dfp_excon = dfp_excon.sort_values(by = 'proportion_no_existing_condition_appointments', ascending = False);"
   ]
  },
  {
   "cell_type": "code",
   "execution_count": 237,
   "metadata": {},
   "outputs": [
    {
     "data": {
      "text/html": [
       "<div>\n",
       "<style>\n",
       "    .dataframe thead tr:only-child th {\n",
       "        text-align: right;\n",
       "    }\n",
       "\n",
       "    .dataframe thead th {\n",
       "        text-align: left;\n",
       "    }\n",
       "\n",
       "    .dataframe tbody tr th {\n",
       "        vertical-align: top;\n",
       "    }\n",
       "</style>\n",
       "<table border=\"1\" class=\"dataframe\">\n",
       "  <thead>\n",
       "    <tr style=\"text-align: right;\">\n",
       "      <th></th>\n",
       "      <th>count_no_existing_condition_appointments</th>\n",
       "      <th>count_all_appointments</th>\n",
       "      <th>proportion_no_existing_condition_appointments</th>\n",
       "    </tr>\n",
       "    <tr>\n",
       "      <th>neighborhood</th>\n",
       "      <th></th>\n",
       "      <th></th>\n",
       "      <th></th>\n",
       "    </tr>\n",
       "  </thead>\n",
       "  <tbody>\n",
       "    <tr>\n",
       "      <th>maria ortiz</th>\n",
       "      <td>5656</td>\n",
       "      <td>5805.0</td>\n",
       "      <td>0.974332</td>\n",
       "    </tr>\n",
       "    <tr>\n",
       "      <th>ilha de santa maria</th>\n",
       "      <td>1827</td>\n",
       "      <td>1885.0</td>\n",
       "      <td>0.969231</td>\n",
       "    </tr>\n",
       "    <tr>\n",
       "      <th>jabour</th>\n",
       "      <td>2405</td>\n",
       "      <td>2509.0</td>\n",
       "      <td>0.958549</td>\n",
       "    </tr>\n",
       "    <tr>\n",
       "      <th>jardim camburi</th>\n",
       "      <td>7143</td>\n",
       "      <td>7717.0</td>\n",
       "      <td>0.925619</td>\n",
       "    </tr>\n",
       "    <tr>\n",
       "      <th>jesus de nazareth</th>\n",
       "      <td>2230</td>\n",
       "      <td>2853.0</td>\n",
       "      <td>0.781633</td>\n",
       "    </tr>\n",
       "    <tr>\n",
       "      <th>ilha do príncipe</th>\n",
       "      <td>1745</td>\n",
       "      <td>2266.0</td>\n",
       "      <td>0.770079</td>\n",
       "    </tr>\n",
       "    <tr>\n",
       "      <th>resistência</th>\n",
       "      <td>3407</td>\n",
       "      <td>4431.0</td>\n",
       "      <td>0.768901</td>\n",
       "    </tr>\n",
       "    <tr>\n",
       "      <th>forte são joão</th>\n",
       "      <td>1441</td>\n",
       "      <td>1889.0</td>\n",
       "      <td>0.762837</td>\n",
       "    </tr>\n",
       "    <tr>\n",
       "      <th>centro</th>\n",
       "      <td>2481</td>\n",
       "      <td>3334.0</td>\n",
       "      <td>0.744151</td>\n",
       "    </tr>\n",
       "    <tr>\n",
       "      <th>santo andré</th>\n",
       "      <td>1908</td>\n",
       "      <td>2571.0</td>\n",
       "      <td>0.742124</td>\n",
       "    </tr>\n",
       "  </tbody>\n",
       "</table>\n",
       "</div>"
      ],
      "text/plain": [
       "                     count_no_existing_condition_appointments  \\\n",
       "neighborhood                                                    \n",
       "maria ortiz                                              5656   \n",
       "ilha de santa maria                                      1827   \n",
       "jabour                                                   2405   \n",
       "jardim camburi                                           7143   \n",
       "jesus de nazareth                                        2230   \n",
       "ilha do príncipe                                         1745   \n",
       "resistência                                              3407   \n",
       "forte são joão                                           1441   \n",
       "centro                                                   2481   \n",
       "santo andré                                              1908   \n",
       "\n",
       "                     count_all_appointments  \\\n",
       "neighborhood                                  \n",
       "maria ortiz                          5805.0   \n",
       "ilha de santa maria                  1885.0   \n",
       "jabour                               2509.0   \n",
       "jardim camburi                       7717.0   \n",
       "jesus de nazareth                    2853.0   \n",
       "ilha do príncipe                     2266.0   \n",
       "resistência                          4431.0   \n",
       "forte são joão                       1889.0   \n",
       "centro                               3334.0   \n",
       "santo andré                          2571.0   \n",
       "\n",
       "                     proportion_no_existing_condition_appointments  \n",
       "neighborhood                                                        \n",
       "maria ortiz                                               0.974332  \n",
       "ilha de santa maria                                       0.969231  \n",
       "jabour                                                    0.958549  \n",
       "jardim camburi                                            0.925619  \n",
       "jesus de nazareth                                         0.781633  \n",
       "ilha do príncipe                                          0.770079  \n",
       "resistência                                               0.768901  \n",
       "forte são joão                                            0.762837  \n",
       "centro                                                    0.744151  \n",
       "santo andré                                               0.742124  "
      ]
     },
     "execution_count": 237,
     "metadata": {},
     "output_type": "execute_result"
    }
   ],
   "source": [
    "dfp_excon.head(10)"
   ]
  },
  {
   "cell_type": "code",
   "execution_count": 238,
   "metadata": {
    "collapsed": true
   },
   "outputs": [],
   "source": [
    "dfp_excon_m = [dfp_excon['proportion_no_existing_condition_appointments'].mean()]"
   ]
  },
  {
   "cell_type": "code",
   "execution_count": 239,
   "metadata": {},
   "outputs": [
    {
     "name": "stdout",
     "output_type": "stream",
     "text": [
      "[0.7441066150132695]\n"
     ]
    }
   ],
   "source": [
    "print(dfp_excon_m)"
   ]
  },
  {
   "cell_type": "code",
   "execution_count": 240,
   "metadata": {
    "collapsed": true
   },
   "outputs": [],
   "source": [
    "p_excon_heights = dfp_excon['proportion_no_existing_condition_appointments'].head(10).tolist()"
   ]
  },
  {
   "cell_type": "code",
   "execution_count": 241,
   "metadata": {
    "collapsed": true
   },
   "outputs": [],
   "source": [
    "p_excon_heights = p_excon_heights + dfp_excon_m"
   ]
  },
  {
   "cell_type": "code",
   "execution_count": 242,
   "metadata": {
    "collapsed": true
   },
   "outputs": [],
   "source": [
    "p_excon_labels = dfp_excon.index.format()[0:10]"
   ]
  },
  {
   "cell_type": "code",
   "execution_count": 243,
   "metadata": {
    "collapsed": true
   },
   "outputs": [],
   "source": [
    "p_excon_labels = p_excon_labels + ['All']"
   ]
  },
  {
   "cell_type": "code",
   "execution_count": 244,
   "metadata": {
    "scrolled": true
   },
   "outputs": [
    {
     "data": {
      "image/png": "[encoded data removed]",
      "text/plain": [
       "<matplotlib.figure.Figure at 0x122bc6cc0>"
      ]
     },
     "metadata": {},
     "output_type": "display_data"
    }
   ],
   "source": [
    "# Bar chart of results from count of all patients with no 'existing_condition' who made appointments in each 'neighborhood'\n",
    "p_ea_locations = [1, 2, 3, 4, 5, 6, 7, 8, 9, 10, 11]\n",
    "p_ea_heights = p_excon_heights\n",
    "p_ea_labels = p_excon_labels\n",
    "plt.bar(p_ea_locations, p_ea_heights)\n",
    "plt.title('Proportion of Appointments \\n by Patients with \"No Existing Conditions\" in Each Neighborhood')\n",
    "plt.xlabel('Neighborhood')\n",
    "plt.xticks(p_ea_locations, p_ea_labels, rotation=90)\n",
    "plt.ylabel('Number of Appointments');"
   ]
  },
  {
   "cell_type": "markdown",
   "metadata": {},
   "source": [
    "Preliminary analysis suggests resources to understand and limit \"no-show\" appointments may be well utilized at the neighborhood Maria Ortiz. Maria Ortiz ranks 2nd in the number of appointments by patients with \"No Existing Conditions\" with 5656 compared to an average of 2040 and 1st in the proportion of patients with \"No Existing Conditions\" with 97.4% compared to an average of 74.4%.\n",
    "\n",
    "Finally, each \"Neighborhood\" will be analyzed based on the number of patients seen from all three categories: \"Adult,\" \"Scholarship,\" and \"No Existing Condition.\""
   ]
  },
  {
   "cell_type": "code",
   "execution_count": 245,
   "metadata": {
    "collapsed": true
   },
   "outputs": [],
   "source": [
    "# Create dataframe with only 'adult', 'scholarship', and 'existing_condition' appointments\n",
    "df['asec'] = np.where(((df['age_group']=='adult') | (df['scholarship']==1) | (df['existing_condition']==0)), 1, 0)"
   ]
  },
  {
   "cell_type": "code",
   "execution_count": 246,
   "metadata": {
    "collapsed": true
   },
   "outputs": [],
   "source": [
    "# Drop all columns except 'neighborhood' and 'asec'\n",
    "df_asec = df.drop(['appointment_id', 'scholarship', 'no_show', 'existing_condition','age_group'], axis=1)"
   ]
  },
  {
   "cell_type": "code",
   "execution_count": 247,
   "metadata": {
    "collapsed": true
   },
   "outputs": [],
   "source": [
    "# Drop all rows without a 1 in column 'asec'\n",
    "df_asec = df_asec[df_asec.asec == 1]"
   ]
  },
  {
   "cell_type": "code",
   "execution_count": 248,
   "metadata": {
    "collapsed": true
   },
   "outputs": [],
   "source": [
    "# Count of number of appointments by patients in group 'asec' in each 'neighborhood'\n",
    "df_asec = df_asec.groupby(['neighborhood']).count().sort_values(by = 'asec', ascending = False)"
   ]
  },
  {
   "cell_type": "code",
   "execution_count": 249,
   "metadata": {
    "collapsed": true
   },
   "outputs": [],
   "source": [
    "# Rename 'asec' column to 'count_asec_appointments'\n",
    "df_asec = df_asec.rename(index=str, columns={'asec': 'count_asec_appointments'})"
   ]
  },
  {
   "cell_type": "code",
   "execution_count": 250,
   "metadata": {
    "collapsed": true
   },
   "outputs": [],
   "source": [
    "# Add column 'count_all_appointments' to df_asec and drop all 'NaN' columns\n",
    "df_asec = df_asec.join(df_neighborhood).dropna(axis = 0)"
   ]
  },
  {
   "cell_type": "code",
   "execution_count": 251,
   "metadata": {
    "collapsed": true
   },
   "outputs": [],
   "source": [
    "# Rename df_asec to create dfc_asec for the count of 'adult', 'scholarship', and 'existing_condition'\n",
    "dfc_asec = df_asec"
   ]
  },
  {
   "cell_type": "code",
   "execution_count": 252,
   "metadata": {},
   "outputs": [
    {
     "data": {
      "text/html": [
       "<div>\n",
       "<style>\n",
       "    .dataframe thead tr:only-child th {\n",
       "        text-align: right;\n",
       "    }\n",
       "\n",
       "    .dataframe thead th {\n",
       "        text-align: left;\n",
       "    }\n",
       "\n",
       "    .dataframe tbody tr th {\n",
       "        vertical-align: top;\n",
       "    }\n",
       "</style>\n",
       "<table border=\"1\" class=\"dataframe\">\n",
       "  <thead>\n",
       "    <tr style=\"text-align: right;\">\n",
       "      <th></th>\n",
       "      <th>count_asec_appointments</th>\n",
       "      <th>count_all_appointments</th>\n",
       "    </tr>\n",
       "    <tr>\n",
       "      <th>neighborhood</th>\n",
       "      <th></th>\n",
       "      <th></th>\n",
       "    </tr>\n",
       "  </thead>\n",
       "  <tbody>\n",
       "    <tr>\n",
       "      <th>jardim camburi</th>\n",
       "      <td>7182</td>\n",
       "      <td>7717.0</td>\n",
       "    </tr>\n",
       "    <tr>\n",
       "      <th>maria ortiz</th>\n",
       "      <td>5692</td>\n",
       "      <td>5805.0</td>\n",
       "    </tr>\n",
       "    <tr>\n",
       "      <th>resistência</th>\n",
       "      <td>3676</td>\n",
       "      <td>4431.0</td>\n",
       "    </tr>\n",
       "    <tr>\n",
       "      <th>jardim da penha</th>\n",
       "      <td>2853</td>\n",
       "      <td>3877.0</td>\n",
       "    </tr>\n",
       "    <tr>\n",
       "      <th>itararé</th>\n",
       "      <td>2791</td>\n",
       "      <td>3514.0</td>\n",
       "    </tr>\n",
       "    <tr>\n",
       "      <th>centro</th>\n",
       "      <td>2612</td>\n",
       "      <td>3334.0</td>\n",
       "    </tr>\n",
       "    <tr>\n",
       "      <th>tabuazeiro</th>\n",
       "      <td>2528</td>\n",
       "      <td>3132.0</td>\n",
       "    </tr>\n",
       "    <tr>\n",
       "      <th>jabour</th>\n",
       "      <td>2424</td>\n",
       "      <td>2509.0</td>\n",
       "    </tr>\n",
       "    <tr>\n",
       "      <th>jesus de nazareth</th>\n",
       "      <td>2411</td>\n",
       "      <td>2853.0</td>\n",
       "    </tr>\n",
       "    <tr>\n",
       "      <th>santa martha</th>\n",
       "      <td>2393</td>\n",
       "      <td>3131.0</td>\n",
       "    </tr>\n",
       "  </tbody>\n",
       "</table>\n",
       "</div>"
      ],
      "text/plain": [
       "                   count_asec_appointments  count_all_appointments\n",
       "neighborhood                                                      \n",
       "jardim camburi                        7182                  7717.0\n",
       "maria ortiz                           5692                  5805.0\n",
       "resistência                           3676                  4431.0\n",
       "jardim da penha                       2853                  3877.0\n",
       "itararé                               2791                  3514.0\n",
       "centro                                2612                  3334.0\n",
       "tabuazeiro                            2528                  3132.0\n",
       "jabour                                2424                  2509.0\n",
       "jesus de nazareth                     2411                  2853.0\n",
       "santa martha                          2393                  3131.0"
      ]
     },
     "execution_count": 252,
     "metadata": {},
     "output_type": "execute_result"
    }
   ],
   "source": [
    "df_asec.head(10)"
   ]
  },
  {
   "cell_type": "code",
   "execution_count": 253,
   "metadata": {
    "collapsed": true
   },
   "outputs": [],
   "source": [
    "dfc_asec_m = [dfc_asec['count_asec_appointments'].mean()]"
   ]
  },
  {
   "cell_type": "code",
   "execution_count": 254,
   "metadata": {},
   "outputs": [
    {
     "name": "stdout",
     "output_type": "stream",
     "text": [
      "[2190.0625]\n"
     ]
    }
   ],
   "source": [
    "print(dfc_asec_m)"
   ]
  },
  {
   "cell_type": "code",
   "execution_count": 255,
   "metadata": {
    "collapsed": true
   },
   "outputs": [],
   "source": [
    "c_asec_heights = dfc_asec['count_asec_appointments'].head(10).tolist()"
   ]
  },
  {
   "cell_type": "code",
   "execution_count": 256,
   "metadata": {
    "collapsed": true
   },
   "outputs": [],
   "source": [
    "c_asec_heights = c_asec_heights + dfc_asec_m"
   ]
  },
  {
   "cell_type": "code",
   "execution_count": 257,
   "metadata": {
    "collapsed": true
   },
   "outputs": [],
   "source": [
    "c_asec_labels = dfc_asec.index.format()[0:10]"
   ]
  },
  {
   "cell_type": "code",
   "execution_count": 258,
   "metadata": {
    "collapsed": true
   },
   "outputs": [],
   "source": [
    "c_asec_labels = c_asec_labels + ['All']"
   ]
  },
  {
   "cell_type": "code",
   "execution_count": 259,
   "metadata": {},
   "outputs": [
    {
     "data": {
      "image/png": "[encoded data removed]",
      "text/plain": [
       "<matplotlib.figure.Figure at 0x121c1f4a8>"
      ]
     },
     "metadata": {},
     "output_type": "display_data"
    }
   ],
   "source": [
    "# Bar chart of results from count of patients within 'asec' who made appointments in each 'neighborhood'\n",
    "c_asec_locations = [1, 2, 3, 4, 5, 6, 7, 8, 9, 10, 11]\n",
    "c_asec_heights = c_asec_heights\n",
    "c_asec_labels = c_asec_labels\n",
    "plt.bar(c_asec_locations, c_asec_heights)\n",
    "plt.title('Number of Appointments by Patients who are in the \\n Adult Age-Group, Receive Scholarship, or Have \"No Existing Condition\"\\n in Each Neighborhood')\n",
    "plt.xlabel('Neighborhood')\n",
    "plt.xticks(c_asec_locations, c_asec_labels, rotation=90)\n",
    "plt.ylabel('Number of Appointments');"
   ]
  },
  {
   "cell_type": "markdown",
   "metadata": {},
   "source": [
    "Above is the chart of the 10 neighborhoods who receive the highest number of patients who are \"Adults\", recive \"Scholarship\" or have \"No Existing Conditions\" who make appointments in each \"Neighborhood.\" Each \"Neighborhood\" receives 2,393 or more appointments for patients in this group compared to the mean of 2,190 appointments by patients with in these groups across all \"Neighborhoods\".\n",
    "\n",
    "Now, the proportion of appointments for patients in all these groups will be analyzed. The proportion of appointments by patients in these groups in each \"Neighborhood\" will be compared to the overall proportion of appointments for these patients in all \"Neighborhoods.\""
   ]
  },
  {
   "cell_type": "code",
   "execution_count": 260,
   "metadata": {
    "collapsed": true
   },
   "outputs": [],
   "source": [
    "# Divide 'count_asec_appointments' by 'count_all_appointments'\n",
    "df_asec['proportion_asec_appointments'] = df_asec['count_asec_appointments'] / df_asec['count_all_appointments']"
   ]
  },
  {
   "cell_type": "code",
   "execution_count": 261,
   "metadata": {
    "collapsed": true
   },
   "outputs": [],
   "source": [
    "# Rename df_asec to create dfc_asec for the proportion of 'adult', 'scholarship', and 'existing_condition'\n",
    "dfp_asec = df_asec"
   ]
  },
  {
   "cell_type": "code",
   "execution_count": 262,
   "metadata": {
    "collapsed": true
   },
   "outputs": [],
   "source": [
    "# Sort values by column 'propoortion_asec_appointments'\n",
    "dfp_asec = dfp_asec.sort_values(by = 'proportion_asec_appointments', ascending = False);"
   ]
  },
  {
   "cell_type": "code",
   "execution_count": 263,
   "metadata": {},
   "outputs": [
    {
     "data": {
      "text/html": [
       "<div>\n",
       "<style>\n",
       "    .dataframe thead tr:only-child th {\n",
       "        text-align: right;\n",
       "    }\n",
       "\n",
       "    .dataframe thead th {\n",
       "        text-align: left;\n",
       "    }\n",
       "\n",
       "    .dataframe tbody tr th {\n",
       "        vertical-align: top;\n",
       "    }\n",
       "</style>\n",
       "<table border=\"1\" class=\"dataframe\">\n",
       "  <thead>\n",
       "    <tr style=\"text-align: right;\">\n",
       "      <th></th>\n",
       "      <th>count_asec_appointments</th>\n",
       "      <th>count_all_appointments</th>\n",
       "      <th>proportion_asec_appointments</th>\n",
       "    </tr>\n",
       "    <tr>\n",
       "      <th>neighborhood</th>\n",
       "      <th></th>\n",
       "      <th></th>\n",
       "      <th></th>\n",
       "    </tr>\n",
       "  </thead>\n",
       "  <tbody>\n",
       "    <tr>\n",
       "      <th>maria ortiz</th>\n",
       "      <td>5692</td>\n",
       "      <td>5805.0</td>\n",
       "      <td>0.980534</td>\n",
       "    </tr>\n",
       "    <tr>\n",
       "      <th>ilha de santa maria</th>\n",
       "      <td>1845</td>\n",
       "      <td>1885.0</td>\n",
       "      <td>0.978780</td>\n",
       "    </tr>\n",
       "    <tr>\n",
       "      <th>jabour</th>\n",
       "      <td>2424</td>\n",
       "      <td>2509.0</td>\n",
       "      <td>0.966122</td>\n",
       "    </tr>\n",
       "    <tr>\n",
       "      <th>jardim camburi</th>\n",
       "      <td>7182</td>\n",
       "      <td>7717.0</td>\n",
       "      <td>0.930673</td>\n",
       "    </tr>\n",
       "    <tr>\n",
       "      <th>jesus de nazareth</th>\n",
       "      <td>2411</td>\n",
       "      <td>2853.0</td>\n",
       "      <td>0.845075</td>\n",
       "    </tr>\n",
       "    <tr>\n",
       "      <th>forte são joão</th>\n",
       "      <td>1589</td>\n",
       "      <td>1889.0</td>\n",
       "      <td>0.841186</td>\n",
       "    </tr>\n",
       "    <tr>\n",
       "      <th>gurigica</th>\n",
       "      <td>1680</td>\n",
       "      <td>2018.0</td>\n",
       "      <td>0.832507</td>\n",
       "    </tr>\n",
       "    <tr>\n",
       "      <th>resistência</th>\n",
       "      <td>3676</td>\n",
       "      <td>4431.0</td>\n",
       "      <td>0.829610</td>\n",
       "    </tr>\n",
       "    <tr>\n",
       "      <th>são benedito</th>\n",
       "      <td>1191</td>\n",
       "      <td>1439.0</td>\n",
       "      <td>0.827658</td>\n",
       "    </tr>\n",
       "    <tr>\n",
       "      <th>santo andré</th>\n",
       "      <td>2124</td>\n",
       "      <td>2571.0</td>\n",
       "      <td>0.826138</td>\n",
       "    </tr>\n",
       "  </tbody>\n",
       "</table>\n",
       "</div>"
      ],
      "text/plain": [
       "                     count_asec_appointments  count_all_appointments  \\\n",
       "neighborhood                                                           \n",
       "maria ortiz                             5692                  5805.0   \n",
       "ilha de santa maria                     1845                  1885.0   \n",
       "jabour                                  2424                  2509.0   \n",
       "jardim camburi                          7182                  7717.0   \n",
       "jesus de nazareth                       2411                  2853.0   \n",
       "forte são joão                          1589                  1889.0   \n",
       "gurigica                                1680                  2018.0   \n",
       "resistência                             3676                  4431.0   \n",
       "são benedito                            1191                  1439.0   \n",
       "santo andré                             2124                  2571.0   \n",
       "\n",
       "                     proportion_asec_appointments  \n",
       "neighborhood                                       \n",
       "maria ortiz                              0.980534  \n",
       "ilha de santa maria                      0.978780  \n",
       "jabour                                   0.966122  \n",
       "jardim camburi                           0.930673  \n",
       "jesus de nazareth                        0.845075  \n",
       "forte são joão                           0.841186  \n",
       "gurigica                                 0.832507  \n",
       "resistência                              0.829610  \n",
       "são benedito                             0.827658  \n",
       "santo andré                              0.826138  "
      ]
     },
     "execution_count": 263,
     "metadata": {},
     "output_type": "execute_result"
    }
   ],
   "source": [
    "dfp_asec.head(10)"
   ]
  },
  {
   "cell_type": "code",
   "execution_count": 264,
   "metadata": {
    "collapsed": true
   },
   "outputs": [],
   "source": [
    "dfp_asec_m = [dfp_asec['proportion_asec_appointments'].mean()]"
   ]
  },
  {
   "cell_type": "code",
   "execution_count": 265,
   "metadata": {},
   "outputs": [
    {
     "name": "stdout",
     "output_type": "stream",
     "text": [
      "[0.808276283639208]\n"
     ]
    }
   ],
   "source": [
    "print(dfp_asec_m)"
   ]
  },
  {
   "cell_type": "code",
   "execution_count": 266,
   "metadata": {
    "collapsed": true
   },
   "outputs": [],
   "source": [
    "p_asec_heights = dfp_asec['proportion_asec_appointments'].head(10).tolist()"
   ]
  },
  {
   "cell_type": "code",
   "execution_count": 267,
   "metadata": {
    "collapsed": true
   },
   "outputs": [],
   "source": [
    "p_asec_heights = p_asec_heights + dfp_asec_m"
   ]
  },
  {
   "cell_type": "code",
   "execution_count": 268,
   "metadata": {
    "collapsed": true
   },
   "outputs": [],
   "source": [
    "p_asec_labels = dfp_asec.index.format()[0:10]"
   ]
  },
  {
   "cell_type": "code",
   "execution_count": 269,
   "metadata": {
    "collapsed": true
   },
   "outputs": [],
   "source": [
    "p_asec_labels = p_asec_labels + ['All']"
   ]
  },
  {
   "cell_type": "code",
   "execution_count": 270,
   "metadata": {
    "scrolled": false
   },
   "outputs": [
    {
     "data": {
      "image/png": "[encoded data removed]",
      "text/plain": [
       "<matplotlib.figure.Figure at 0x120cc7668>"
      ]
     },
     "metadata": {},
     "output_type": "display_data"
    }
   ],
   "source": [
    "# Bar chart of results from proportion of patients within 'asec' group who made appointments in each 'neighborhood'\n",
    "p_asec_locations = [1, 2, 3, 4, 5, 6, 7, 8, 9, 10, 11]\n",
    "p_asec_heights = p_asec_heights\n",
    "p_asec_labels = p_asec_labels\n",
    "plt.bar(p_asec_locations, p_asec_heights)\n",
    "plt.title('Proportion of Appointments by Patients who are in the \\n Adult Age-Group, Receive Scholarship, or Have \"No Existing Condition\"\\n in Each Neighborhood')\n",
    "plt.xlabel('Neighborhood')\n",
    "plt.xticks(p_asec_locations, p_asec_labels, rotation=90)\n",
    "plt.ylabel('Proportion of Appointments');"
   ]
  },
  {
   "cell_type": "markdown",
   "metadata": {},
   "source": [
    "Preliminary analysis of all three independent variables (\"Adult\", \"Scholarship\", \"No Existing Condition\") combined suggests resources to understand and limit \"no-show\" appointments may be well utilized at the neighborhood Maria Ortiz. Maria Ortiz ranks 2nd in the number of appointments by patients with any of the three variables with 5,692 compared to an average of 2,190 and 1st in proportion with 98.1% compared to an average of 80.8%. Maria Ortiz is the highest rank neighborhood which appears in the top 10 values of count and proportion of patients.\n",
    "\n",
    "Finally, all 8 data sets analyzed so far will be concatonated to see which \"Neighborhood\" appeared most frequently on within the top 10 of all \"Neighborhood\" count and proportion tables."
   ]
  },
  {
   "cell_type": "code",
   "execution_count": 271,
   "metadata": {
    "collapsed": true
   },
   "outputs": [],
   "source": [
    "# Table of neighborhoods who appeared in the top 10 of more than 1 list\n",
    "dfc_asec = dfc_asec.head(10)\n",
    "dfc_excon = dfc_excon.head(10)\n",
    "dfc_scholarship = dfc_scholarship.head(10)\n",
    "dfc_adult = dfc_adult.head(10)\n",
    "dfp_asec = dfp_asec.head(10)\n",
    "dfp_excon = dfp_excon.head(10)\n",
    "dfp_scholarship = dfp_scholarship.head(10)\n",
    "dfp_adult = dfp_adult.head(10)"
   ]
  },
  {
   "cell_type": "code",
   "execution_count": 272,
   "metadata": {
    "collapsed": true
   },
   "outputs": [],
   "source": [
    "# Table of neighborhoods who appeared in the top 10 of more than 1 list\n",
    "df_all = dfc_asec.append([dfc_excon, dfc_scholarship, dfc_adult, dfp_asec, dfp_excon, dfp_scholarship, dfp_adult]).reset_index()"
   ]
  },
  {
   "cell_type": "code",
   "execution_count": 273,
   "metadata": {
    "collapsed": true
   },
   "outputs": [],
   "source": [
    "df_all = df_all[['neighborhood']]"
   ]
  },
  {
   "cell_type": "code",
   "execution_count": 274,
   "metadata": {
    "collapsed": true
   },
   "outputs": [],
   "source": [
    "df_all = df_all.neighborhood.value_counts().to_frame().reset_index()"
   ]
  },
  {
   "cell_type": "code",
   "execution_count": 275,
   "metadata": {
    "collapsed": true
   },
   "outputs": [],
   "source": [
    "df_all = df_all.rename(index=str, columns={'index': 'neighborhood', \"neighborhood\": \"count\"});"
   ]
  },
  {
   "cell_type": "code",
   "execution_count": 276,
   "metadata": {
    "scrolled": false
   },
   "outputs": [
    {
     "data": {
      "text/html": [
       "<div>\n",
       "<style>\n",
       "    .dataframe thead tr:only-child th {\n",
       "        text-align: right;\n",
       "    }\n",
       "\n",
       "    .dataframe thead th {\n",
       "        text-align: left;\n",
       "    }\n",
       "\n",
       "    .dataframe tbody tr th {\n",
       "        vertical-align: top;\n",
       "    }\n",
       "</style>\n",
       "<table border=\"1\" class=\"dataframe\">\n",
       "  <thead>\n",
       "    <tr style=\"text-align: right;\">\n",
       "      <th></th>\n",
       "      <th>neighborhood</th>\n",
       "      <th>count</th>\n",
       "    </tr>\n",
       "  </thead>\n",
       "  <tbody>\n",
       "    <tr>\n",
       "      <th>0</th>\n",
       "      <td>resistência</td>\n",
       "      <td>7</td>\n",
       "    </tr>\n",
       "    <tr>\n",
       "      <th>1</th>\n",
       "      <td>tabuazeiro</td>\n",
       "      <td>5</td>\n",
       "    </tr>\n",
       "    <tr>\n",
       "      <th>2</th>\n",
       "      <td>jesus de nazareth</td>\n",
       "      <td>5</td>\n",
       "    </tr>\n",
       "    <tr>\n",
       "      <th>3</th>\n",
       "      <td>santa martha</td>\n",
       "      <td>5</td>\n",
       "    </tr>\n",
       "    <tr>\n",
       "      <th>4</th>\n",
       "      <td>maria ortiz</td>\n",
       "      <td>5</td>\n",
       "    </tr>\n",
       "    <tr>\n",
       "      <th>5</th>\n",
       "      <td>jardim camburi</td>\n",
       "      <td>5</td>\n",
       "    </tr>\n",
       "    <tr>\n",
       "      <th>6</th>\n",
       "      <td>gurigica</td>\n",
       "      <td>4</td>\n",
       "    </tr>\n",
       "    <tr>\n",
       "      <th>7</th>\n",
       "      <td>centro</td>\n",
       "      <td>4</td>\n",
       "    </tr>\n",
       "    <tr>\n",
       "      <th>8</th>\n",
       "      <td>jabour</td>\n",
       "      <td>4</td>\n",
       "    </tr>\n",
       "    <tr>\n",
       "      <th>9</th>\n",
       "      <td>são benedito</td>\n",
       "      <td>4</td>\n",
       "    </tr>\n",
       "  </tbody>\n",
       "</table>\n",
       "</div>"
      ],
      "text/plain": [
       "        neighborhood  count\n",
       "0        resistência      7\n",
       "1         tabuazeiro      5\n",
       "2  jesus de nazareth      5\n",
       "3       santa martha      5\n",
       "4        maria ortiz      5\n",
       "5     jardim camburi      5\n",
       "6           gurigica      4\n",
       "7             centro      4\n",
       "8             jabour      4\n",
       "9       são benedito      4"
      ]
     },
     "execution_count": 276,
     "metadata": {},
     "output_type": "execute_result"
    }
   ],
   "source": [
    "df_all.head(10)"
   ]
  },
  {
   "cell_type": "markdown",
   "metadata": {},
   "source": [
    "According to the table above, the \"Neighborhood\" Resistência appeared most frequently within the top 10 for all variables considered."
   ]
  },
  {
   "cell_type": "markdown",
   "metadata": {},
   "source": [
    "<a id='conclusions'></a>\n",
    "## Conclusions"
   ]
  },
  {
   "cell_type": "markdown",
   "metadata": {},
   "source": [
    "The groups which stood out for further investigation are patients who are in the age-group \"Adults\", patients who receive \"Scholarship\", and patients who have \"No Existing Condition.\" More elaborate statistical models should be used to confirm whether or not these traits can be associated with a \"no-show\" appointment.\n",
    "\n",
    "The neighborhood where these three groups most often schedule appointments was examined. The hospital located in the \"Neighborhood\" Resistência stood out among others as the strongest candidate for further study and potential experimental intervention in the prevention of \"no-shows.\" Resistência appeared 7 times within the top 10 of neighborhoods who scheduled the most appointments for the groups identified earlier as potentially being associated with \"no-show\" appointments.\n",
    "\n",
    "Further investigation must be done to fully understand the data analyzed within this report. Care must be given to critique the data associated with the column 'existing_condition' as this variable heavy weighed the final analysis.\n",
    "\n",
    "\"No-show\" appointments misappropriate resources resulting in the mis-use of healthcare funds. In order limit the misuse of medical practicitioners' time and healthcare providers' resources, preliminary analysis of \"no-show\" data was conducted. While causation cannot be drawn from this analysis, patterns arose which warrant further statistical investigation."
   ]
  },
  {
   "cell_type": "markdown",
   "metadata": {},
   "source": [
    "## Resources\n",
    "- https://www.kaggle.com/joniarroba/noshowappointments\n",
    "- https://data.worldbank.org/indicator/SH.XPD.PCAP?end=2014&start=1995&view=chart\n",
    "- https://data.worldbank.org/indicator/NY.GDP.PCAP.CD?view=chart\n",
    "- https://www.cms.gov/Research-Statistics-Data-and-Systems/Statistics-Trends-and-Reports/NationalHealthExpendData/Age-and-Gender.html\n",
    "- https://stackoverflow.com/\n",
    "- http://pandas.pydata.org/\n",
    "- https://matplotlib.org/\n",
    "- https://docs.scipy.org/doc/\n",
    "- https://chrisalbon.com/"
   ]
  },
  {
   "cell_type": "code",
   "execution_count": null,
   "metadata": {
    "collapsed": true
   },
   "outputs": [],
   "source": []
  }
 ],
 "metadata": {
  "kernelspec": {
   "display_name": "Python 3",
   "language": "python",
   "name": "python3"
  },
  "language_info": {
   "codemirror_mode": {
    "name": "ipython",
    "version": 3
   },
   "file_extension": ".py",
   "mimetype": "text/x-python",
   "name": "python",
   "nbconvert_exporter": "python",
   "pygments_lexer": "ipython3",
   "version": "3.7.1"
  }
 },
 "nbformat": 4,
 "nbformat_minor": 2
}
